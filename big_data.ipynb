{
  "cells": [
    {
      "cell_type": "code",
      "execution_count": null,
      "metadata": {
        "colab": {
          "base_uri": "https://localhost:8080/"
        },
        "id": "j340go2y8Qgf",
        "outputId": "db0b607a-23a2-407e-e99a-6e3c67a9e671"
      },
      "outputs": [
        {
          "output_type": "stream",
          "name": "stdout",
          "text": [
            "Collecting pyspark\n",
            "  Downloading pyspark-3.5.0.tar.gz (316.9 MB)\n",
            "\u001b[2K     \u001b[90m━━━━━━━━━━━━━━━━━━━━━━━━━━━━━━━━━━━━━━━━\u001b[0m \u001b[32m316.9/316.9 MB\u001b[0m \u001b[31m1.3 MB/s\u001b[0m eta \u001b[36m0:00:00\u001b[0m\n",
            "\u001b[?25h  Preparing metadata (setup.py) ... \u001b[?25l\u001b[?25hdone\n",
            "Requirement already satisfied: py4j==0.10.9.7 in /usr/local/lib/python3.10/dist-packages (from pyspark) (0.10.9.7)\n",
            "Building wheels for collected packages: pyspark\n",
            "  Building wheel for pyspark (setup.py) ... \u001b[?25l\u001b[?25hdone\n",
            "  Created wheel for pyspark: filename=pyspark-3.5.0-py2.py3-none-any.whl size=317425345 sha256=aff35fca015f78fb9f2fd5c6fbf6ca5f006a873b73c906e8fea73c296c356313\n",
            "  Stored in directory: /root/.cache/pip/wheels/41/4e/10/c2cf2467f71c678cfc8a6b9ac9241e5e44a01940da8fbb17fc\n",
            "Successfully built pyspark\n",
            "Installing collected packages: pyspark\n",
            "Successfully installed pyspark-3.5.0\n"
          ]
        }
      ],
      "source": [
        "import matplotlib.pyplot as plt\n",
        "import seaborn as sns\n",
        "import pandas as pd\n",
        "from pandas import *\n",
        "import numpy as np\n",
        "import plotly.express as ex\n",
        "import plotly.graph_objs as go\n",
        "import plotly.figure_factory as ff\n",
        "from plotly.subplots import make_subplots\n",
        "import plotly.offline as pyo\n",
        "import time\n",
        "!pip install pyspark\n",
        "from pyspark.sql import SparkSession\n",
        "from pyspark.sql.functions import count, when, isnan, col, regexp_replace, length\n",
        "from pyspark.sql.types import *"
      ]
    },
    {
      "cell_type": "code",
      "execution_count": null,
      "metadata": {
        "colab": {
          "base_uri": "https://localhost:8080/"
        },
        "id": "_GFyoPoj703f",
        "outputId": "57c9eb03-0ab9-45dd-b317-88073d3f0ac9"
      },
      "outputs": [
        {
          "output_type": "stream",
          "name": "stdout",
          "text": [
            "Mounted at /content/gdrive\n"
          ]
        },
        {
          "output_type": "execute_result",
          "data": {
            "text/plain": [
              "1924"
            ]
          },
          "metadata": {},
          "execution_count": 2
        }
      ],
      "source": [
        "from google.colab import drive\n",
        "drive.mount('/content/gdrive')\n",
        "\n",
        "spark = SparkSession.builder.appName(\"example\").getOrCreate()\n",
        "\n",
        "\n",
        "file_path = 'gdrive/My Drive/BigData/Final/Top2000CompaniesGlobally.csv'\n",
        "data = spark.read.format(\"csv\")\\\n",
        "        .option(\"header\",\"true\")\\\n",
        "        .option(\"inferSchema\",\"true\")\\\n",
        "        .load(file_path)\n",
        "data.count()"
      ]
    },
    {
      "cell_type": "code",
      "execution_count": null,
      "metadata": {
        "colab": {
          "base_uri": "https://localhost:8080/"
        },
        "id": "Bt1AGRHn3ktM",
        "outputId": "1b1b6742-d0a5-49de-ee68-6abd0788d259"
      },
      "outputs": [
        {
          "output_type": "stream",
          "name": "stdout",
          "text": [
            "+-----------+--------------------+----------------+------------------+-----------------+-----------------------+---------------+-------------+----------+----------+\n",
            "|Global Rank|             Company|Sales ($billion)|Profits ($billion)|Assets ($billion)|Market Value ($billion)|        Country|    Continent|  Latitude| Longitude|\n",
            "+-----------+--------------------+----------------+------------------+-----------------+-----------------------+---------------+-------------+----------+----------+\n",
            "|          1|                ICBC|           134.8|              37.8|           2813.5|                  237.3|          China|         Asia|  35.86166|104.195397|\n",
            "|          2|China Constructio...|           113.1|              30.6|           2241.0|                  202.0|          China|         Asia|  35.86166|104.195397|\n",
            "|          3|      JPMorgan Chase|           108.2|              21.3|           2359.1|                  191.4|            USA|North America|  37.09024|-95.712891|\n",
            "|          4|    General Electric|           147.4|              13.6|            685.3|                  243.7|            USA|North America|  37.09024|-95.712891|\n",
            "|          5|         Exxon Mobil|           420.7|              44.9|            333.8|                  400.4|            USA|North America|  37.09024|-95.712891|\n",
            "|          6|       HSBC Holdings|           104.9|              14.3|           2684.1|                  201.3|             UK|       Europe| 55.378051| -3.435973|\n",
            "|          7|   Royal Dutch Shell|           467.2|              26.6|            360.3|                  213.1|The Netherlands|       Europe| 52.132633|  5.291266|\n",
            "|          8|Agricultural Bank...|           103.0|              23.0|           2124.2|                  150.8|          China|         Asia|  35.86166|104.195397|\n",
            "|          9|          PetroChina|           308.9|              18.3|            347.8|                  261.2|          China|         Asia|  35.86166|104.195397|\n",
            "|          9|  Berkshire Hathaway|           162.5|              14.8|            427.5|                  252.8|            USA|North America|  37.09024|-95.712891|\n",
            "|         11|       Bank of China|            98.1|              22.1|           2033.8|                  131.7|          China|         Asia|  35.86166|104.195397|\n",
            "|         12|         Wells Fargo|            91.2|              18.9|           1423.0|                  201.3|            USA|North America|  37.09024|-95.712891|\n",
            "|         13|             Chevron|           222.6|              26.2|            233.0|                  232.5|            USA|North America|  37.09024|-95.712891|\n",
            "|         14|    Volkswagen Group|           254.0|              28.6|            408.2|                   94.4|        Germany|       Europe| 51.165691| 10.451526|\n",
            "|         15|     Wal-Mart Stores|           469.2|              17.0|            203.1|                  242.5|            USA|North America|  37.09024|-95.712891|\n",
            "|         15|               Apple|           164.7|              41.7|            196.1|                  416.6|            USA|North America|  37.09024|-95.712891|\n",
            "|         17|             Gazprom|           144.0|              40.6|            339.3|                  111.4|         Russia|       Europe|  61.52401|105.318756|\n",
            "|         18|                  BP|           370.9|              11.6|            301.0|                  130.4|             UK|       Europe| 55.378051| -3.435973|\n",
            "|         19|           Citigroup|            90.7|               7.5|           1864.7|                  143.6|            USA|North America|  37.09024|-95.712891|\n",
            "|         20|           Petrobras|           144.1|              11.0|            331.6|                  120.7|         Brazil|South America|-14.235004| -51.92528|\n",
            "+-----------+--------------------+----------------+------------------+-----------------+-----------------------+---------------+-------------+----------+----------+\n",
            "only showing top 20 rows\n",
            "\n"
          ]
        }
      ],
      "source": [
        "data.show()"
      ]
    },
    {
      "cell_type": "code",
      "execution_count": null,
      "metadata": {
        "colab": {
          "base_uri": "https://localhost:8080/"
        },
        "id": "oH2F7rRD4Azz",
        "outputId": "37c21d53-1a37-42a2-b026-49a426c18bbf"
      },
      "outputs": [
        {
          "output_type": "stream",
          "name": "stdout",
          "text": [
            "root\n",
            " |-- Global Rank: integer (nullable = true)\n",
            " |-- Company: string (nullable = true)\n",
            " |-- Sales ($billion): double (nullable = true)\n",
            " |-- Profits ($billion): double (nullable = true)\n",
            " |-- Assets ($billion): double (nullable = true)\n",
            " |-- Market Value ($billion): double (nullable = true)\n",
            " |-- Country: string (nullable = true)\n",
            " |-- Continent: string (nullable = true)\n",
            " |-- Latitude: double (nullable = true)\n",
            " |-- Longitude: double (nullable = true)\n",
            "\n"
          ]
        }
      ],
      "source": [
        "data.printSchema()"
      ]
    },
    {
      "cell_type": "code",
      "execution_count": null,
      "metadata": {
        "colab": {
          "base_uri": "https://localhost:8080/"
        },
        "id": "PwRYbcXg4GyO",
        "outputId": "0a465ba6-9c8e-4429-bb0e-e9f6c14299e5"
      },
      "outputs": [
        {
          "output_type": "stream",
          "name": "stdout",
          "text": [
            "+-------+-----------------+--------------------+------------------+------------------+-----------------+-----------------------+---------+-------------+------------------+------------------+\n",
            "|summary|      Global Rank|             Company|  Sales ($billion)|Profits ($billion)|Assets ($billion)|Market Value ($billion)|  Country|    Continent|          Latitude|         Longitude|\n",
            "+-------+-----------------+--------------------+------------------+------------------+-----------------+-----------------------+---------+-------------+------------------+------------------+\n",
            "|  count|             1924|                1924|              1924|              1924|             1924|                   1924|     1924|         1924|              1924|              1924|\n",
            "|   mean|997.2328482328483|                NULL|19.265904365904273|1.2260395010395047|79.50779625779606|     19.558160083160104|     NULL|         NULL|34.618746549376155|15.455664304573906|\n",
            "| stddev|575.5027807871161|                NULL| 34.68391064277543|3.4138308377185993| 261.098774585391|      32.95702335461456|     NULL|         NULL| 18.25949871288175| 92.63965491779362|\n",
            "|    min|                1|                  3M|               0.0|             -24.5|              1.0|                    0.0|Australia|       Africa|        -40.900557|       -106.346771|\n",
            "|    max|             1999|Zoomlion Heavy In...|             469.2|              44.9|           3226.2|                  416.6|  Vietnam|South America|          61.92411|        174.885971|\n",
            "+-------+-----------------+--------------------+------------------+------------------+-----------------+-----------------------+---------+-------------+------------------+------------------+\n",
            "\n"
          ]
        }
      ],
      "source": [
        "data.describe().show()"
      ]
    },
    {
      "cell_type": "code",
      "execution_count": null,
      "metadata": {
        "colab": {
          "base_uri": "https://localhost:8080/"
        },
        "id": "skndQkmO4MRa",
        "outputId": "477b36cf-32b1-4a96-da23-b81361ef4faa"
      },
      "outputs": [
        {
          "output_type": "stream",
          "name": "stdout",
          "text": [
            "+-----------+-------+----------------+------------------+-----------------+-----------------------+-------+---------+--------+---------+\n",
            "|Global Rank|Company|Sales ($billion)|Profits ($billion)|Assets ($billion)|Market Value ($billion)|Country|Continent|Latitude|Longitude|\n",
            "+-----------+-------+----------------+------------------+-----------------+-----------------------+-------+---------+--------+---------+\n",
            "|          0|      0|               0|                 0|                0|                      0|      0|        0|       0|        0|\n",
            "+-----------+-------+----------------+------------------+-----------------+-----------------------+-------+---------+--------+---------+\n",
            "\n"
          ]
        }
      ],
      "source": [
        "data.select([count(when(isnan(c) | col(c).isNull(), c)).alias(c) for c in data.columns]).show()"
      ]
    },
    {
      "cell_type": "code",
      "execution_count": null,
      "metadata": {
        "id": "2jDx0zjG5Et4"
      },
      "outputs": [],
      "source": [
        "data.createOrReplaceTempView(\"data\")"
      ]
    },
    {
      "cell_type": "code",
      "execution_count": null,
      "metadata": {
        "colab": {
          "base_uri": "https://localhost:8080/"
        },
        "id": "PAWMYUmi5JDe",
        "outputId": "53923874-f01c-49f6-95e5-410ebe01c457"
      },
      "outputs": [
        {
          "output_type": "stream",
          "name": "stdout",
          "text": [
            "+-----+-----------+\n",
            "| Sale|MarketValue|\n",
            "+-----+-----------+\n",
            "|134.8|      237.3|\n",
            "|113.1|      202.0|\n",
            "|108.2|      191.4|\n",
            "|147.4|      243.7|\n",
            "|420.7|      400.4|\n",
            "+-----+-----------+\n",
            "only showing top 5 rows\n",
            "\n"
          ]
        }
      ],
      "source": [
        "df = spark.sql(\"SELECT `Sales ($billion)` as Sale,`Market Value ($billion)` as MarketValue FROM data\")\n",
        "df.show(5)"
      ]
    },
    {
      "cell_type": "code",
      "execution_count": null,
      "metadata": {
        "colab": {
          "base_uri": "https://localhost:8080/"
        },
        "id": "JslhyDUMOQEB",
        "outputId": "9ae5d6d2-025f-48bf-87a7-c2df49aead34"
      },
      "outputs": [
        {
          "output_type": "stream",
          "name": "stdout",
          "text": [
            "+----+\n",
            "|Sale|\n",
            "+----+\n",
            "|0.0 |\n",
            "|0.2 |\n",
            "|0.3 |\n",
            "|0.4 |\n",
            "|0.5 |\n",
            "|0.6 |\n",
            "|0.7 |\n",
            "|0.8 |\n",
            "|0.9 |\n",
            "|1.0 |\n",
            "+----+\n",
            "only showing top 10 rows\n",
            "\n"
          ]
        }
      ],
      "source": [
        "df.select('Sale').distinct().orderBy('Sales ($billion)').show(10, False)"
      ]
    },
    {
      "cell_type": "code",
      "execution_count": null,
      "metadata": {
        "colab": {
          "base_uri": "https://localhost:8080/"
        },
        "id": "wyHUyYlHOPxk",
        "outputId": "73f032a2-d683-4144-acf6-c912d49f6c4f"
      },
      "outputs": [
        {
          "output_type": "stream",
          "name": "stdout",
          "text": [
            "+-----------+\n",
            "|MarketValue|\n",
            "+-----------+\n",
            "|0.0        |\n",
            "|0.1        |\n",
            "|0.2        |\n",
            "|0.3        |\n",
            "|0.4        |\n",
            "|0.5        |\n",
            "|0.6        |\n",
            "|0.7        |\n",
            "|0.8        |\n",
            "|0.9        |\n",
            "+-----------+\n",
            "only showing top 10 rows\n",
            "\n"
          ]
        }
      ],
      "source": [
        "df.select('MarketValue').distinct().orderBy('Market Value ($billion)').show(10, False)"
      ]
    },
    {
      "cell_type": "code",
      "execution_count": null,
      "metadata": {
        "id": "t_7Xxsc2OPVN"
      },
      "outputs": [],
      "source": [
        "sales = df.rdd.map(lambda p: (p.Sale)).collect()"
      ]
    },
    {
      "cell_type": "code",
      "source": [
        "print(sales)"
      ],
      "metadata": {
        "colab": {
          "base_uri": "https://localhost:8080/"
        },
        "id": "_XsUckYeDPk5",
        "outputId": "48496c43-e3f5-493e-9077-6223e896004f"
      },
      "execution_count": null,
      "outputs": [
        {
          "output_type": "stream",
          "name": "stdout",
          "text": [
            "[134.8, 113.1, 108.2, 147.4, 420.7, 104.9, 467.2, 103.0, 308.9, 162.5, 98.1, 91.2, 222.6, 254.0, 469.2, 164.7, 144.0, 370.9, 90.7, 144.1, 187.8, 126.2, 240.5, 127.4, 140.3, 411.7, 59.0, 100.1, 88.8, 163.7, 224.5, 74.4, 104.5, 83.3, 150.8, 59.0, 126.8, 147.5, 47.8, 72.9, 70.5, 108.8, 72.2, 78.3, 126.9, 67.2, 43.9, 41.7, 38.3, 100.6, 47.3, 134.3, 43.5, 98.8, 62.6, 49.2, 68.8, 130.0, 36.1, 82.3, 65.7, 116.3, 90.2, 37.5, 69.0, 50.2, 103.9, 152.3, 30.6, 46.1, 58.4, 95.9, 39.8, 53.3, 32.8, 48.0, 47.3, 88.0, 47.3, 51.1, 27.6, 113.7, 96.0, 45.7, 65.5, 75.0, 110.6, 52.1, 57.7, 50.4, 128.0, 81.7, 65.9, 26.9, 174.2, 60.2, 28.4, 37.1, 67.7, 123.1, 102.8, 63.2, 27.9, 42.8, 33.8, 67.2, 39.2, 43.0, 132.1, 39.0, 39.7, 22.2, 116.8, 23.2, 42.3, 52.5, 70.3, 68.2, 39.9, 45.1, 25.4, 63.4, 24.4, 74.8, 166.1, 20.9, 60.5, 115.8, 74.5, 35.1, 31.3, 34.3, 44.9, 23.8, 77.7, 38.8, 18.7, 89.9, 111.9, 107.8, 73.3, 38.7, 28.6, 20.4, 24.3, 31.4, 28.7, 54.2, 28.9, 37.3, 43.3, 24.1, 17.1, 51.7, 19.3, 20.5, 16.6, 36.8, 75.0, 59.0, 57.4, 93.9, 35.3, 51.6, 27.8, 25.7, 54.4, 37.7, 28.9, 67.0, 21.7, 27.6, 40.1, 35.0, 33.3, 56.5, 39.6, 25.4, 23.4, 16.7, 20.9, 73.2, 24.6, 17.3, 56.8, 29.9, 15.1, 38.6, 139.2, 19.6, 43.1, 25.8, 61.7, 70.8, 31.6, 56.9, 76.7, 55.2, 56.9, 47.2, 46.7, 20.9, 103.1, 129.5, 39.4, 101.3, 39.5, 22.6, 14.4, 30.6, 58.9, 30.9, 50.5, 32.2, 76.5, 41.3, 17.4, 21.7, 16.5, 27.5, 21.0, 17.5, 16.1, 20.9, 43.2, 37.7, 90.6, 123.5, 32.9, 20.0, 13.5, 16.9, 14.4, 46.4, 38.9, 43.9, 11.5, 38.1, 15.4, 21.4, 16.3, 53.0, 19.2, 54.1, 17.1, 9.3, 18.0, 16.4, 23.5, 57.0, 28.5, 17.6, 73.7, 38.1, 10.9, 18.6, 13.4, 42.0, 84.8, 23.1, 56.4, 20.2, 18.0, 8.8, 14.1, 18.3, 17.6, 27.3, 28.9, 45.7, 18.2, 14.3, 13.2, 20.2, 22.6, 16.1, 31.2, 14.7, 22.5, 29.1, 19.8, 35.0, 10.1, 53.2, 15.0, 23.7, 20.0, 8.3, 34.2, 24.3, 55.0, 18.2, 44.0, 49.4, 24.7, 8.8, 47.1, 13.2, 10.7, 36.6, 46.3, 15.5, 10.7, 74.5, 21.8, 30.1, 15.6, 20.8, 20.6, 76.7, 21.7, 42.0, 26.3, 18.3, 15.6, 25.4, 24.8, 19.1, 23.9, 9.1, 12.4, 32.6, 9.5, 96.8, 11.2, 15.4, 14.9, 13.6, 9.8, 14.3, 25.3, 14.0, 7.2, 16.5, 16.3, 15.6, 18.5, 70.8, 24.4, 33.0, 21.1, 16.9, 28.3, 104.8, 13.3, 15.8, 18.3, 36.7, 25.2, 131.9, 17.9, 17.4, 65.1, 18.0, 18.4, 35.4, 14.2, 80.6, 17.2, 10.0, 21.4, 21.6, 12.3, 12.8, 48.8, 14.1, 13.2, 8.2, 15.2, 12.8, 12.8, 26.6, 27.8, 14.6, 12.3, 10.4, 75.6, 9.7, 15.6, 12.2, 11.8, 8.4, 15.0, 27.1, 55.7, 10.9, 17.1, 39.7, 21.1, 106.3, 8.0, 10.5, 12.8, 10.3, 17.0, 117.5, 20.9, 34.9, 11.0, 11.8, 12.0, 15.3, 16.2, 42.1, 27.7, 11.1, 64.1, 20.6, 12.5, 44.3, 16.9, 43.3, 11.3, 8.4, 12.5, 12.2, 76.9, 51.0, 116.7, 13.5, 118.7, 13.8, 10.4, 11.5, 14.6, 32.0, 9.4, 11.4, 6.3, 12.5, 9.9, 12.7, 13.8, 7.1, 71.5, 24.6, 14.0, 11.2, 22.4, 47.7, 51.2, 6.0, 5.2, 6.5, 7.1, 30.8, 39.1, 21.6, 6.3, 11.4, 22.2, 27.3, 17.0, 13.6, 11.5, 24.7, 10.0, 6.0, 25.9, 43.4, 8.1, 13.4, 21.9, 6.4, 13.0, 84.2, 18.1, 30.3, 6.3, 9.8, 10.1, 7.7, 14.1, 19.8, 13.2, 13.9, 11.0, 7.9, 9.0, 17.1, 9.6, 8.0, 9.9, 19.7, 39.4, 15.2, 78.5, 9.6, 18.0, 16.7, 17.3, 11.7, 14.2, 10.4, 4.0, 11.1, 11.5, 5.7, 18.6, 10.1, 35.7, 69.0, 29.4, 2.5, 6.0, 11.6, 61.1, 12.6, 9.2, 9.0, 13.6, 28.6, 16.3, 56.5, 22.4, 38.3, 54.0, 5.0, 4.0, 50.8, 14.0, 15.0, 6.2, 32.7, 15.2, 34.1, 20.8, 43.9, 11.9, 21.1, 14.2, 27.8, 11.7, 10.3, 14.5, 4.9, 94.8, 80.6, 5.4, 10.1, 5.9, 7.4, 8.3, 16.4, 15.1, 24.9, 34.4, 6.0, 11.5, 19.6, 15.6, 15.5, 19.1, 10.8, 42.2, 38.8, 28.8, 6.9, 9.9, 5.7, 21.2, 7.9, 26.5, 7.3, 13.1, 37.9, 11.8, 7.5, 13.1, 26.1, 7.0, 22.9, 9.3, 4.2, 18.0, 10.1, 9.5, 13.6, 18.2, 10.5, 3.5, 3.3, 19.2, 13.7, 12.2, 18.5, 5.9, 35.3, 9.2, 6.1, 14.7, 4.0, 24.9, 8.7, 19.3, 14.3, 7.4, 24.5, 8.7, 16.9, 26.4, 2.3, 5.0, 11.6, 31.5, 4.6, 13.8, 5.2, 2.5, 38.8, 6.7, 13.3, 4.6, 7.2, 9.6, 5.7, 6.5, 12.2, 4.3, 16.3, 6.8, 16.8, 20.1, 24.4, 32.8, 10.4, 10.3, 14.6, 25.0, 38.8, 6.1, 9.2, 25.5, 51.6, 38.9, 8.1, 18.3, 14.5, 24.6, 4.3, 22.3, 16.0, 13.1, 5.1, 38.3, 13.3, 9.3, 15.4, 8.9, 19.0, 9.2, 2.0, 19.4, 5.3, 15.5, 10.2, 9.4, 30.9, 18.3, 2.8, 8.0, 52.1, 10.3, 20.0, 39.8, 88.0, 3.1, 29.6, 2.5, 16.6, 23.8, 8.8, 16.8, 7.8, 5.5, 10.7, 16.4, 8.8, 7.0, 13.8, 15.7, 11.3, 10.9, 2.9, 7.2, 14.1, 6.3, 15.6, 94.0, 11.8, 12.2, 20.2, 8.2, 6.8, 8.7, 4.2, 4.7, 29.6, 4.6, 5.6, 14.1, 6.8, 7.2, 9.3, 45.3, 14.4, 10.8, 13.9, 4.1, 37.2, 5.1, 15.6, 14.9, 3.3, 15.6, 13.4, 6.2, 4.5, 14.7, 33.4, 2.0, 5.5, 13.2, 50.7, 8.4, 4.4, 8.2, 33.0, 61.0, 4.5, 4.4, 6.7, 34.0, 14.4, 15.9, 30.8, 6.3, 30.2, 2.6, 6.3, 33.0, 9.5, 7.2, 9.4, 17.1, 11.9, 13.3, 18.0, 8.0, 44.2, 10.0, 15.3, 7.6, 8.1, 8.7, 12.3, 6.6, 20.3, 8.7, 8.8, 8.0, 6.6, 12.0, 30.0, 4.2, 6.3, 8.5, 23.7, 12.9, 3.6, 19.7, 2.2, 8.0, 16.3, 3.7, 7.1, 13.1, 6.9, 5.8, 18.1, 5.8, 4.6, 16.4, 8.2, 1.9, 7.3, 2.1, 17.1, 10.9, 3.6, 12.3, 7.3, 4.3, 10.2, 6.1, 26.1, 10.2, 17.8, 2.0, 9.4, 18.1, 34.1, 14.5, 19.9, 8.1, 14.3, 17.6, 7.7, 5.3, 64.6, 7.8, 5.2, 5.9, 12.2, 5.1, 12.0, 2.1, 12.1, 8.3, 6.6, 8.1, 24.6, 23.7, 1.6, 5.7, 2.7, 31.1, 15.7, 10.3, 9.8, 11.1, 14.2, 7.5, 7.2, 7.8, 15.2, 13.5, 4.5, 36.7, 1.3, 8.7, 22.9, 27.6, 12.5, 73.1, 9.1, 3.2, 4.6, 7.6, 9.9, 15.0, 26.6, 3.6, 3.2, 23.0, 8.5, 10.5, 10.0, 9.5, 7.3, 7.7, 7.2, 13.5, 15.8, 14.9, 2.4, 12.6, 1.4, 1.1, 13.0, 9.2, 7.4, 14.5, 6.6, 12.1, 12.1, 2.8, 9.7, 5.5, 9.0, 23.9, 15.5, 11.7, 5.3, 6.8, 12.2, 5.4, 2.9, 6.7, 3.2, 16.4, 5.8, 7.4, 1.6, 8.1, 8.7, 11.8, 8.0, 8.2, 5.1, 3.8, 17.5, 6.1, 13.2, 22.8, 17.7, 14.0, 5.4, 4.2, 16.9, 5.6, 8.5, 49.6, 4.9, 27.4, 11.3, 9.6, 9.2, 21.5, 7.3, 7.1, 4.5, 2.4, 6.6, 5.8, 3.5, 4.5, 8.7, 2.4, 4.6, 4.4, 9.9, 5.1, 8.1, 1.6, 6.9, 6.6, 11.8, 6.3, 2.0, 21.8, 54.9, 14.6, 11.4, 10.6, 3.8, 8.1, 5.1, 3.0, 9.0, 3.1, 16.4, 2.7, 7.1, 6.4, 3.6, 8.2, 4.7, 2.6, 4.4, 9.3, 25.2, 11.4, 1.1, 22.2, 8.8, 10.2, 6.3, 2.4, 2.6, 19.3, 9.7, 9.2, 1.8, 12.3, 12.3, 6.3, 3.4, 12.2, 11.9, 11.7, 5.8, 8.2, 39.9, 14.6, 11.0, 23.5, 12.1, 4.8, 11.8, 11.5, 4.5, 5.5, 18.0, 20.4, 2.5, 10.8, 0.8, 33.8, 8.3, 11.7, 10.6, 4.9, 24.4, 1.0, 8.5, 7.3, 3.4, 14.0, 18.2, 4.6, 2.7, 11.4, 5.1, 6.3, 5.1, 4.6, 2.4, 8.8, 2.0, 19.7, 4.1, 4.0, 5.9, 18.2, 5.3, 1.5, 6.3, 0.5, 22.4, 9.0, 5.7, 5.1, 29.7, 4.5, 5.6, 2.6, 14.0, 7.8, 13.1, 5.2, 5.2, 12.6, 20.4, 2.1, 15.0, 2.8, 7.4, 1.9, 10.4, 7.4, 24.7, 2.0, 1.6, 21.8, 5.8, 4.6, 2.3, 4.2, 14.1, 5.1, 8.3, 2.6, 0.8, 2.3, 13.5, 3.0, 8.2, 2.6, 2.4, 3.5, 36.7, 6.3, 29.2, 4.5, 5.6, 6.4, 5.4, 6.2, 5.6, 4.5, 4.2, 15.6, 18.6, 2.1, 5.1, 15.8, 16.3, 3.6, 3.7, 15.1, 12.5, 10.5, 2.4, 7.5, 22.5, 5.9, 19.1, 6.0, 37.6, 3.9, 24.9, 1.4, 8.1, 1.8, 3.0, 1.3, 9.2, 7.6, 14.3, 7.6, 10.1, 4.1, 5.0, 5.3, 17.3, 0.4, 1.0, 3.0, 2.5, 5.1, 6.7, 6.3, 2.0, 13.3, 5.2, 7.8, 4.7, 7.2, 5.1, 3.3, 18.5, 2.2, 9.0, 9.2, 21.2, 13.8, 6.4, 1.4, 5.0, 9.8, 7.7, 7.4, 0.6, 5.6, 2.4, 2.6, 2.2, 1.5, 5.6, 2.2, 1.0, 13.8, 6.8, 5.6, 4.8, 5.0, 5.1, 3.5, 8.5, 6.5, 9.9, 8.7, 6.2, 0.6, 18.2, 12.1, 15.2, 8.3, 14.1, 17.3, 2.4, 37.8, 8.7, 7.2, 32.6, 12.6, 2.1, 11.3, 7.0, 5.4, 3.9, 4.5, 14.8, 11.1, 3.4, 7.7, 7.5, 5.8, 8.0, 14.7, 3.0, 14.7, 10.4, 4.5, 7.2, 1.7, 5.2, 1.3, 7.6, 17.4, 8.6, 5.7, 2.2, 5.2, 33.2, 5.3, 17.6, 2.6, 2.5, 4.4, 16.1, 2.1, 6.9, 6.2, 3.5, 23.6, 2.9, 6.4, 4.6, 11.0, 1.9, 4.0, 2.6, 4.7, 9.6, 2.7, 6.3, 7.2, 5.4, 4.1, 21.0, 14.1, 2.5, 15.7, 2.3, 7.8, 22.5, 5.7, 4.2, 6.1, 9.3, 7.7, 7.3, 9.4, 2.7, 6.2, 10.1, 5.9, 2.8, 8.3, 2.3, 7.0, 30.3, 14.5, 2.7, 4.3, 2.3, 4.7, 8.5, 6.0, 4.7, 3.4, 6.8, 11.5, 3.0, 1.8, 2.4, 3.3, 4.6, 10.0, 11.7, 15.0, 4.9, 16.7, 6.7, 17.7, 4.6, 2.0, 2.7, 29.8, 1.6, 16.0, 5.2, 5.7, 4.6, 3.8, 3.6, 2.7, 5.0, 4.3, 1.5, 1.0, 7.4, 16.1, 8.7, 2.5, 16.6, 16.1, 6.1, 19.3, 28.2, 11.7, 4.8, 1.2, 6.3, 10.3, 12.5, 8.1, 5.3, 6.2, 5.5, 8.9, 8.3, 9.3, 17.6, 2.3, 3.5, 34.8, 3.9, 13.9, 4.7, 14.6, 4.2, 2.5, 11.3, 8.2, 4.0, 10.8, 5.2, 13.0, 10.2, 12.6, 1.4, 7.8, 1.1, 1.8, 6.7, 8.1, 3.0, 15.7, 1.6, 17.6, 8.6, 0.8, 4.6, 4.2, 9.9, 1.8, 24.2, 8.1, 2.7, 7.5, 2.4, 11.2, 4.9, 3.4, 8.1, 3.1, 11.2, 7.0, 6.2, 3.6, 7.0, 3.2, 3.7, 3.0, 14.5, 1.4, 9.2, 3.1, 22.5, 2.7, 6.0, 17.4, 2.1, 4.4, 2.1, 1.5, 7.4, 3.4, 6.6, 3.6, 3.4, 12.3, 2.5, 1.5, 3.2, 3.7, 28.6, 3.7, 15.3, 2.2, 10.2, 8.0, 2.4, 16.5, 13.5, 1.2, 6.1, 4.1, 2.5, 3.8, 10.8, 4.4, 10.7, 4.5, 7.9, 0.7, 4.8, 5.9, 0.3, 5.4, 5.3, 3.3, 8.1, 7.6, 4.9, 2.9, 7.0, 13.9, 6.8, 2.4, 7.9, 2.7, 2.1, 1.3, 9.6, 3.8, 4.4, 7.6, 2.4, 3.6, 6.9, 11.2, 2.8, 7.7, 8.7, 1.8, 24.8, 5.9, 8.4, 0.8, 1.6, 9.6, 3.6, 11.9, 3.3, 5.2, 4.3, 2.2, 1.2, 7.3, 4.6, 11.4, 1.9, 3.3, 15.8, 3.3, 6.5, 9.7, 5.1, 2.0, 4.8, 5.4, 6.2, 6.2, 1.3, 0.6, 3.2, 3.3, 23.1, 23.7, 7.9, 0.7, 12.8, 8.6, 7.7, 8.1, 2.0, 2.1, 1.1, 1.1, 3.8, 2.6, 11.0, 5.7, 1.9, 7.4, 3.1, 6.3, 11.7, 2.6, 1.5, 8.9, 3.0, 6.0, 1.2, 4.3, 4.1, 9.8, 2.7, 22.2, 4.1, 2.5, 2.5, 7.7, 9.5, 2.2, 2.7, 0.4, 3.3, 1.5, 1.8, 6.0, 1.9, 38.9, 3.0, 13.4, 2.3, 3.6, 8.4, 2.1, 6.5, 13.3, 2.6, 1.9, 1.6, 2.7, 1.9, 12.3, 11.2, 1.4, 4.8, 2.6, 4.8, 0.7, 6.0, 3.8, 8.6, 8.5, 9.8, 1.4, 3.3, 4.0, 1.5, 4.7, 0.3, 0.5, 0.9, 8.2, 11.7, 4.4, 11.8, 4.1, 2.1, 11.0, 6.3, 6.2, 3.0, 9.5, 1.2, 1.5, 1.4, 2.0, 7.2, 3.5, 1.5, 12.7, 8.0, 6.2, 1.4, 3.7, 1.8, 1.3, 6.0, 2.0, 11.0, 2.0, 0.9, 1.4, 1.9, 3.8, 1.6, 3.9, 2.0, 1.4, 1.6, 0.9, 26.1, 7.8, 25.7, 6.2, 2.0, 2.7, 0.3, 4.9, 3.0, 2.9, 25.4, 9.9, 3.8, 3.9, 4.9, 1.6, 20.7, 2.6, 5.1, 1.5, 4.9, 1.5, 1.4, 5.0, 10.7, 0.2, 5.1, 4.6, 1.0, 2.4, 1.1, 1.1, 3.8, 15.4, 0.9, 10.0, 15.3, 0.9, 2.9, 1.5, 13.8, 1.1, 1.0, 1.7, 2.9, 1.5, 1.3, 5.9, 3.7, 1.0, 1.3, 1.0, 6.2, 2.6, 3.6, 1.3, 0.7, 0.2, 4.0, 5.2, 1.7, 1.1, 1.9, 0.9, 2.5, 0.6, 13.0, 20.1, 0.9, 4.9, 0.4, 6.8, 2.2, 1.5, 8.0, 18.9, 0.0, 13.4, 3.2, 1.0, 4.4, 0.9, 7.7, 8.3, 0.9, 1.0, 1.7, 4.7, 6.2, 4.3, 3.1, 8.6, 5.2, 1.8, 15.2, 0.9, 13.4, 4.7, 3.9, 1.4, 2.8, 10.7, 0.6, 2.0, 6.9, 1.2, 0.9, 2.6, 3.7, 2.0, 3.1, 4.0, 11.8, 2.6, 1.3, 2.2, 5.4, 2.2, 0.8, 5.9, 6.2, 1.3, 2.3, 1.9, 1.9, 9.3, 2.8, 6.8, 8.8, 3.0, 1.4, 4.3, 2.5, 8.8, 2.7, 7.3, 3.6, 3.0, 0.5, 0.8, 0.7, 15.7, 0.9, 2.9, 4.5, 8.2, 11.6, 10.0, 12.2, 4.3, 5.7, 1.5, 10.6, 6.4, 6.0, 10.2, 5.5, 2.5, 11.1, 2.2, 5.8, 5.1, 8.5, 3.1, 3.6, 3.5, 14.8, 14.8, 2.2, 1.6, 0.6, 10.2, 3.4, 0.5, 1.7, 3.7, 0.9, 5.6, 0.8, 4.4, 3.9, 2.9, 5.1, 12.5, 1.5, 0.8, 10.6, 3.1, 14.3, 0.8, 8.6, 9.6, 5.3, 0.7, 7.0, 2.0, 0.6, 1.1, 2.4, 3.0, 3.5, 9.4, 1.2, 1.3, 3.3, 2.6, 4.6, 1.8, 1.6, 3.1, 0.8, 1.2, 15.2, 13.9, 1.2, 2.1, 1.9, 2.9, 4.2, 0.7, 13.5, 10.3, 0.5, 2.5, 0.6, 1.5, 10.1, 8.3, 2.1, 0.6, 8.5, 9.1, 7.6, 13.4, 0.5, 2.7, 2.7, 13.3, 1.9, 10.6, 4.1, 0.6, 13.1, 13.2, 6.5, 1.2, 13.1, 0.6, 1.5, 6.8, 0.5, 6.1, 2.7, 8.8, 2.1, 3.6, 3.0, 1.8, 12.8, 1.1, 12.8, 12.8, 12.8, 3.1, 5.0, 1.2, 6.1, 0.6, 5.8, 1.4, 0.6, 8.8, 3.1, 4.6, 0.5, 0.5, 1.4, 12.3, 3.6, 2.8, 6.2, 1.4, 12.2, 1.2, 3.8, 0.8, 1.6, 2.2, 4.0, 6.7, 5.5, 12.2, 0.5, 0.7, 1.1, 12.0, 1.2, 3.2, 9.5, 5.4, 0.5, 1.0, 1.5, 0.5, 11.8, 1.6, 6.8, 0.5, 5.5, 0.4, 4.9, 7.5, 8.5, 11.6, 5.5, 0.5, 5.9, 1.5, 1.5, 4.7, 1.6, 0.9, 2.7, 3.5, 2.0, 0.2, 0.5, 11.4, 11.3, 0.5, 4.7, 0.5, 0.9, 2.4, 5.0]\n"
          ]
        }
      ]
    },
    {
      "cell_type": "code",
      "execution_count": null,
      "metadata": {
        "id": "G0rEmRXilblE"
      },
      "outputs": [],
      "source": [
        "sale_df = DataFrame({'Sale':sales})"
      ]
    },
    {
      "cell_type": "code",
      "source": [
        "print(sale_df)"
      ],
      "metadata": {
        "colab": {
          "base_uri": "https://localhost:8080/"
        },
        "id": "-qJC6DEWDVeh",
        "outputId": "b1bef07f-a7a8-4aa1-e9e9-e57ea0ee6c21"
      },
      "execution_count": null,
      "outputs": [
        {
          "output_type": "stream",
          "name": "stdout",
          "text": [
            "       Sale\n",
            "0     134.8\n",
            "1     113.1\n",
            "2     108.2\n",
            "3     147.4\n",
            "4     420.7\n",
            "...     ...\n",
            "1919    4.7\n",
            "1920    0.5\n",
            "1921    0.9\n",
            "1922    2.4\n",
            "1923    5.0\n",
            "\n",
            "[1924 rows x 1 columns]\n"
          ]
        }
      ]
    },
    {
      "cell_type": "code",
      "execution_count": null,
      "metadata": {
        "colab": {
          "base_uri": "https://localhost:8080/"
        },
        "id": "KmYDkvRZrGJ6",
        "outputId": "ec63a11d-c93c-4a16-d4ce-2b238b2e9cbd"
      },
      "outputs": [
        {
          "output_type": "stream",
          "name": "stdout",
          "text": [
            "203\n"
          ]
        }
      ],
      "source": [
        "data_min = 0.0\n",
        "data_max = 469.2\n",
        "data_count = 1924\n",
        "data_mean = 19.26\n",
        "data_stddev = 34.68\n",
        "\n",
        "# Calculate interquartile range (IQR)\n",
        "q75, q25 = np.percentile(sale_df['Sale'], [75 ,25])\n",
        "iqr = q75 - q25\n",
        "\n",
        "# Calculate bin width using Freedman-Diaconis rule\n",
        "bin_width = 2 * iqr / (data_count ** (1/3))\n",
        "\n",
        "# Calculate the number of bins using the data range and bin width\n",
        "num_bins = int((data_max - data_min) / bin_width)\n",
        "print(num_bins)"
      ]
    },
    {
      "cell_type": "code",
      "execution_count": null,
      "metadata": {
        "colab": {
          "base_uri": "https://localhost:8080/",
          "height": 487
        },
        "id": "lTMKhOwdr2hB",
        "outputId": "08011d42-28dd-4c84-e85a-3624a398049e"
      },
      "outputs": [
        {
          "output_type": "display_data",
          "data": {
            "text/plain": [
              "<Figure size 1500x500 with 2 Axes>"
            ],
            "image/png": "[encoded data removed]"
          },
          "metadata": {}
        }
      ],
      "source": [
        "# Create a subplot with 1 row and 2 columns, setting the figure size to (15, 5)\n",
        "fig, axes = plt.subplots(nrows=1, ncols=2, figsize=(15, 5))\n",
        "\n",
        "# Plot the histogram of the 'Sale' column in the first subplot (axes[0])\n",
        "sale_df['Sale'].hist(bins=203, ax=axes[0], alpha=0.7)\n",
        "\n",
        "# Plot the boxplot of the 'Sale' column in the second subplot (axes[1])\n",
        "sale_df[['Sale']].boxplot(ax=axes[1], vert=True)\n",
        "\n",
        "# Set labels for the subplots\n",
        "axes[0].set_title('Histogram of Sale')\n",
        "axes[0].set_xlabel('Sale')\n",
        "axes[0].set_ylabel('Frequency')\n",
        "\n",
        "axes[1].set_title('Boxplot of Sale')\n",
        "axes[1].set_ylabel('Sale')\n",
        "\n",
        "# Display the plot\n",
        "plt.show()"
      ]
    },
    {
      "cell_type": "code",
      "execution_count": null,
      "metadata": {
        "id": "AWaMVfPm68wR"
      },
      "outputs": [],
      "source": [
        "market_value = df.rdd.map(lambda p: (p.MarketValue)).collect()"
      ]
    },
    {
      "cell_type": "code",
      "execution_count": null,
      "metadata": {
        "id": "Q86ysmh77bz_"
      },
      "outputs": [],
      "source": [
        "market_value_df = DataFrame({'Market_value': market_value})"
      ]
    },
    {
      "cell_type": "code",
      "execution_count": null,
      "metadata": {
        "colab": {
          "base_uri": "https://localhost:8080/"
        },
        "id": "4PYyF-cVsGzr",
        "outputId": "a100cbb7-858c-4575-f219-17fdaa6fee4d"
      },
      "outputs": [
        {
          "output_type": "stream",
          "name": "stdout",
          "text": [
            "186\n"
          ]
        }
      ],
      "source": [
        "data_min = 0.0\n",
        "data_max = 416.6\n",
        "data_count = 1924\n",
        "data_mean = 19.558\n",
        "data_stddev = 32.957\n",
        "\n",
        "# Calculate interquartile range (IQR)\n",
        "q75, q25 = np.percentile(market_value_df['Market_value'], [75 ,25])\n",
        "iqr = q75 - q25\n",
        "\n",
        "# Calculate bin width using Freedman-Diaconis rule\n",
        "bin_width = 2 * iqr / (data_count ** (1/3))\n",
        "\n",
        "# Calculate the number of bins using the data range and bin width\n",
        "num_bins = int((data_max - data_min) / bin_width)\n",
        "print(num_bins)"
      ]
    },
    {
      "cell_type": "code",
      "execution_count": null,
      "metadata": {
        "colab": {
          "base_uri": "https://localhost:8080/",
          "height": 487
        },
        "id": "r2hnnMj8sYZP",
        "outputId": "f69178cb-d1ee-4e70-ac3e-8d996f8114a8"
      },
      "outputs": [
        {
          "output_type": "display_data",
          "data": {
            "text/plain": [
              "<Figure size 1500x500 with 2 Axes>"
            ],
            "image/png": "[encoded data removed]"
          },
          "metadata": {}
        }
      ],
      "source": [
        "# Create a subplot with 1 row and 2 columns, setting the figure size to (15, 5)\n",
        "fig, axes = plt.subplots(nrows=1, ncols=2, figsize=(15, 5))\n",
        "\n",
        "# Plot the histogram of the 'Sale' column in the first subplot (axes[0])\n",
        "market_value_df['Market_value'].hist(bins=186, ax=axes[0], alpha=0.7)\n",
        "\n",
        "# Plot the boxplot of the 'Sale' column in the second subplot (axes[1])\n",
        "market_value_df[['Market_value']].boxplot(ax=axes[1], vert=True)\n",
        "\n",
        "# Set labels for the subplots\n",
        "axes[0].set_title('Histogram of Market Value')\n",
        "axes[0].set_xlabel('Market Value')\n",
        "axes[0].set_ylabel('Frequency')\n",
        "\n",
        "axes[1].set_title('Boxplot of Sale')\n",
        "axes[1].set_ylabel('Market Value')\n",
        "\n",
        "# Display the plot\n",
        "plt.show()"
      ]
    },
    {
      "cell_type": "markdown",
      "metadata": {
        "id": "7Cn4eEkGtWWt"
      },
      "source": [
        "### Phân tích dữ liệu"
      ]
    },
    {
      "cell_type": "code",
      "execution_count": null,
      "metadata": {
        "id": "7ScV3QOHtYwN"
      },
      "outputs": [],
      "source": [
        "x = df.rdd.map(lambda p: (p.Sale)).collect()\n",
        "y = df.rdd.map(lambda p: (p.MarketValue)).collect()"
      ]
    },
    {
      "cell_type": "code",
      "execution_count": null,
      "metadata": {
        "id": "pGdQssE8tv4V"
      },
      "outputs": [],
      "source": [
        "data_df = DataFrame({'Sale':x, 'MarketValue':y})"
      ]
    },
    {
      "cell_type": "code",
      "source": [
        "data_df.head(10)"
      ],
      "metadata": {
        "colab": {
          "base_uri": "https://localhost:8080/",
          "height": 363
        },
        "id": "ymql0TRdflqp",
        "outputId": "ba967643-48fd-4a9d-aa75-e21197c4ecda"
      },
      "execution_count": null,
      "outputs": [
        {
          "output_type": "execute_result",
          "data": {
            "text/plain": [
              "    Sale  MarketValue\n",
              "0  134.8        237.3\n",
              "1  113.1        202.0\n",
              "2  108.2        191.4\n",
              "3  147.4        243.7\n",
              "4  420.7        400.4\n",
              "5  104.9        201.3\n",
              "6  467.2        213.1\n",
              "7  103.0        150.8\n",
              "8  308.9        261.2\n",
              "9  162.5        252.8"
            ],
            "text/html": [
              "\n",
              "  <div id=\"df-c5be550c-d3bb-43a9-87bb-22c6e74883e4\" class=\"colab-df-container\">\n",
              "    <div>\n",
              "<style scoped>\n",
              "    .dataframe tbody tr th:only-of-type {\n",
              "        vertical-align: middle;\n",
              "    }\n",
              "\n",
              "    .dataframe tbody tr th {\n",
              "        vertical-align: top;\n",
              "    }\n",
              "\n",
              "    .dataframe thead th {\n",
              "        text-align: right;\n",
              "    }\n",
              "</style>\n",
              "<table border=\"1\" class=\"dataframe\">\n",
              "  <thead>\n",
              "    <tr style=\"text-align: right;\">\n",
              "      <th></th>\n",
              "      <th>Sale</th>\n",
              "      <th>MarketValue</th>\n",
              "    </tr>\n",
              "  </thead>\n",
              "  <tbody>\n",
              "    <tr>\n",
              "      <th>0</th>\n",
              "      <td>134.8</td>\n",
              "      <td>237.3</td>\n",
              "    </tr>\n",
              "    <tr>\n",
              "      <th>1</th>\n",
              "      <td>113.1</td>\n",
              "      <td>202.0</td>\n",
              "    </tr>\n",
              "    <tr>\n",
              "      <th>2</th>\n",
              "      <td>108.2</td>\n",
              "      <td>191.4</td>\n",
              "    </tr>\n",
              "    <tr>\n",
              "      <th>3</th>\n",
              "      <td>147.4</td>\n",
              "      <td>243.7</td>\n",
              "    </tr>\n",
              "    <tr>\n",
              "      <th>4</th>\n",
              "      <td>420.7</td>\n",
              "      <td>400.4</td>\n",
              "    </tr>\n",
              "    <tr>\n",
              "      <th>5</th>\n",
              "      <td>104.9</td>\n",
              "      <td>201.3</td>\n",
              "    </tr>\n",
              "    <tr>\n",
              "      <th>6</th>\n",
              "      <td>467.2</td>\n",
              "      <td>213.1</td>\n",
              "    </tr>\n",
              "    <tr>\n",
              "      <th>7</th>\n",
              "      <td>103.0</td>\n",
              "      <td>150.8</td>\n",
              "    </tr>\n",
              "    <tr>\n",
              "      <th>8</th>\n",
              "      <td>308.9</td>\n",
              "      <td>261.2</td>\n",
              "    </tr>\n",
              "    <tr>\n",
              "      <th>9</th>\n",
              "      <td>162.5</td>\n",
              "      <td>252.8</td>\n",
              "    </tr>\n",
              "  </tbody>\n",
              "</table>\n",
              "</div>\n",
              "    <div class=\"colab-df-buttons\">\n",
              "\n",
              "  <div class=\"colab-df-container\">\n",
              "    <button class=\"colab-df-convert\" onclick=\"convertToInteractive('df-c5be550c-d3bb-43a9-87bb-22c6e74883e4')\"\n",
              "            title=\"Convert this dataframe to an interactive table.\"\n",
              "            style=\"display:none;\">\n",
              "\n",
              "  <svg xmlns=\"http://www.w3.org/2000/svg\" height=\"24px\" viewBox=\"0 -960 960 960\">\n",
              "    <path d=\"M120-120v-720h720v720H120Zm60-500h600v-160H180v160Zm220 220h160v-160H400v160Zm0 220h160v-160H400v160ZM180-400h160v-160H180v160Zm440 0h160v-160H620v160ZM180-180h160v-160H180v160Zm440 0h160v-160H620v160Z\"/>\n",
              "  </svg>\n",
              "    </button>\n",
              "\n",
              "  <style>\n",
              "    .colab-df-container {\n",
              "      display:flex;\n",
              "      gap: 12px;\n",
              "    }\n",
              "\n",
              "    .colab-df-convert {\n",
              "      background-color: #E8F0FE;\n",
              "      border: none;\n",
              "      border-radius: 50%;\n",
              "      cursor: pointer;\n",
              "      display: none;\n",
              "      fill: #1967D2;\n",
              "      height: 32px;\n",
              "      padding: 0 0 0 0;\n",
              "      width: 32px;\n",
              "    }\n",
              "\n",
              "    .colab-df-convert:hover {\n",
              "      background-color: #E2EBFA;\n",
              "      box-shadow: 0px 1px 2px rgba(60, 64, 67, 0.3), 0px 1px 3px 1px rgba(60, 64, 67, 0.15);\n",
              "      fill: #174EA6;\n",
              "    }\n",
              "\n",
              "    .colab-df-buttons div {\n",
              "      margin-bottom: 4px;\n",
              "    }\n",
              "\n",
              "    [theme=dark] .colab-df-convert {\n",
              "      background-color: #3B4455;\n",
              "      fill: #D2E3FC;\n",
              "    }\n",
              "\n",
              "    [theme=dark] .colab-df-convert:hover {\n",
              "      background-color: #434B5C;\n",
              "      box-shadow: 0px 1px 3px 1px rgba(0, 0, 0, 0.15);\n",
              "      filter: drop-shadow(0px 1px 2px rgba(0, 0, 0, 0.3));\n",
              "      fill: #FFFFFF;\n",
              "    }\n",
              "  </style>\n",
              "\n",
              "    <script>\n",
              "      const buttonEl =\n",
              "        document.querySelector('#df-c5be550c-d3bb-43a9-87bb-22c6e74883e4 button.colab-df-convert');\n",
              "      buttonEl.style.display =\n",
              "        google.colab.kernel.accessAllowed ? 'block' : 'none';\n",
              "\n",
              "      async function convertToInteractive(key) {\n",
              "        const element = document.querySelector('#df-c5be550c-d3bb-43a9-87bb-22c6e74883e4');\n",
              "        const dataTable =\n",
              "          await google.colab.kernel.invokeFunction('convertToInteractive',\n",
              "                                                    [key], {});\n",
              "        if (!dataTable) return;\n",
              "\n",
              "        const docLinkHtml = 'Like what you see? Visit the ' +\n",
              "          '<a target=\"_blank\" href=https://colab.research.google.com/notebooks/data_table.ipynb>data table notebook</a>'\n",
              "          + ' to learn more about interactive tables.';\n",
              "        element.innerHTML = '';\n",
              "        dataTable['output_type'] = 'display_data';\n",
              "        await google.colab.output.renderOutput(dataTable, element);\n",
              "        const docLink = document.createElement('div');\n",
              "        docLink.innerHTML = docLinkHtml;\n",
              "        element.appendChild(docLink);\n",
              "      }\n",
              "    </script>\n",
              "  </div>\n",
              "\n",
              "\n",
              "<div id=\"df-3e35179a-1cf8-4694-abaa-4c971667ed1a\">\n",
              "  <button class=\"colab-df-quickchart\" onclick=\"quickchart('df-3e35179a-1cf8-4694-abaa-4c971667ed1a')\"\n",
              "            title=\"Suggest charts\"\n",
              "            style=\"display:none;\">\n",
              "\n",
              "<svg xmlns=\"http://www.w3.org/2000/svg\" height=\"24px\"viewBox=\"0 0 24 24\"\n",
              "     width=\"24px\">\n",
              "    <g>\n",
              "        <path d=\"M19 3H5c-1.1 0-2 .9-2 2v14c0 1.1.9 2 2 2h14c1.1 0 2-.9 2-2V5c0-1.1-.9-2-2-2zM9 17H7v-7h2v7zm4 0h-2V7h2v10zm4 0h-2v-4h2v4z\"/>\n",
              "    </g>\n",
              "</svg>\n",
              "  </button>\n",
              "\n",
              "<style>\n",
              "  .colab-df-quickchart {\n",
              "      --bg-color: #E8F0FE;\n",
              "      --fill-color: #1967D2;\n",
              "      --hover-bg-color: #E2EBFA;\n",
              "      --hover-fill-color: #174EA6;\n",
              "      --disabled-fill-color: #AAA;\n",
              "      --disabled-bg-color: #DDD;\n",
              "  }\n",
              "\n",
              "  [theme=dark] .colab-df-quickchart {\n",
              "      --bg-color: #3B4455;\n",
              "      --fill-color: #D2E3FC;\n",
              "      --hover-bg-color: #434B5C;\n",
              "      --hover-fill-color: #FFFFFF;\n",
              "      --disabled-bg-color: #3B4455;\n",
              "      --disabled-fill-color: #666;\n",
              "  }\n",
              "\n",
              "  .colab-df-quickchart {\n",
              "    background-color: var(--bg-color);\n",
              "    border: none;\n",
              "    border-radius: 50%;\n",
              "    cursor: pointer;\n",
              "    display: none;\n",
              "    fill: var(--fill-color);\n",
              "    height: 32px;\n",
              "    padding: 0;\n",
              "    width: 32px;\n",
              "  }\n",
              "\n",
              "  .colab-df-quickchart:hover {\n",
              "    background-color: var(--hover-bg-color);\n",
              "    box-shadow: 0 1px 2px rgba(60, 64, 67, 0.3), 0 1px 3px 1px rgba(60, 64, 67, 0.15);\n",
              "    fill: var(--button-hover-fill-color);\n",
              "  }\n",
              "\n",
              "  .colab-df-quickchart-complete:disabled,\n",
              "  .colab-df-quickchart-complete:disabled:hover {\n",
              "    background-color: var(--disabled-bg-color);\n",
              "    fill: var(--disabled-fill-color);\n",
              "    box-shadow: none;\n",
              "  }\n",
              "\n",
              "  .colab-df-spinner {\n",
              "    border: 2px solid var(--fill-color);\n",
              "    border-color: transparent;\n",
              "    border-bottom-color: var(--fill-color);\n",
              "    animation:\n",
              "      spin 1s steps(1) infinite;\n",
              "  }\n",
              "\n",
              "  @keyframes spin {\n",
              "    0% {\n",
              "      border-color: transparent;\n",
              "      border-bottom-color: var(--fill-color);\n",
              "      border-left-color: var(--fill-color);\n",
              "    }\n",
              "    20% {\n",
              "      border-color: transparent;\n",
              "      border-left-color: var(--fill-color);\n",
              "      border-top-color: var(--fill-color);\n",
              "    }\n",
              "    30% {\n",
              "      border-color: transparent;\n",
              "      border-left-color: var(--fill-color);\n",
              "      border-top-color: var(--fill-color);\n",
              "      border-right-color: var(--fill-color);\n",
              "    }\n",
              "    40% {\n",
              "      border-color: transparent;\n",
              "      border-right-color: var(--fill-color);\n",
              "      border-top-color: var(--fill-color);\n",
              "    }\n",
              "    60% {\n",
              "      border-color: transparent;\n",
              "      border-right-color: var(--fill-color);\n",
              "    }\n",
              "    80% {\n",
              "      border-color: transparent;\n",
              "      border-right-color: var(--fill-color);\n",
              "      border-bottom-color: var(--fill-color);\n",
              "    }\n",
              "    90% {\n",
              "      border-color: transparent;\n",
              "      border-bottom-color: var(--fill-color);\n",
              "    }\n",
              "  }\n",
              "</style>\n",
              "\n",
              "  <script>\n",
              "    async function quickchart(key) {\n",
              "      const quickchartButtonEl =\n",
              "        document.querySelector('#' + key + ' button');\n",
              "      quickchartButtonEl.disabled = true;  // To prevent multiple clicks.\n",
              "      quickchartButtonEl.classList.add('colab-df-spinner');\n",
              "      try {\n",
              "        const charts = await google.colab.kernel.invokeFunction(\n",
              "            'suggestCharts', [key], {});\n",
              "      } catch (error) {\n",
              "        console.error('Error during call to suggestCharts:', error);\n",
              "      }\n",
              "      quickchartButtonEl.classList.remove('colab-df-spinner');\n",
              "      quickchartButtonEl.classList.add('colab-df-quickchart-complete');\n",
              "    }\n",
              "    (() => {\n",
              "      let quickchartButtonEl =\n",
              "        document.querySelector('#df-3e35179a-1cf8-4694-abaa-4c971667ed1a button');\n",
              "      quickchartButtonEl.style.display =\n",
              "        google.colab.kernel.accessAllowed ? 'block' : 'none';\n",
              "    })();\n",
              "  </script>\n",
              "</div>\n",
              "    </div>\n",
              "  </div>\n"
            ]
          },
          "metadata": {},
          "execution_count": 18
        }
      ]
    },
    {
      "cell_type": "code",
      "source": [
        "bins = [0, 100, 200, 300, 400, 500]\n",
        "data_df['Sale'] = pd.cut(data_df['Sale'], bins=bins)\n",
        "data_df.Sale.value_counts().sort_index().plot(kind='bar', figsize=(10,6))\n",
        "plt.xlabel('Sale', fontsize= 13)\n",
        "plt.ylabel('Count', fontsize = 13)\n",
        "plt.xticks(rotation = 40)\n",
        "plt.grid()\n",
        "plt.show()"
      ],
      "metadata": {
        "colab": {
          "base_uri": "https://localhost:8080/",
          "height": 589
        },
        "id": "0cWBr-SibIa7",
        "outputId": "5690c83f-0324-4bf6-9f87-15d21c8ba241"
      },
      "execution_count": null,
      "outputs": [
        {
          "output_type": "display_data",
          "data": {
            "text/plain": [
              "<Figure size 1000x600 with 1 Axes>"
            ],
            "image/png": "[encoded data removed]"
          },
          "metadata": {}
        }
      ]
    },
    {
      "cell_type": "markdown",
      "source": [
        "- Doanh số bán hàng trong nhóm 0 - 100 tỉ đô chiếm nhiều nhất, sau đó là 100 - 200.\n",
        "- Thấp nhất là trong nhóm 400 - 500 tỉ đô"
      ],
      "metadata": {
        "id": "djQ586qKgv1D"
      }
    },
    {
      "cell_type": "code",
      "source": [
        "plt.figure(figsize=(15, 6))\n",
        "sns.barplot(data = data_df, x='Sale', y='MarketValue', palette='crest')\n",
        "plt.title('The Market Value for each Sale', fontsize= 16)\n",
        "plt.xlabel('Sale', fontsize= 13)\n",
        "plt.ylabel('Market Value', fontsize = 13)\n",
        "plt.show();"
      ],
      "metadata": {
        "colab": {
          "base_uri": "https://localhost:8080/",
          "height": 570
        },
        "id": "9JTXgveKgQPm",
        "outputId": "90ebdfe1-760a-435e-94b2-72c6b22e94f1"
      },
      "execution_count": null,
      "outputs": [
        {
          "output_type": "display_data",
          "data": {
            "text/plain": [
              "<Figure size 1500x600 with 1 Axes>"
            ],
            "image/png": "[encoded data removed]"
          },
          "metadata": {}
        }
      ]
    },
    {
      "cell_type": "markdown",
      "source": [
        "- Công ty có giá trị vốn hóa càng cao thì doanh thu bán hàng càng cao, ở đây là 400 - 500.\n",
        "- Bán càng nhiều hàng => giá trị trên thị trường càng cao"
      ],
      "metadata": {
        "id": "mSf9Mbn8hV6j"
      }
    },
    {
      "cell_type": "markdown",
      "metadata": {
        "id": "LeeZ6lSOwCdt"
      },
      "source": [
        "### Chuẩn bị dữ liệu"
      ]
    },
    {
      "cell_type": "code",
      "execution_count": null,
      "metadata": {
        "colab": {
          "base_uri": "https://localhost:8080/"
        },
        "id": "zo2r8vINvaxP",
        "outputId": "9a9c786e-2d48-409d-bbb3-a6a28b8ba3ee"
      },
      "outputs": [
        {
          "output_type": "stream",
          "name": "stdout",
          "text": [
            "+-----+-----------+\n",
            "| Sale|MarketValue|\n",
            "+-----+-----------+\n",
            "|134.8|      237.3|\n",
            "|113.1|      202.0|\n",
            "|108.2|      191.4|\n",
            "|147.4|      243.7|\n",
            "|420.7|      400.4|\n",
            "|104.9|      201.3|\n",
            "|467.2|      213.1|\n",
            "|103.0|      150.8|\n",
            "|308.9|      261.2|\n",
            "|162.5|      252.8|\n",
            "| 98.1|      131.7|\n",
            "| 91.2|      201.3|\n",
            "|222.6|      232.5|\n",
            "|254.0|       94.4|\n",
            "|469.2|      242.5|\n",
            "|164.7|      416.6|\n",
            "|144.0|      111.4|\n",
            "|370.9|      130.4|\n",
            "| 90.7|      143.6|\n",
            "|144.1|      120.7|\n",
            "+-----+-----------+\n",
            "only showing top 20 rows\n",
            "\n"
          ]
        }
      ],
      "source": [
        "df.show()"
      ]
    },
    {
      "cell_type": "code",
      "execution_count": null,
      "metadata": {
        "id": "vq1QoY7wvbhH"
      },
      "outputs": [],
      "source": [
        "df.createOrReplaceTempView(\"split_data\")\n",
        "X = spark.sql(\"SELECT DOUBLE(Sale) FROM split_data\")\n",
        "Y = spark.sql(\"SELECT DOUBLE(MarketValue) FROM split_data\")"
      ]
    },
    {
      "cell_type": "code",
      "execution_count": null,
      "metadata": {
        "colab": {
          "base_uri": "https://localhost:8080/"
        },
        "id": "PFga0hoUxJQT",
        "outputId": "080d4b20-d8ee-482b-fb4a-77b5a8e31314"
      },
      "outputs": [
        {
          "output_type": "stream",
          "name": "stdout",
          "text": [
            "+-----+\n",
            "| Sale|\n",
            "+-----+\n",
            "|134.8|\n",
            "|113.1|\n",
            "|108.2|\n",
            "|147.4|\n",
            "|420.7|\n",
            "|104.9|\n",
            "|467.2|\n",
            "|103.0|\n",
            "|308.9|\n",
            "|162.5|\n",
            "| 98.1|\n",
            "| 91.2|\n",
            "|222.6|\n",
            "|254.0|\n",
            "|469.2|\n",
            "|164.7|\n",
            "|144.0|\n",
            "|370.9|\n",
            "| 90.7|\n",
            "|144.1|\n",
            "+-----+\n",
            "only showing top 20 rows\n",
            "\n"
          ]
        }
      ],
      "source": [
        "X.show(20)"
      ]
    },
    {
      "cell_type": "code",
      "execution_count": null,
      "metadata": {
        "colab": {
          "base_uri": "https://localhost:8080/"
        },
        "id": "7CGGexaRxOml",
        "outputId": "18ef146c-fde0-417d-cb82-e0304e60c858"
      },
      "outputs": [
        {
          "output_type": "stream",
          "name": "stdout",
          "text": [
            "+-----------+\n",
            "|MarketValue|\n",
            "+-----------+\n",
            "|      237.3|\n",
            "|      202.0|\n",
            "|      191.4|\n",
            "|      243.7|\n",
            "|      400.4|\n",
            "|      201.3|\n",
            "|      213.1|\n",
            "|      150.8|\n",
            "|      261.2|\n",
            "|      252.8|\n",
            "|      131.7|\n",
            "|      201.3|\n",
            "|      232.5|\n",
            "|       94.4|\n",
            "|      242.5|\n",
            "|      416.6|\n",
            "|      111.4|\n",
            "|      130.4|\n",
            "|      143.6|\n",
            "|      120.7|\n",
            "+-----------+\n",
            "only showing top 20 rows\n",
            "\n"
          ]
        }
      ],
      "source": [
        "Y.show(20)"
      ]
    },
    {
      "cell_type": "code",
      "execution_count": null,
      "metadata": {
        "id": "52ZRFTmZwcGb"
      },
      "outputs": [],
      "source": [
        "# Chia dữ liệu theo tỉ lệ train:test 7:3\n",
        "X_train, X_test = X.randomSplit([0.7, 0.3], seed = 2)\n",
        "Y_train, Y_test = Y.randomSplit([0.7, 0.3], seed = 2)"
      ]
    },
    {
      "cell_type": "code",
      "execution_count": null,
      "metadata": {
        "colab": {
          "base_uri": "https://localhost:8080/"
        },
        "id": "_OXmGus4xUln",
        "outputId": "8317494b-faab-4584-a7b6-4882721e14a3"
      },
      "outputs": [
        {
          "output_type": "stream",
          "name": "stdout",
          "text": [
            "+-------+------------------+\n",
            "|summary|              Sale|\n",
            "+-------+------------------+\n",
            "|  count|              1325|\n",
            "|   mean|18.790113207547183|\n",
            "| stddev|34.781117916289176|\n",
            "|    min|               0.0|\n",
            "|    max|             469.2|\n",
            "+-------+------------------+\n",
            "\n"
          ]
        }
      ],
      "source": [
        "X_train.describe().show()"
      ]
    },
    {
      "cell_type": "code",
      "execution_count": null,
      "metadata": {
        "colab": {
          "base_uri": "https://localhost:8080/"
        },
        "id": "QSuR_w-zxWQP",
        "outputId": "1cd5454c-3955-45a1-977f-508ea21e43d1"
      },
      "outputs": [
        {
          "output_type": "stream",
          "name": "stdout",
          "text": [
            "+-------+-----------------+\n",
            "|summary|             Sale|\n",
            "+-------+-----------------+\n",
            "|  count|              599|\n",
            "|   mean|20.31836393989984|\n",
            "| stddev|34.47352379441042|\n",
            "|    min|              0.3|\n",
            "|    max|            467.2|\n",
            "+-------+-----------------+\n",
            "\n"
          ]
        }
      ],
      "source": [
        "X_test.describe().show()"
      ]
    },
    {
      "cell_type": "code",
      "execution_count": null,
      "metadata": {
        "colab": {
          "base_uri": "https://localhost:8080/"
        },
        "id": "JjxunSJyxgm6",
        "outputId": "05121eba-c401-466b-9976-b901faf93160"
      },
      "outputs": [
        {
          "output_type": "stream",
          "name": "stdout",
          "text": [
            "+-------+------------------+\n",
            "|summary|       MarketValue|\n",
            "+-------+------------------+\n",
            "|  count|              1325|\n",
            "|   mean|18.900000000000002|\n",
            "| stddev|  31.9327848651619|\n",
            "|    min|               0.0|\n",
            "|    max|             416.6|\n",
            "+-------+------------------+\n",
            "\n"
          ]
        }
      ],
      "source": [
        "Y_train.describe().show()"
      ]
    },
    {
      "cell_type": "code",
      "execution_count": null,
      "metadata": {
        "colab": {
          "base_uri": "https://localhost:8080/"
        },
        "id": "tCZRkgp8xkA2",
        "outputId": "3e9a5ee8-4ea7-4c0d-c252-ea311ac2c5af"
      },
      "outputs": [
        {
          "output_type": "stream",
          "name": "stdout",
          "text": [
            "+-------+-----------------+\n",
            "|summary|      MarketValue|\n",
            "+-------+-----------------+\n",
            "|  count|              599|\n",
            "|   mean|21.01402337228713|\n",
            "| stddev|35.10057318333682|\n",
            "|    min|              0.2|\n",
            "|    max|            400.4|\n",
            "+-------+-----------------+\n",
            "\n"
          ]
        }
      ],
      "source": [
        "Y_test.describe().show()"
      ]
    },
    {
      "cell_type": "code",
      "source": [
        "print(X_train)"
      ],
      "metadata": {
        "colab": {
          "base_uri": "https://localhost:8080/"
        },
        "id": "uOcz5c6vG6uf",
        "outputId": "b5638dd2-21f2-4dd3-b31a-4536620522eb"
      },
      "execution_count": null,
      "outputs": [
        {
          "output_type": "stream",
          "name": "stdout",
          "text": [
            "DataFrame[Sale: double]\n"
          ]
        }
      ]
    },
    {
      "cell_type": "code",
      "execution_count": null,
      "metadata": {
        "id": "ijAXCsQ0xmap"
      },
      "outputs": [],
      "source": [
        "rdd_X_train = X_train.rdd.map(list)\n",
        "rdd_Y_train = Y_train.rdd.map(list)"
      ]
    },
    {
      "cell_type": "code",
      "source": [
        "print(rdd_X_train.collect())"
      ],
      "metadata": {
        "colab": {
          "base_uri": "https://localhost:8080/"
        },
        "id": "BL_u00FMHIdK",
        "outputId": "9f9cd1c8-7040-4d3d-ffbc-508c9727bb66"
      },
      "execution_count": null,
      "outputs": [
        {
          "output_type": "stream",
          "name": "stdout",
          "text": [
            "[[0.0], [0.2], [0.2], [0.2], [0.3], [0.3], [0.4], [0.4], [0.4], [0.5], [0.5], [0.5], [0.5], [0.5], [0.5], [0.5], [0.5], [0.5], [0.5], [0.5], [0.5], [0.5], [0.6], [0.6], [0.6], [0.6], [0.6], [0.6], [0.6], [0.6], [0.7], [0.7], [0.7], [0.7], [0.7], [0.8], [0.8], [0.8], [0.8], [0.8], [0.8], [0.8], [0.8], [0.8], [0.9], [0.9], [0.9], [0.9], [0.9], [0.9], [0.9], [0.9], [0.9], [0.9], [1.0], [1.0], [1.0], [1.0], [1.0], [1.0], [1.0], [1.0], [1.1], [1.1], [1.1], [1.1], [1.1], [1.1], [1.1], [1.1], [1.1], [1.2], [1.2], [1.2], [1.2], [1.2], [1.2], [1.2], [1.2], [1.2], [1.2], [1.2], [1.2], [1.3], [1.3], [1.3], [1.3], [1.3], [1.3], [1.3], [1.3], [1.3], [1.4], [1.4], [1.4], [1.4], [1.4], [1.4], [1.4], [1.4], [1.4], [1.4], [1.4], [1.5], [1.5], [1.5], [1.5], [1.5], [1.5], [1.5], [1.5], [1.5], [1.5], [1.5], [1.5], [1.5], [1.5], [1.5], [1.5], [1.5], [1.6], [1.6], [1.6], [1.6], [1.6], [1.6], [1.6], [1.6], [1.7], [1.8], [1.8], [1.8], [1.8], [1.8], [1.8], [1.8], [1.9], [1.9], [1.9], [1.9], [1.9], [1.9], [1.9], [1.9], [1.9], [1.9], [1.9], [2.0], [2.0], [2.0], [2.0], [2.0], [2.0], [2.0], [2.0], [2.0], [2.1], [2.1], [2.1], [2.1], [2.1], [2.1], [2.1], [2.1], [2.2], [2.2], [2.2], [2.2], [2.2], [2.2], [2.2], [2.2], [2.2], [2.2], [2.2], [2.2], [2.3], [2.3], [2.3], [2.3], [2.3], [2.3], [2.3], [2.4], [2.4], [2.4], [2.4], [2.4], [2.4], [2.4], [2.4], [2.4], [2.4], [2.4], [2.4], [2.5], [2.5], [2.5], [2.5], [2.5], [2.5], [2.5], [2.5], [2.5], [2.5], [2.6], [2.6], [2.6], [2.6], [2.6], [2.6], [2.6], [2.6], [2.6], [2.6], [2.6], [2.6], [2.6], [2.7], [2.7], [2.7], [2.7], [2.7], [2.7], [2.7], [2.7], [2.7], [2.7], [2.7], [2.7], [2.7], [2.7], [2.7], [2.8], [2.8], [2.8], [2.8], [2.8], [2.8], [2.8], [2.8], [2.9], [2.9], [2.9], [2.9], [2.9], [2.9], [2.9], [3.0], [3.0], [3.0], [3.0], [3.0], [3.0], [3.0], [3.0], [3.0], [3.0], [3.1], [3.1], [3.1], [3.1], [3.1], [3.1], [3.1], [3.1], [3.1], [3.2], [3.2], [3.2], [3.2], [3.2], [3.3], [3.3], [3.3], [3.3], [3.3], [3.3], [3.3], [3.4], [3.4], [3.5], [3.5], [3.5], [3.5], [3.5], [3.5], [3.5], [3.5], [3.6], [3.6], [3.6], [3.6], [3.6], [3.6], [3.6], [3.6], [3.6], [3.6], [3.6], [3.6], [3.7], [3.7], [3.7], [3.7], [3.7], [3.7], [3.7], [3.7], [3.8], [3.8], [3.8], [3.8], [3.8], [3.8], [3.8], [3.8], [3.8], [3.9], [3.9], [3.9], [3.9], [3.9], [4.0], [4.0], [4.0], [4.0], [4.0], [4.0], [4.0], [4.0], [4.1], [4.1], [4.1], [4.1], [4.1], [4.1], [4.2], [4.2], [4.2], [4.2], [4.2], [4.2], [4.3], [4.3], [4.3], [4.3], [4.3], [4.3], [4.3], [4.4], [4.4], [4.4], [4.4], [4.4], [4.4], [4.4], [4.4], [4.5], [4.5], [4.5], [4.5], [4.5], [4.5], [4.5], [4.5], [4.5], [4.5], [4.5], [4.5], [4.6], [4.6], [4.6], [4.6], [4.6], [4.6], [4.6], [4.6], [4.6], [4.6], [4.6], [4.6], [4.6], [4.6], [4.7], [4.7], [4.7], [4.7], [4.7], [4.7], [4.7], [4.8], [4.8], [4.8], [4.8], [4.8], [4.9], [4.9], [4.9], [4.9], [4.9], [4.9], [5.0], [5.0], [5.0], [5.0], [5.0], [5.0], [5.0], [5.1], [5.1], [5.1], [5.1], [5.1], [5.1], [5.1], [5.1], [5.1], [5.1], [5.1], [5.1], [5.1], [5.1], [5.2], [5.2], [5.2], [5.2], [5.2], [5.2], [5.2], [5.2], [5.2], [5.2], [5.2], [5.3], [5.3], [5.3], [5.3], [5.3], [5.4], [5.4], [5.4], [5.4], [5.4], [5.4], [5.4], [5.5], [5.5], [5.5], [5.5], [5.5], [5.5], [5.5], [5.5], [5.5], [5.6], [5.6], [5.6], [5.6], [5.6], [5.7], [5.7], [5.7], [5.7], [5.7], [5.7], [5.7], [5.7], [5.7], [5.8], [5.8], [5.8], [5.8], [5.8], [5.8], [5.8], [5.9], [5.9], [5.9], [5.9], [6.0], [6.0], [6.0], [6.0], [6.0], [6.0], [6.0], [6.0], [6.0], [6.1], [6.1], [6.1], [6.1], [6.1], [6.1], [6.1], [6.2], [6.2], [6.2], [6.2], [6.2], [6.2], [6.2], [6.2], [6.2], [6.2], [6.2], [6.2], [6.3], [6.3], [6.3], [6.3], [6.3], [6.3], [6.3], [6.3], [6.3], [6.4], [6.4], [6.4], [6.4], [6.4], [6.4], [6.5], [6.5], [6.5], [6.5], [6.5], [6.6], [6.6], [6.6], [6.6], [6.7], [6.7], [6.7], [6.7], [6.7], [6.8], [6.8], [6.8], [6.8], [6.8], [6.8], [6.8], [6.8], [6.9], [6.9], [7.0], [7.0], [7.0], [7.0], [7.0], [7.1], [7.1], [7.1], [7.1], [7.2], [7.2], [7.2], [7.2], [7.3], [7.3], [7.3], [7.3], [7.3], [7.3], [7.3], [7.3], [7.3], [7.4], [7.4], [7.4], [7.4], [7.4], [7.4], [7.4], [7.5], [7.5], [7.5], [7.5], [7.5], [7.6], [7.6], [7.6], [7.6], [7.6], [7.6], [7.7], [7.7], [7.7], [7.7], [7.7], [7.7], [7.7], [7.7], [7.8], [7.8], [7.8], [7.8], [7.8], [7.8], [7.9], [7.9], [7.9], [7.9], [8.0], [8.0], [8.0], [8.0], [8.0], [8.0], [8.0], [8.0], [8.0], [8.0], [8.0], [8.1], [8.1], [8.1], [8.1], [8.1], [8.1], [8.1], [8.1], [8.1], [8.1], [8.1], [8.1], [8.2], [8.2], [8.2], [8.2], [8.2], [8.2], [8.2], [8.3], [8.3], [8.3], [8.3], [8.3], [8.3], [8.3], [8.4], [8.4], [8.4], [8.5], [8.5], [8.5], [8.5], [8.5], [8.5], [8.5], [8.5], [8.6], [8.7], [8.7], [8.7], [8.7], [8.7], [8.7], [8.7], [8.8], [8.8], [8.8], [8.8], [8.8], [8.8], [8.8], [8.8], [8.9], [9.0], [9.0], [9.0], [9.0], [9.0], [9.0], [9.1], [9.1], [9.2], [9.2], [9.2], [9.2], [9.2], [9.2], [9.2], [9.3], [9.3], [9.3], [9.3], [9.3], [9.3], [9.4], [9.4], [9.4], [9.5], [9.5], [9.6], [9.6], [9.6], [9.6], [9.6], [9.6], [9.6], [9.7], [9.7], [9.8], [9.8], [9.8], [9.8], [9.9], [9.9], [9.9], [9.9], [9.9], [9.9], [10.0], [10.0], [10.0], [10.0], [10.1], [10.1], [10.1], [10.1], [10.1], [10.1], [10.1], [10.2], [10.2], [10.2], [10.2], [10.3], [10.3], [10.3], [10.3], [10.3], [10.3], [10.4], [10.4], [10.4], [10.4], [10.5], [10.5], [10.5], [10.6], [10.6], [10.7], [10.7], [10.7], [10.7], [10.7], [10.8], [10.8], [10.8], [10.8], [10.8], [10.9], [10.9], [10.9], [11.0], [11.0], [11.0], [11.0], [11.1], [11.1], [11.1], [11.1], [11.2], [11.2], [11.2], [11.2], [11.2], [11.2], [11.3], [11.3], [11.3], [11.3], [11.4], [11.4], [11.4], [11.4], [11.5], [11.5], [11.5], [11.5], [11.6], [11.6], [11.6], [11.6], [11.7], [11.7], [11.7], [11.7], [11.7], [11.8], [11.8], [11.8], [11.8], [11.8], [11.8], [11.8], [11.9], [11.9], [11.9], [11.9], [12.0], [12.0], [12.0], [12.0], [12.1], [12.1], [12.1], [12.2], [12.2], [12.2], [12.2], [12.2], [12.2], [12.2], [12.2], [12.2], [12.3], [12.3], [12.3], [12.3], [12.3], [12.3], [12.4], [12.5], [12.5], [12.5], [12.5], [12.6], [12.6], [12.6], [12.8], [12.8], [12.8], [12.8], [12.8], [12.8], [12.8], [13.0], [13.0], [13.1], [13.1], [13.1], [13.1], [13.1], [13.2], [13.2], [13.2], [13.2], [13.2], [13.2], [13.3], [13.3], [13.3], [13.3], [13.3], [13.3], [13.4], [13.4], [13.4], [13.4], [13.4], [13.4], [13.5], [13.5], [13.5], [13.5], [13.5], [13.6], [13.6], [13.6], [13.8], [13.9], [13.9], [13.9], [13.9], [14.0], [14.0], [14.0], [14.0], [14.0], [14.1], [14.1], [14.1], [14.1], [14.1], [14.1], [14.1], [14.2], [14.2], [14.3], [14.3], [14.3], [14.3], [14.4], [14.4], [14.4], [14.5], [14.5], [14.5], [14.5], [14.5], [14.6], [14.6], [14.6], [14.6], [14.6], [14.6], [14.7], [14.7], [14.7], [14.8], [14.9], [14.9], [15.0], [15.0], [15.0], [15.0], [15.0], [15.1], [15.1], [15.1], [15.2], [15.2], [15.3], [15.3], [15.4], [15.4], [15.5], [15.5], [15.6], [15.6], [15.6], [15.6], [15.6], [15.6], [15.7], [15.7], [15.7], [15.8], [15.8], [15.8], [16.0], [16.0], [16.1], [16.1], [16.2], [16.3], [16.3], [16.3], [16.3], [16.4], [16.4], [16.4], [16.4], [16.5], [16.5], [16.6], [16.6], [16.7], [16.7], [16.7], [16.8], [16.9], [16.9], [17.0], [17.0], [17.1], [17.1], [17.1], [17.2], [17.3], [17.3], [17.3], [17.3], [17.4], [17.4], [17.5], [17.6], [17.6], [17.6], [17.6], [17.6], [17.7], [17.9], [18.0], [18.0], [18.0], [18.0], [18.0], [18.0], [18.1], [18.2], [18.2], [18.2], [18.2], [18.2], [18.2], [18.3], [18.3], [18.3], [18.5], [18.5], [18.5], [19.1], [19.1], [19.2], [19.2], [19.3], [19.3], [19.3], [19.4], [19.6], [19.7], [19.8], [19.9], [20.0], [20.0], [20.0], [20.1], [20.1], [20.2], [20.2], [20.4], [20.4], [20.4], [20.5], [20.6], [20.8], [20.9], [20.9], [20.9], [21.0], [21.0], [21.1], [21.1], [21.2], [21.4], [21.6], [21.7], [21.7], [21.7], [22.2], [22.2], [22.2], [22.3], [22.4], [22.5], [22.5], [22.5], [22.5], [22.6], [22.8], [22.9], [22.9], [23.0], [23.1], [23.1], [23.2], [23.4], [23.5], [23.6], [23.7], [23.7], [23.7], [23.7], [23.8], [23.9], [24.1], [24.2], [24.3], [24.4], [24.4], [24.4], [24.5], [24.6], [24.6], [24.7], [24.7], [24.7], [24.8], [24.9], [24.9], [24.9], [25.0], [25.2], [25.2], [25.3], [25.4], [25.4], [25.4], [25.4], [25.5], [25.9], [26.1], [26.1], [26.1], [26.3], [26.4], [26.6], [26.6], [27.3], [27.4], [27.5], [27.6], [27.6], [27.6], [27.8], [27.9], [28.2], [28.3], [28.4], [28.6], [28.6], [28.8], [28.9], [29.2], [29.4], [29.6], [29.6], [29.7], [29.9], [30.2], [30.3], [30.8], [30.9], [31.5], [31.6], [32.2], [32.6], [32.7], [32.8], [33.0], [33.0], [33.0], [33.2], [33.8], [34.0], [34.1], [34.4], [34.9], [35.0], [35.0], [35.1], [35.3], [35.3], [35.4], [36.1], [36.6], [36.7], [36.7], [36.7], [36.8], [37.2], [37.3], [37.5], [37.6], [37.7], [37.8], [37.9], [38.1], [38.1], [38.3], [38.6], [38.7], [38.8], [38.8], [38.9], [39.0], [39.1], [39.2], [39.4], [39.5], [39.6], [39.7], [39.8], [39.8], [39.9], [40.1], [42.0], [42.0], [42.1], [42.2], [42.3], [43.0], [43.2], [43.3], [43.4], [43.5], [43.9], [43.9], [44.0], [44.2], [44.3], [44.9], [45.1], [45.7], [45.7], [46.3], [46.7], [47.2], [47.3], [47.3], [47.7], [48.0], [48.8], [49.2], [49.4], [49.6], [50.2], [50.4], [50.5], [50.8], [51.0], [51.1], [51.2], [51.6], [51.6], [52.1], [52.5], [53.0], [53.2], [53.3], [54.0], [54.1], [54.2], [54.4], [54.9], [55.0], [55.2], [55.7], [56.4], [56.5], [56.8], [56.9], [57.0], [57.4], [57.7], [58.4], [58.9], [60.5], [61.7], [62.6], [63.4], [64.1], [64.6], [65.1], [65.5], [65.7], [65.9], [67.2], [67.7], [68.8], [69.0], [69.0], [70.5], [70.8], [71.5], [72.2], [72.9], [73.2], [73.3], [73.7], [74.4], [74.5], [74.5], [74.8], [75.0], [76.5], [76.7], [78.3], [80.6], [82.3], [84.2], [84.8], [88.0], [88.8], [90.2], [90.7], [91.2], [93.9], [94.0], [94.8], [95.9], [96.0], [96.8], [100.6], [101.3], [102.8], [103.0], [104.8], [106.3], [108.2], [108.8], [111.9], [113.7], [115.8], [116.3], [116.7], [118.7], [123.1], [123.5], [127.4], [131.9], [132.1], [134.3], [139.2], [140.3], [147.4], [150.8], [163.7], [164.7], [166.1], [187.8], [222.6], [224.5], [240.5], [308.9], [370.9], [411.7], [420.7], [469.2]]\n"
          ]
        }
      ]
    },
    {
      "cell_type": "code",
      "source": [
        "rdd_X_test = X_test.rdd.map(list)\n",
        "rdd_Y_test = Y_test.rdd.map(list)"
      ],
      "metadata": {
        "id": "hsIn06ql8u8U"
      },
      "execution_count": null,
      "outputs": []
    },
    {
      "cell_type": "markdown",
      "source": [
        "# Hướng 1 (Linear Regression)"
      ],
      "metadata": {
        "id": "W7mjYU5hDrFT"
      }
    },
    {
      "cell_type": "code",
      "source": [
        "# Tính mẫu số B1 (Slope)\n",
        "def deno_slope(data, mean):\n",
        "    deno_slope = data.map(lambda a: (a - mean) ** 2)\n",
        "    result = deno_slope.reduce(lambda a, b: a + b)\n",
        "    return result"
      ],
      "metadata": {
        "id": "jN4CD4p69gzU"
      },
      "execution_count": null,
      "outputs": []
    },
    {
      "cell_type": "code",
      "source": [
        "# Chuyển rdd_X_train thành danh sách các giá trị\n",
        "rdd_X_train_1 = rdd_X_train.map(lambda a: a[0])"
      ],
      "metadata": {
        "id": "1kiGer0A8zRD"
      },
      "execution_count": null,
      "outputs": []
    },
    {
      "cell_type": "code",
      "source": [
        "print(rdd_X_train_1.collect())"
      ],
      "metadata": {
        "colab": {
          "base_uri": "https://localhost:8080/"
        },
        "id": "XWi_KMedHj8-",
        "outputId": "fcaf3ff9-80cf-42ff-f9ce-fd10e69088e3"
      },
      "execution_count": null,
      "outputs": [
        {
          "output_type": "stream",
          "name": "stdout",
          "text": [
            "[0.0, 0.2, 0.2, 0.2, 0.3, 0.3, 0.4, 0.4, 0.4, 0.5, 0.5, 0.5, 0.5, 0.5, 0.5, 0.5, 0.5, 0.5, 0.5, 0.5, 0.5, 0.5, 0.6, 0.6, 0.6, 0.6, 0.6, 0.6, 0.6, 0.6, 0.7, 0.7, 0.7, 0.7, 0.7, 0.8, 0.8, 0.8, 0.8, 0.8, 0.8, 0.8, 0.8, 0.8, 0.9, 0.9, 0.9, 0.9, 0.9, 0.9, 0.9, 0.9, 0.9, 0.9, 1.0, 1.0, 1.0, 1.0, 1.0, 1.0, 1.0, 1.0, 1.1, 1.1, 1.1, 1.1, 1.1, 1.1, 1.1, 1.1, 1.1, 1.2, 1.2, 1.2, 1.2, 1.2, 1.2, 1.2, 1.2, 1.2, 1.2, 1.2, 1.2, 1.3, 1.3, 1.3, 1.3, 1.3, 1.3, 1.3, 1.3, 1.3, 1.4, 1.4, 1.4, 1.4, 1.4, 1.4, 1.4, 1.4, 1.4, 1.4, 1.4, 1.5, 1.5, 1.5, 1.5, 1.5, 1.5, 1.5, 1.5, 1.5, 1.5, 1.5, 1.5, 1.5, 1.5, 1.5, 1.5, 1.5, 1.6, 1.6, 1.6, 1.6, 1.6, 1.6, 1.6, 1.6, 1.7, 1.8, 1.8, 1.8, 1.8, 1.8, 1.8, 1.8, 1.9, 1.9, 1.9, 1.9, 1.9, 1.9, 1.9, 1.9, 1.9, 1.9, 1.9, 2.0, 2.0, 2.0, 2.0, 2.0, 2.0, 2.0, 2.0, 2.0, 2.1, 2.1, 2.1, 2.1, 2.1, 2.1, 2.1, 2.1, 2.2, 2.2, 2.2, 2.2, 2.2, 2.2, 2.2, 2.2, 2.2, 2.2, 2.2, 2.2, 2.3, 2.3, 2.3, 2.3, 2.3, 2.3, 2.3, 2.4, 2.4, 2.4, 2.4, 2.4, 2.4, 2.4, 2.4, 2.4, 2.4, 2.4, 2.4, 2.5, 2.5, 2.5, 2.5, 2.5, 2.5, 2.5, 2.5, 2.5, 2.5, 2.6, 2.6, 2.6, 2.6, 2.6, 2.6, 2.6, 2.6, 2.6, 2.6, 2.6, 2.6, 2.6, 2.7, 2.7, 2.7, 2.7, 2.7, 2.7, 2.7, 2.7, 2.7, 2.7, 2.7, 2.7, 2.7, 2.7, 2.7, 2.8, 2.8, 2.8, 2.8, 2.8, 2.8, 2.8, 2.8, 2.9, 2.9, 2.9, 2.9, 2.9, 2.9, 2.9, 3.0, 3.0, 3.0, 3.0, 3.0, 3.0, 3.0, 3.0, 3.0, 3.0, 3.1, 3.1, 3.1, 3.1, 3.1, 3.1, 3.1, 3.1, 3.1, 3.2, 3.2, 3.2, 3.2, 3.2, 3.3, 3.3, 3.3, 3.3, 3.3, 3.3, 3.3, 3.4, 3.4, 3.5, 3.5, 3.5, 3.5, 3.5, 3.5, 3.5, 3.5, 3.6, 3.6, 3.6, 3.6, 3.6, 3.6, 3.6, 3.6, 3.6, 3.6, 3.6, 3.6, 3.7, 3.7, 3.7, 3.7, 3.7, 3.7, 3.7, 3.7, 3.8, 3.8, 3.8, 3.8, 3.8, 3.8, 3.8, 3.8, 3.8, 3.9, 3.9, 3.9, 3.9, 3.9, 4.0, 4.0, 4.0, 4.0, 4.0, 4.0, 4.0, 4.0, 4.1, 4.1, 4.1, 4.1, 4.1, 4.1, 4.2, 4.2, 4.2, 4.2, 4.2, 4.2, 4.3, 4.3, 4.3, 4.3, 4.3, 4.3, 4.3, 4.4, 4.4, 4.4, 4.4, 4.4, 4.4, 4.4, 4.4, 4.5, 4.5, 4.5, 4.5, 4.5, 4.5, 4.5, 4.5, 4.5, 4.5, 4.5, 4.5, 4.6, 4.6, 4.6, 4.6, 4.6, 4.6, 4.6, 4.6, 4.6, 4.6, 4.6, 4.6, 4.6, 4.6, 4.7, 4.7, 4.7, 4.7, 4.7, 4.7, 4.7, 4.8, 4.8, 4.8, 4.8, 4.8, 4.9, 4.9, 4.9, 4.9, 4.9, 4.9, 5.0, 5.0, 5.0, 5.0, 5.0, 5.0, 5.0, 5.1, 5.1, 5.1, 5.1, 5.1, 5.1, 5.1, 5.1, 5.1, 5.1, 5.1, 5.1, 5.1, 5.1, 5.2, 5.2, 5.2, 5.2, 5.2, 5.2, 5.2, 5.2, 5.2, 5.2, 5.2, 5.3, 5.3, 5.3, 5.3, 5.3, 5.4, 5.4, 5.4, 5.4, 5.4, 5.4, 5.4, 5.5, 5.5, 5.5, 5.5, 5.5, 5.5, 5.5, 5.5, 5.5, 5.6, 5.6, 5.6, 5.6, 5.6, 5.7, 5.7, 5.7, 5.7, 5.7, 5.7, 5.7, 5.7, 5.7, 5.8, 5.8, 5.8, 5.8, 5.8, 5.8, 5.8, 5.9, 5.9, 5.9, 5.9, 6.0, 6.0, 6.0, 6.0, 6.0, 6.0, 6.0, 6.0, 6.0, 6.1, 6.1, 6.1, 6.1, 6.1, 6.1, 6.1, 6.2, 6.2, 6.2, 6.2, 6.2, 6.2, 6.2, 6.2, 6.2, 6.2, 6.2, 6.2, 6.3, 6.3, 6.3, 6.3, 6.3, 6.3, 6.3, 6.3, 6.3, 6.4, 6.4, 6.4, 6.4, 6.4, 6.4, 6.5, 6.5, 6.5, 6.5, 6.5, 6.6, 6.6, 6.6, 6.6, 6.7, 6.7, 6.7, 6.7, 6.7, 6.8, 6.8, 6.8, 6.8, 6.8, 6.8, 6.8, 6.8, 6.9, 6.9, 7.0, 7.0, 7.0, 7.0, 7.0, 7.1, 7.1, 7.1, 7.1, 7.2, 7.2, 7.2, 7.2, 7.3, 7.3, 7.3, 7.3, 7.3, 7.3, 7.3, 7.3, 7.3, 7.4, 7.4, 7.4, 7.4, 7.4, 7.4, 7.4, 7.5, 7.5, 7.5, 7.5, 7.5, 7.6, 7.6, 7.6, 7.6, 7.6, 7.6, 7.7, 7.7, 7.7, 7.7, 7.7, 7.7, 7.7, 7.7, 7.8, 7.8, 7.8, 7.8, 7.8, 7.8, 7.9, 7.9, 7.9, 7.9, 8.0, 8.0, 8.0, 8.0, 8.0, 8.0, 8.0, 8.0, 8.0, 8.0, 8.0, 8.1, 8.1, 8.1, 8.1, 8.1, 8.1, 8.1, 8.1, 8.1, 8.1, 8.1, 8.1, 8.2, 8.2, 8.2, 8.2, 8.2, 8.2, 8.2, 8.3, 8.3, 8.3, 8.3, 8.3, 8.3, 8.3, 8.4, 8.4, 8.4, 8.5, 8.5, 8.5, 8.5, 8.5, 8.5, 8.5, 8.5, 8.6, 8.7, 8.7, 8.7, 8.7, 8.7, 8.7, 8.7, 8.8, 8.8, 8.8, 8.8, 8.8, 8.8, 8.8, 8.8, 8.9, 9.0, 9.0, 9.0, 9.0, 9.0, 9.0, 9.1, 9.1, 9.2, 9.2, 9.2, 9.2, 9.2, 9.2, 9.2, 9.3, 9.3, 9.3, 9.3, 9.3, 9.3, 9.4, 9.4, 9.4, 9.5, 9.5, 9.6, 9.6, 9.6, 9.6, 9.6, 9.6, 9.6, 9.7, 9.7, 9.8, 9.8, 9.8, 9.8, 9.9, 9.9, 9.9, 9.9, 9.9, 9.9, 10.0, 10.0, 10.0, 10.0, 10.1, 10.1, 10.1, 10.1, 10.1, 10.1, 10.1, 10.2, 10.2, 10.2, 10.2, 10.3, 10.3, 10.3, 10.3, 10.3, 10.3, 10.4, 10.4, 10.4, 10.4, 10.5, 10.5, 10.5, 10.6, 10.6, 10.7, 10.7, 10.7, 10.7, 10.7, 10.8, 10.8, 10.8, 10.8, 10.8, 10.9, 10.9, 10.9, 11.0, 11.0, 11.0, 11.0, 11.1, 11.1, 11.1, 11.1, 11.2, 11.2, 11.2, 11.2, 11.2, 11.2, 11.3, 11.3, 11.3, 11.3, 11.4, 11.4, 11.4, 11.4, 11.5, 11.5, 11.5, 11.5, 11.6, 11.6, 11.6, 11.6, 11.7, 11.7, 11.7, 11.7, 11.7, 11.8, 11.8, 11.8, 11.8, 11.8, 11.8, 11.8, 11.9, 11.9, 11.9, 11.9, 12.0, 12.0, 12.0, 12.0, 12.1, 12.1, 12.1, 12.2, 12.2, 12.2, 12.2, 12.2, 12.2, 12.2, 12.2, 12.2, 12.3, 12.3, 12.3, 12.3, 12.3, 12.3, 12.4, 12.5, 12.5, 12.5, 12.5, 12.6, 12.6, 12.6, 12.8, 12.8, 12.8, 12.8, 12.8, 12.8, 12.8, 13.0, 13.0, 13.1, 13.1, 13.1, 13.1, 13.1, 13.2, 13.2, 13.2, 13.2, 13.2, 13.2, 13.3, 13.3, 13.3, 13.3, 13.3, 13.3, 13.4, 13.4, 13.4, 13.4, 13.4, 13.4, 13.5, 13.5, 13.5, 13.5, 13.5, 13.6, 13.6, 13.6, 13.8, 13.9, 13.9, 13.9, 13.9, 14.0, 14.0, 14.0, 14.0, 14.0, 14.1, 14.1, 14.1, 14.1, 14.1, 14.1, 14.1, 14.2, 14.2, 14.3, 14.3, 14.3, 14.3, 14.4, 14.4, 14.4, 14.5, 14.5, 14.5, 14.5, 14.5, 14.6, 14.6, 14.6, 14.6, 14.6, 14.6, 14.7, 14.7, 14.7, 14.8, 14.9, 14.9, 15.0, 15.0, 15.0, 15.0, 15.0, 15.1, 15.1, 15.1, 15.2, 15.2, 15.3, 15.3, 15.4, 15.4, 15.5, 15.5, 15.6, 15.6, 15.6, 15.6, 15.6, 15.6, 15.7, 15.7, 15.7, 15.8, 15.8, 15.8, 16.0, 16.0, 16.1, 16.1, 16.2, 16.3, 16.3, 16.3, 16.3, 16.4, 16.4, 16.4, 16.4, 16.5, 16.5, 16.6, 16.6, 16.7, 16.7, 16.7, 16.8, 16.9, 16.9, 17.0, 17.0, 17.1, 17.1, 17.1, 17.2, 17.3, 17.3, 17.3, 17.3, 17.4, 17.4, 17.5, 17.6, 17.6, 17.6, 17.6, 17.6, 17.7, 17.9, 18.0, 18.0, 18.0, 18.0, 18.0, 18.0, 18.1, 18.2, 18.2, 18.2, 18.2, 18.2, 18.2, 18.3, 18.3, 18.3, 18.5, 18.5, 18.5, 19.1, 19.1, 19.2, 19.2, 19.3, 19.3, 19.3, 19.4, 19.6, 19.7, 19.8, 19.9, 20.0, 20.0, 20.0, 20.1, 20.1, 20.2, 20.2, 20.4, 20.4, 20.4, 20.5, 20.6, 20.8, 20.9, 20.9, 20.9, 21.0, 21.0, 21.1, 21.1, 21.2, 21.4, 21.6, 21.7, 21.7, 21.7, 22.2, 22.2, 22.2, 22.3, 22.4, 22.5, 22.5, 22.5, 22.5, 22.6, 22.8, 22.9, 22.9, 23.0, 23.1, 23.1, 23.2, 23.4, 23.5, 23.6, 23.7, 23.7, 23.7, 23.7, 23.8, 23.9, 24.1, 24.2, 24.3, 24.4, 24.4, 24.4, 24.5, 24.6, 24.6, 24.7, 24.7, 24.7, 24.8, 24.9, 24.9, 24.9, 25.0, 25.2, 25.2, 25.3, 25.4, 25.4, 25.4, 25.4, 25.5, 25.9, 26.1, 26.1, 26.1, 26.3, 26.4, 26.6, 26.6, 27.3, 27.4, 27.5, 27.6, 27.6, 27.6, 27.8, 27.9, 28.2, 28.3, 28.4, 28.6, 28.6, 28.8, 28.9, 29.2, 29.4, 29.6, 29.6, 29.7, 29.9, 30.2, 30.3, 30.8, 30.9, 31.5, 31.6, 32.2, 32.6, 32.7, 32.8, 33.0, 33.0, 33.0, 33.2, 33.8, 34.0, 34.1, 34.4, 34.9, 35.0, 35.0, 35.1, 35.3, 35.3, 35.4, 36.1, 36.6, 36.7, 36.7, 36.7, 36.8, 37.2, 37.3, 37.5, 37.6, 37.7, 37.8, 37.9, 38.1, 38.1, 38.3, 38.6, 38.7, 38.8, 38.8, 38.9, 39.0, 39.1, 39.2, 39.4, 39.5, 39.6, 39.7, 39.8, 39.8, 39.9, 40.1, 42.0, 42.0, 42.1, 42.2, 42.3, 43.0, 43.2, 43.3, 43.4, 43.5, 43.9, 43.9, 44.0, 44.2, 44.3, 44.9, 45.1, 45.7, 45.7, 46.3, 46.7, 47.2, 47.3, 47.3, 47.7, 48.0, 48.8, 49.2, 49.4, 49.6, 50.2, 50.4, 50.5, 50.8, 51.0, 51.1, 51.2, 51.6, 51.6, 52.1, 52.5, 53.0, 53.2, 53.3, 54.0, 54.1, 54.2, 54.4, 54.9, 55.0, 55.2, 55.7, 56.4, 56.5, 56.8, 56.9, 57.0, 57.4, 57.7, 58.4, 58.9, 60.5, 61.7, 62.6, 63.4, 64.1, 64.6, 65.1, 65.5, 65.7, 65.9, 67.2, 67.7, 68.8, 69.0, 69.0, 70.5, 70.8, 71.5, 72.2, 72.9, 73.2, 73.3, 73.7, 74.4, 74.5, 74.5, 74.8, 75.0, 76.5, 76.7, 78.3, 80.6, 82.3, 84.2, 84.8, 88.0, 88.8, 90.2, 90.7, 91.2, 93.9, 94.0, 94.8, 95.9, 96.0, 96.8, 100.6, 101.3, 102.8, 103.0, 104.8, 106.3, 108.2, 108.8, 111.9, 113.7, 115.8, 116.3, 116.7, 118.7, 123.1, 123.5, 127.4, 131.9, 132.1, 134.3, 139.2, 140.3, 147.4, 150.8, 163.7, 164.7, 166.1, 187.8, 222.6, 224.5, 240.5, 308.9, 370.9, 411.7, 420.7, 469.2]\n"
          ]
        }
      ]
    },
    {
      "cell_type": "code",
      "source": [
        "mean_X_train = rdd_X_train_1.mean()\n",
        "print(mean_X_train)"
      ],
      "metadata": {
        "colab": {
          "base_uri": "https://localhost:8080/"
        },
        "id": "qnjdWZ3t9rva",
        "outputId": "9115bae5-8f52-4ec9-83e8-fc7b187c6038"
      },
      "execution_count": null,
      "outputs": [
        {
          "output_type": "stream",
          "name": "stdout",
          "text": [
            "18.790113207547172\n"
          ]
        }
      ]
    },
    {
      "cell_type": "code",
      "source": [
        "deno_X_train = deno_slope(rdd_X_train_1, mean_X_train)\n",
        "print(deno_X_train)"
      ],
      "metadata": {
        "colab": {
          "base_uri": "https://localhost:8080/"
        },
        "id": "NLH0Qkv69zYa",
        "outputId": "36538ee9-02c0-495a-b2f2-212cf874d3ff"
      },
      "execution_count": null,
      "outputs": [
        {
          "output_type": "stream",
          "name": "stdout",
          "text": [
            "1601677.4404830195\n"
          ]
        }
      ]
    },
    {
      "cell_type": "code",
      "source": [
        "#Chuyển rdd_X_train thành danh sách các giá trị\n",
        "rdd_Y_train_1 = rdd_Y_train.map(lambda a: a[0])"
      ],
      "metadata": {
        "id": "KY1zj1wd93oh"
      },
      "execution_count": null,
      "outputs": []
    },
    {
      "cell_type": "code",
      "source": [
        "mean_Y_train = rdd_Y_train_1.mean()\n",
        "print(mean_Y_train)"
      ],
      "metadata": {
        "colab": {
          "base_uri": "https://localhost:8080/"
        },
        "id": "mpNBpzDl-DoE",
        "outputId": "79b3d57e-06de-415b-80a3-7d6813fed495"
      },
      "execution_count": null,
      "outputs": [
        {
          "output_type": "stream",
          "name": "stdout",
          "text": [
            "18.900000000000006\n"
          ]
        }
      ]
    },
    {
      "cell_type": "code",
      "source": [
        "deno_Y_train = deno_slope(rdd_Y_train_1, mean_Y_train)\n",
        "print(deno_Y_train)"
      ],
      "metadata": {
        "colab": {
          "base_uri": "https://localhost:8080/"
        },
        "id": "Q4d6r5hT-Sa5",
        "outputId": "aec078c6-14cf-43fb-99c1-5d8b9947e243"
      },
      "execution_count": null,
      "outputs": [
        {
          "output_type": "stream",
          "name": "stdout",
          "text": [
            "1350086.4400000002\n"
          ]
        }
      ]
    },
    {
      "cell_type": "code",
      "source": [
        "# Tính tử số B1 (Slope)\n",
        "def nume_slope(X, mean_X, Y, mean_Y):\n",
        "    result = 0.0\n",
        "    common_rdd = rdd_X_train_1.zip(rdd_Y_train_1)\n",
        "    nume_slope = common_rdd.map(lambda a: (a[0] - mean_X) * (a[1] - mean_Y))\n",
        "    result += nume_slope.reduce(lambda a, b: a + b)\n",
        "    return result"
      ],
      "metadata": {
        "id": "cv-aon3i-U2G"
      },
      "execution_count": null,
      "outputs": []
    },
    {
      "cell_type": "code",
      "source": [
        "nume_slope_xy = nume_slope(rdd_X_train_1, mean_X_train, rdd_Y_train_1, mean_Y_train)\n",
        "print(nume_slope_xy)"
      ],
      "metadata": {
        "colab": {
          "base_uri": "https://localhost:8080/"
        },
        "id": "w0EZgU_P-gws",
        "outputId": "b539fdd0-f435-4fbf-8568-a3af12c98165"
      },
      "execution_count": null,
      "outputs": [
        {
          "output_type": "stream",
          "name": "stdout",
          "text": [
            "1431582.5799999996\n"
          ]
        }
      ]
    },
    {
      "cell_type": "code",
      "source": [
        "from statistics import mean"
      ],
      "metadata": {
        "id": "ZHW0w-qc_dPy"
      },
      "execution_count": null,
      "outputs": []
    },
    {
      "cell_type": "code",
      "source": [
        "# Tính toán các hệ số B0 và B1\n",
        "def coefficients(X, Y):\n",
        "    X_mean = X.mean()\n",
        "    Y_mean = Y.mean()\n",
        "\n",
        "    common_rdd = X.zip(Y)\n",
        "\n",
        "    b1 = nume_slope(X, X_mean, y, Y_mean) / deno_slope(X, X_mean)\n",
        "    b0 = Y_mean - b1 * X_mean\n",
        "\n",
        "    return [b0, b1]"
      ],
      "metadata": {
        "id": "lwQWs8Ch-v5y"
      },
      "execution_count": null,
      "outputs": []
    },
    {
      "cell_type": "code",
      "source": [
        "# Hệ số của mô hình\n",
        "coef = coefficients(rdd_X_train_1, rdd_Y_train_1)\n",
        "print(\">>>> Hệ số - B0, B1 = \" + str(coef))"
      ],
      "metadata": {
        "colab": {
          "base_uri": "https://localhost:8080/"
        },
        "id": "HP-Bduj2_LT0",
        "outputId": "79b736e2-fe9c-4fd4-c64d-ffbb8fa20486"
      },
      "execution_count": null,
      "outputs": [
        {
          "output_type": "stream",
          "name": "stdout",
          "text": [
            ">>>> Hệ số - B0, B1 = [2.1053582923411227, 0.8938020501607838]\n"
          ]
        }
      ]
    },
    {
      "cell_type": "code",
      "source": [
        "# Mô hình hồi quy tuyến tính để dự đoán market value\n",
        "def linear_regression_1(X_train, Y_train, X_test):\n",
        "    coef = coefficients(X_train, Y_train)\n",
        "    b0 = coef[0]\n",
        "    b1 = coef[1]\n",
        "    ypred = X_test.map(lambda a: a * b1 + b0)\n",
        "    return ypred"
      ],
      "metadata": {
        "id": "jDe_WAjQBerT"
      },
      "execution_count": null,
      "outputs": []
    },
    {
      "cell_type": "code",
      "source": [
        "# Chuyển rdd_X_test thành danh sách các giá trị\n",
        "rdd_X_test_1 = rdd_X_test.map(lambda a: a[0])"
      ],
      "metadata": {
        "id": "guLTp_WbBk0-"
      },
      "execution_count": null,
      "outputs": []
    },
    {
      "cell_type": "code",
      "source": [
        "# Prediction lưu trữ kết quả dự đoán giá trị vốn hóa\n",
        "start = time.time()\n",
        "prediction = linear_regression_1(rdd_X_train_1, rdd_Y_train_1, rdd_X_test_1)\n",
        "end = time.time()\n",
        "run_time_reg1 = end - start\n",
        "print(\">>>> Run time:\" + str(run_time_reg1) + \"(s)\")"
      ],
      "metadata": {
        "colab": {
          "base_uri": "https://localhost:8080/"
        },
        "id": "duDh6WWlB723",
        "outputId": "ce4e237a-2a1b-42f1-ce72-2e02aaced595"
      },
      "execution_count": null,
      "outputs": [
        {
          "output_type": "stream",
          "name": "stdout",
          "text": [
            ">>>> Run time:2.2086126804351807(s)\n"
          ]
        }
      ]
    },
    {
      "cell_type": "code",
      "source": [
        "# Xuất kết quả dự đoán market value trên mô hình hồi quy tuyến tính\n",
        "prediction_result = prediction.collect()\n",
        "DataFrame({'prediction_result':prediction_result})"
      ],
      "metadata": {
        "colab": {
          "base_uri": "https://localhost:8080/",
          "height": 424
        },
        "id": "SWqFTbKtCPGp",
        "outputId": "0aee9918-2a35-45f6-fa90-3ff4665d4acf"
      },
      "execution_count": null,
      "outputs": [
        {
          "output_type": "execute_result",
          "data": {
            "text/plain": [
              "     prediction_result\n",
              "0             2.373499\n",
              "1             2.462879\n",
              "2             2.552259\n",
              "3             2.552259\n",
              "4             2.552259\n",
              "..                 ...\n",
              "594         138.231411\n",
              "595         147.348191\n",
              "596         157.805675\n",
              "597         229.131079\n",
              "598         419.689676\n",
              "\n",
              "[599 rows x 1 columns]"
            ],
            "text/html": [
              "\n",
              "  <div id=\"df-1b3e0c69-e974-42dc-a5ce-5e2de18cff36\" class=\"colab-df-container\">\n",
              "    <div>\n",
              "<style scoped>\n",
              "    .dataframe tbody tr th:only-of-type {\n",
              "        vertical-align: middle;\n",
              "    }\n",
              "\n",
              "    .dataframe tbody tr th {\n",
              "        vertical-align: top;\n",
              "    }\n",
              "\n",
              "    .dataframe thead th {\n",
              "        text-align: right;\n",
              "    }\n",
              "</style>\n",
              "<table border=\"1\" class=\"dataframe\">\n",
              "  <thead>\n",
              "    <tr style=\"text-align: right;\">\n",
              "      <th></th>\n",
              "      <th>prediction_result</th>\n",
              "    </tr>\n",
              "  </thead>\n",
              "  <tbody>\n",
              "    <tr>\n",
              "      <th>0</th>\n",
              "      <td>2.373499</td>\n",
              "    </tr>\n",
              "    <tr>\n",
              "      <th>1</th>\n",
              "      <td>2.462879</td>\n",
              "    </tr>\n",
              "    <tr>\n",
              "      <th>2</th>\n",
              "      <td>2.552259</td>\n",
              "    </tr>\n",
              "    <tr>\n",
              "      <th>3</th>\n",
              "      <td>2.552259</td>\n",
              "    </tr>\n",
              "    <tr>\n",
              "      <th>4</th>\n",
              "      <td>2.552259</td>\n",
              "    </tr>\n",
              "    <tr>\n",
              "      <th>...</th>\n",
              "      <td>...</td>\n",
              "    </tr>\n",
              "    <tr>\n",
              "      <th>594</th>\n",
              "      <td>138.231411</td>\n",
              "    </tr>\n",
              "    <tr>\n",
              "      <th>595</th>\n",
              "      <td>147.348191</td>\n",
              "    </tr>\n",
              "    <tr>\n",
              "      <th>596</th>\n",
              "      <td>157.805675</td>\n",
              "    </tr>\n",
              "    <tr>\n",
              "      <th>597</th>\n",
              "      <td>229.131079</td>\n",
              "    </tr>\n",
              "    <tr>\n",
              "      <th>598</th>\n",
              "      <td>419.689676</td>\n",
              "    </tr>\n",
              "  </tbody>\n",
              "</table>\n",
              "<p>599 rows × 1 columns</p>\n",
              "</div>\n",
              "    <div class=\"colab-df-buttons\">\n",
              "\n",
              "  <div class=\"colab-df-container\">\n",
              "    <button class=\"colab-df-convert\" onclick=\"convertToInteractive('df-1b3e0c69-e974-42dc-a5ce-5e2de18cff36')\"\n",
              "            title=\"Convert this dataframe to an interactive table.\"\n",
              "            style=\"display:none;\">\n",
              "\n",
              "  <svg xmlns=\"http://www.w3.org/2000/svg\" height=\"24px\" viewBox=\"0 -960 960 960\">\n",
              "    <path d=\"M120-120v-720h720v720H120Zm60-500h600v-160H180v160Zm220 220h160v-160H400v160Zm0 220h160v-160H400v160ZM180-400h160v-160H180v160Zm440 0h160v-160H620v160ZM180-180h160v-160H180v160Zm440 0h160v-160H620v160Z\"/>\n",
              "  </svg>\n",
              "    </button>\n",
              "\n",
              "  <style>\n",
              "    .colab-df-container {\n",
              "      display:flex;\n",
              "      gap: 12px;\n",
              "    }\n",
              "\n",
              "    .colab-df-convert {\n",
              "      background-color: #E8F0FE;\n",
              "      border: none;\n",
              "      border-radius: 50%;\n",
              "      cursor: pointer;\n",
              "      display: none;\n",
              "      fill: #1967D2;\n",
              "      height: 32px;\n",
              "      padding: 0 0 0 0;\n",
              "      width: 32px;\n",
              "    }\n",
              "\n",
              "    .colab-df-convert:hover {\n",
              "      background-color: #E2EBFA;\n",
              "      box-shadow: 0px 1px 2px rgba(60, 64, 67, 0.3), 0px 1px 3px 1px rgba(60, 64, 67, 0.15);\n",
              "      fill: #174EA6;\n",
              "    }\n",
              "\n",
              "    .colab-df-buttons div {\n",
              "      margin-bottom: 4px;\n",
              "    }\n",
              "\n",
              "    [theme=dark] .colab-df-convert {\n",
              "      background-color: #3B4455;\n",
              "      fill: #D2E3FC;\n",
              "    }\n",
              "\n",
              "    [theme=dark] .colab-df-convert:hover {\n",
              "      background-color: #434B5C;\n",
              "      box-shadow: 0px 1px 3px 1px rgba(0, 0, 0, 0.15);\n",
              "      filter: drop-shadow(0px 1px 2px rgba(0, 0, 0, 0.3));\n",
              "      fill: #FFFFFF;\n",
              "    }\n",
              "  </style>\n",
              "\n",
              "    <script>\n",
              "      const buttonEl =\n",
              "        document.querySelector('#df-1b3e0c69-e974-42dc-a5ce-5e2de18cff36 button.colab-df-convert');\n",
              "      buttonEl.style.display =\n",
              "        google.colab.kernel.accessAllowed ? 'block' : 'none';\n",
              "\n",
              "      async function convertToInteractive(key) {\n",
              "        const element = document.querySelector('#df-1b3e0c69-e974-42dc-a5ce-5e2de18cff36');\n",
              "        const dataTable =\n",
              "          await google.colab.kernel.invokeFunction('convertToInteractive',\n",
              "                                                    [key], {});\n",
              "        if (!dataTable) return;\n",
              "\n",
              "        const docLinkHtml = 'Like what you see? Visit the ' +\n",
              "          '<a target=\"_blank\" href=https://colab.research.google.com/notebooks/data_table.ipynb>data table notebook</a>'\n",
              "          + ' to learn more about interactive tables.';\n",
              "        element.innerHTML = '';\n",
              "        dataTable['output_type'] = 'display_data';\n",
              "        await google.colab.output.renderOutput(dataTable, element);\n",
              "        const docLink = document.createElement('div');\n",
              "        docLink.innerHTML = docLinkHtml;\n",
              "        element.appendChild(docLink);\n",
              "      }\n",
              "    </script>\n",
              "  </div>\n",
              "\n",
              "\n",
              "<div id=\"df-86ae09c7-b4aa-4aaa-89e7-1b9f8e19e4a5\">\n",
              "  <button class=\"colab-df-quickchart\" onclick=\"quickchart('df-86ae09c7-b4aa-4aaa-89e7-1b9f8e19e4a5')\"\n",
              "            title=\"Suggest charts\"\n",
              "            style=\"display:none;\">\n",
              "\n",
              "<svg xmlns=\"http://www.w3.org/2000/svg\" height=\"24px\"viewBox=\"0 0 24 24\"\n",
              "     width=\"24px\">\n",
              "    <g>\n",
              "        <path d=\"M19 3H5c-1.1 0-2 .9-2 2v14c0 1.1.9 2 2 2h14c1.1 0 2-.9 2-2V5c0-1.1-.9-2-2-2zM9 17H7v-7h2v7zm4 0h-2V7h2v10zm4 0h-2v-4h2v4z\"/>\n",
              "    </g>\n",
              "</svg>\n",
              "  </button>\n",
              "\n",
              "<style>\n",
              "  .colab-df-quickchart {\n",
              "      --bg-color: #E8F0FE;\n",
              "      --fill-color: #1967D2;\n",
              "      --hover-bg-color: #E2EBFA;\n",
              "      --hover-fill-color: #174EA6;\n",
              "      --disabled-fill-color: #AAA;\n",
              "      --disabled-bg-color: #DDD;\n",
              "  }\n",
              "\n",
              "  [theme=dark] .colab-df-quickchart {\n",
              "      --bg-color: #3B4455;\n",
              "      --fill-color: #D2E3FC;\n",
              "      --hover-bg-color: #434B5C;\n",
              "      --hover-fill-color: #FFFFFF;\n",
              "      --disabled-bg-color: #3B4455;\n",
              "      --disabled-fill-color: #666;\n",
              "  }\n",
              "\n",
              "  .colab-df-quickchart {\n",
              "    background-color: var(--bg-color);\n",
              "    border: none;\n",
              "    border-radius: 50%;\n",
              "    cursor: pointer;\n",
              "    display: none;\n",
              "    fill: var(--fill-color);\n",
              "    height: 32px;\n",
              "    padding: 0;\n",
              "    width: 32px;\n",
              "  }\n",
              "\n",
              "  .colab-df-quickchart:hover {\n",
              "    background-color: var(--hover-bg-color);\n",
              "    box-shadow: 0 1px 2px rgba(60, 64, 67, 0.3), 0 1px 3px 1px rgba(60, 64, 67, 0.15);\n",
              "    fill: var(--button-hover-fill-color);\n",
              "  }\n",
              "\n",
              "  .colab-df-quickchart-complete:disabled,\n",
              "  .colab-df-quickchart-complete:disabled:hover {\n",
              "    background-color: var(--disabled-bg-color);\n",
              "    fill: var(--disabled-fill-color);\n",
              "    box-shadow: none;\n",
              "  }\n",
              "\n",
              "  .colab-df-spinner {\n",
              "    border: 2px solid var(--fill-color);\n",
              "    border-color: transparent;\n",
              "    border-bottom-color: var(--fill-color);\n",
              "    animation:\n",
              "      spin 1s steps(1) infinite;\n",
              "  }\n",
              "\n",
              "  @keyframes spin {\n",
              "    0% {\n",
              "      border-color: transparent;\n",
              "      border-bottom-color: var(--fill-color);\n",
              "      border-left-color: var(--fill-color);\n",
              "    }\n",
              "    20% {\n",
              "      border-color: transparent;\n",
              "      border-left-color: var(--fill-color);\n",
              "      border-top-color: var(--fill-color);\n",
              "    }\n",
              "    30% {\n",
              "      border-color: transparent;\n",
              "      border-left-color: var(--fill-color);\n",
              "      border-top-color: var(--fill-color);\n",
              "      border-right-color: var(--fill-color);\n",
              "    }\n",
              "    40% {\n",
              "      border-color: transparent;\n",
              "      border-right-color: var(--fill-color);\n",
              "      border-top-color: var(--fill-color);\n",
              "    }\n",
              "    60% {\n",
              "      border-color: transparent;\n",
              "      border-right-color: var(--fill-color);\n",
              "    }\n",
              "    80% {\n",
              "      border-color: transparent;\n",
              "      border-right-color: var(--fill-color);\n",
              "      border-bottom-color: var(--fill-color);\n",
              "    }\n",
              "    90% {\n",
              "      border-color: transparent;\n",
              "      border-bottom-color: var(--fill-color);\n",
              "    }\n",
              "  }\n",
              "</style>\n",
              "\n",
              "  <script>\n",
              "    async function quickchart(key) {\n",
              "      const quickchartButtonEl =\n",
              "        document.querySelector('#' + key + ' button');\n",
              "      quickchartButtonEl.disabled = true;  // To prevent multiple clicks.\n",
              "      quickchartButtonEl.classList.add('colab-df-spinner');\n",
              "      try {\n",
              "        const charts = await google.colab.kernel.invokeFunction(\n",
              "            'suggestCharts', [key], {});\n",
              "      } catch (error) {\n",
              "        console.error('Error during call to suggestCharts:', error);\n",
              "      }\n",
              "      quickchartButtonEl.classList.remove('colab-df-spinner');\n",
              "      quickchartButtonEl.classList.add('colab-df-quickchart-complete');\n",
              "    }\n",
              "    (() => {\n",
              "      let quickchartButtonEl =\n",
              "        document.querySelector('#df-86ae09c7-b4aa-4aaa-89e7-1b9f8e19e4a5 button');\n",
              "      quickchartButtonEl.style.display =\n",
              "        google.colab.kernel.accessAllowed ? 'block' : 'none';\n",
              "    })();\n",
              "  </script>\n",
              "</div>\n",
              "    </div>\n",
              "  </div>\n"
            ]
          },
          "metadata": {},
          "execution_count": 56
        }
      ]
    },
    {
      "cell_type": "code",
      "source": [
        "# Chuyển rdd_y_test thành danh sách các giá trị\n",
        "rdd_Y_test_1 = rdd_Y_test.map(lambda a: a[0])"
      ],
      "metadata": {
        "id": "VAFQ2Q7zCZOh"
      },
      "execution_count": null,
      "outputs": []
    },
    {
      "cell_type": "code",
      "source": [
        "from math import sqrt\n",
        "# Hàm tính toán RMSE\n",
        "def rmse_metric(actual, predicted):\n",
        "    common_rdd = actual.zip(predicted)\n",
        "    prediction_error = common_rdd.map(lambda a: a[0] - a[1])\n",
        "    # prediction_error.collect()\n",
        "    prediction_error_square = prediction_error.map(lambda a: a ** 2)\n",
        "    sum_error = prediction_error_square.reduce(lambda a, b: a + b)\n",
        "    # print(sum_error)\n",
        "    mean_error = sum_error / float(actual.count())\n",
        "    return sqrt(mean_error)"
      ],
      "metadata": {
        "id": "i1WJR6K5CbCw"
      },
      "execution_count": null,
      "outputs": []
    },
    {
      "cell_type": "code",
      "source": [
        "# Hàm đánh giá thuật toán hồi quy trên tập dữ liệu huấn luyện bằng RMSE\n",
        "def evaluate_algorithm(X_train, y_train, X_test, y_test, algorithm):\n",
        "    predicted = algorithm(X_train, y_train, X_test)\n",
        "    rmse = rmse_metric(y_test, predicted)\n",
        "    return rmse"
      ],
      "metadata": {
        "id": "FeuO4814ClBL"
      },
      "execution_count": null,
      "outputs": []
    },
    {
      "cell_type": "code",
      "source": [
        "# Đánh giá thuật toán hồi quy trên tập dữ liệu huấn luyện\n",
        "evaluate_model_HL1 = evaluate_algorithm(rdd_X_train_1, rdd_Y_train_1, rdd_X_test_1, rdd_Y_test_1, linear_regression_1)\n",
        "print(\">>>> Root Mean Squared Error (RMSE) = \" + str(evaluate_model_HL1))"
      ],
      "metadata": {
        "colab": {
          "base_uri": "https://localhost:8080/"
        },
        "id": "Khj6iYVQCrUt",
        "outputId": "65268f69-669e-4317-bcb1-027d91da8cf1"
      },
      "execution_count": null,
      "outputs": [
        {
          "output_type": "stream",
          "name": "stdout",
          "text": [
            ">>>> Root Mean Squared Error (RMSE) = 7.039201229422485\n"
          ]
        }
      ]
    },
    {
      "cell_type": "code",
      "source": [
        "Y_test_origin = rdd_Y_test_1.collect()"
      ],
      "metadata": {
        "id": "fdswm9QaCy66"
      },
      "execution_count": null,
      "outputs": []
    },
    {
      "cell_type": "code",
      "source": [
        "# So sánh giữa giá trị Market Value dự đoán và giá trị gốc\n",
        "compare = DataFrame({'Origin': Y_test_origin, 'Predict': prediction_result})\n",
        "compare.head(10)"
      ],
      "metadata": {
        "colab": {
          "base_uri": "https://localhost:8080/",
          "height": 363
        },
        "id": "QELvZeeZDAUu",
        "outputId": "47154716-fa9a-42fd-b805-7080eb6777b7"
      },
      "execution_count": null,
      "outputs": [
        {
          "output_type": "execute_result",
          "data": {
            "text/plain": [
              "   Origin   Predict\n",
              "0     0.2  2.373499\n",
              "1     0.4  2.462879\n",
              "2     0.4  2.552259\n",
              "3     0.4  2.552259\n",
              "4     0.5  2.552259\n",
              "5     0.5  2.552259\n",
              "6     0.6  2.641640\n",
              "7     0.6  2.641640\n",
              "8     0.6  2.641640\n",
              "9     0.7  2.641640"
            ],
            "text/html": [
              "\n",
              "  <div id=\"df-2a1c54c0-98c8-4e0d-b295-fc24e71310fd\" class=\"colab-df-container\">\n",
              "    <div>\n",
              "<style scoped>\n",
              "    .dataframe tbody tr th:only-of-type {\n",
              "        vertical-align: middle;\n",
              "    }\n",
              "\n",
              "    .dataframe tbody tr th {\n",
              "        vertical-align: top;\n",
              "    }\n",
              "\n",
              "    .dataframe thead th {\n",
              "        text-align: right;\n",
              "    }\n",
              "</style>\n",
              "<table border=\"1\" class=\"dataframe\">\n",
              "  <thead>\n",
              "    <tr style=\"text-align: right;\">\n",
              "      <th></th>\n",
              "      <th>Origin</th>\n",
              "      <th>Predict</th>\n",
              "    </tr>\n",
              "  </thead>\n",
              "  <tbody>\n",
              "    <tr>\n",
              "      <th>0</th>\n",
              "      <td>0.2</td>\n",
              "      <td>2.373499</td>\n",
              "    </tr>\n",
              "    <tr>\n",
              "      <th>1</th>\n",
              "      <td>0.4</td>\n",
              "      <td>2.462879</td>\n",
              "    </tr>\n",
              "    <tr>\n",
              "      <th>2</th>\n",
              "      <td>0.4</td>\n",
              "      <td>2.552259</td>\n",
              "    </tr>\n",
              "    <tr>\n",
              "      <th>3</th>\n",
              "      <td>0.4</td>\n",
              "      <td>2.552259</td>\n",
              "    </tr>\n",
              "    <tr>\n",
              "      <th>4</th>\n",
              "      <td>0.5</td>\n",
              "      <td>2.552259</td>\n",
              "    </tr>\n",
              "    <tr>\n",
              "      <th>5</th>\n",
              "      <td>0.5</td>\n",
              "      <td>2.552259</td>\n",
              "    </tr>\n",
              "    <tr>\n",
              "      <th>6</th>\n",
              "      <td>0.6</td>\n",
              "      <td>2.641640</td>\n",
              "    </tr>\n",
              "    <tr>\n",
              "      <th>7</th>\n",
              "      <td>0.6</td>\n",
              "      <td>2.641640</td>\n",
              "    </tr>\n",
              "    <tr>\n",
              "      <th>8</th>\n",
              "      <td>0.6</td>\n",
              "      <td>2.641640</td>\n",
              "    </tr>\n",
              "    <tr>\n",
              "      <th>9</th>\n",
              "      <td>0.7</td>\n",
              "      <td>2.641640</td>\n",
              "    </tr>\n",
              "  </tbody>\n",
              "</table>\n",
              "</div>\n",
              "    <div class=\"colab-df-buttons\">\n",
              "\n",
              "  <div class=\"colab-df-container\">\n",
              "    <button class=\"colab-df-convert\" onclick=\"convertToInteractive('df-2a1c54c0-98c8-4e0d-b295-fc24e71310fd')\"\n",
              "            title=\"Convert this dataframe to an interactive table.\"\n",
              "            style=\"display:none;\">\n",
              "\n",
              "  <svg xmlns=\"http://www.w3.org/2000/svg\" height=\"24px\" viewBox=\"0 -960 960 960\">\n",
              "    <path d=\"M120-120v-720h720v720H120Zm60-500h600v-160H180v160Zm220 220h160v-160H400v160Zm0 220h160v-160H400v160ZM180-400h160v-160H180v160Zm440 0h160v-160H620v160ZM180-180h160v-160H180v160Zm440 0h160v-160H620v160Z\"/>\n",
              "  </svg>\n",
              "    </button>\n",
              "\n",
              "  <style>\n",
              "    .colab-df-container {\n",
              "      display:flex;\n",
              "      gap: 12px;\n",
              "    }\n",
              "\n",
              "    .colab-df-convert {\n",
              "      background-color: #E8F0FE;\n",
              "      border: none;\n",
              "      border-radius: 50%;\n",
              "      cursor: pointer;\n",
              "      display: none;\n",
              "      fill: #1967D2;\n",
              "      height: 32px;\n",
              "      padding: 0 0 0 0;\n",
              "      width: 32px;\n",
              "    }\n",
              "\n",
              "    .colab-df-convert:hover {\n",
              "      background-color: #E2EBFA;\n",
              "      box-shadow: 0px 1px 2px rgba(60, 64, 67, 0.3), 0px 1px 3px 1px rgba(60, 64, 67, 0.15);\n",
              "      fill: #174EA6;\n",
              "    }\n",
              "\n",
              "    .colab-df-buttons div {\n",
              "      margin-bottom: 4px;\n",
              "    }\n",
              "\n",
              "    [theme=dark] .colab-df-convert {\n",
              "      background-color: #3B4455;\n",
              "      fill: #D2E3FC;\n",
              "    }\n",
              "\n",
              "    [theme=dark] .colab-df-convert:hover {\n",
              "      background-color: #434B5C;\n",
              "      box-shadow: 0px 1px 3px 1px rgba(0, 0, 0, 0.15);\n",
              "      filter: drop-shadow(0px 1px 2px rgba(0, 0, 0, 0.3));\n",
              "      fill: #FFFFFF;\n",
              "    }\n",
              "  </style>\n",
              "\n",
              "    <script>\n",
              "      const buttonEl =\n",
              "        document.querySelector('#df-2a1c54c0-98c8-4e0d-b295-fc24e71310fd button.colab-df-convert');\n",
              "      buttonEl.style.display =\n",
              "        google.colab.kernel.accessAllowed ? 'block' : 'none';\n",
              "\n",
              "      async function convertToInteractive(key) {\n",
              "        const element = document.querySelector('#df-2a1c54c0-98c8-4e0d-b295-fc24e71310fd');\n",
              "        const dataTable =\n",
              "          await google.colab.kernel.invokeFunction('convertToInteractive',\n",
              "                                                    [key], {});\n",
              "        if (!dataTable) return;\n",
              "\n",
              "        const docLinkHtml = 'Like what you see? Visit the ' +\n",
              "          '<a target=\"_blank\" href=https://colab.research.google.com/notebooks/data_table.ipynb>data table notebook</a>'\n",
              "          + ' to learn more about interactive tables.';\n",
              "        element.innerHTML = '';\n",
              "        dataTable['output_type'] = 'display_data';\n",
              "        await google.colab.output.renderOutput(dataTable, element);\n",
              "        const docLink = document.createElement('div');\n",
              "        docLink.innerHTML = docLinkHtml;\n",
              "        element.appendChild(docLink);\n",
              "      }\n",
              "    </script>\n",
              "  </div>\n",
              "\n",
              "\n",
              "<div id=\"df-22e8fe88-3557-4cd8-8acc-965fd7fb7ddd\">\n",
              "  <button class=\"colab-df-quickchart\" onclick=\"quickchart('df-22e8fe88-3557-4cd8-8acc-965fd7fb7ddd')\"\n",
              "            title=\"Suggest charts\"\n",
              "            style=\"display:none;\">\n",
              "\n",
              "<svg xmlns=\"http://www.w3.org/2000/svg\" height=\"24px\"viewBox=\"0 0 24 24\"\n",
              "     width=\"24px\">\n",
              "    <g>\n",
              "        <path d=\"M19 3H5c-1.1 0-2 .9-2 2v14c0 1.1.9 2 2 2h14c1.1 0 2-.9 2-2V5c0-1.1-.9-2-2-2zM9 17H7v-7h2v7zm4 0h-2V7h2v10zm4 0h-2v-4h2v4z\"/>\n",
              "    </g>\n",
              "</svg>\n",
              "  </button>\n",
              "\n",
              "<style>\n",
              "  .colab-df-quickchart {\n",
              "      --bg-color: #E8F0FE;\n",
              "      --fill-color: #1967D2;\n",
              "      --hover-bg-color: #E2EBFA;\n",
              "      --hover-fill-color: #174EA6;\n",
              "      --disabled-fill-color: #AAA;\n",
              "      --disabled-bg-color: #DDD;\n",
              "  }\n",
              "\n",
              "  [theme=dark] .colab-df-quickchart {\n",
              "      --bg-color: #3B4455;\n",
              "      --fill-color: #D2E3FC;\n",
              "      --hover-bg-color: #434B5C;\n",
              "      --hover-fill-color: #FFFFFF;\n",
              "      --disabled-bg-color: #3B4455;\n",
              "      --disabled-fill-color: #666;\n",
              "  }\n",
              "\n",
              "  .colab-df-quickchart {\n",
              "    background-color: var(--bg-color);\n",
              "    border: none;\n",
              "    border-radius: 50%;\n",
              "    cursor: pointer;\n",
              "    display: none;\n",
              "    fill: var(--fill-color);\n",
              "    height: 32px;\n",
              "    padding: 0;\n",
              "    width: 32px;\n",
              "  }\n",
              "\n",
              "  .colab-df-quickchart:hover {\n",
              "    background-color: var(--hover-bg-color);\n",
              "    box-shadow: 0 1px 2px rgba(60, 64, 67, 0.3), 0 1px 3px 1px rgba(60, 64, 67, 0.15);\n",
              "    fill: var(--button-hover-fill-color);\n",
              "  }\n",
              "\n",
              "  .colab-df-quickchart-complete:disabled,\n",
              "  .colab-df-quickchart-complete:disabled:hover {\n",
              "    background-color: var(--disabled-bg-color);\n",
              "    fill: var(--disabled-fill-color);\n",
              "    box-shadow: none;\n",
              "  }\n",
              "\n",
              "  .colab-df-spinner {\n",
              "    border: 2px solid var(--fill-color);\n",
              "    border-color: transparent;\n",
              "    border-bottom-color: var(--fill-color);\n",
              "    animation:\n",
              "      spin 1s steps(1) infinite;\n",
              "  }\n",
              "\n",
              "  @keyframes spin {\n",
              "    0% {\n",
              "      border-color: transparent;\n",
              "      border-bottom-color: var(--fill-color);\n",
              "      border-left-color: var(--fill-color);\n",
              "    }\n",
              "    20% {\n",
              "      border-color: transparent;\n",
              "      border-left-color: var(--fill-color);\n",
              "      border-top-color: var(--fill-color);\n",
              "    }\n",
              "    30% {\n",
              "      border-color: transparent;\n",
              "      border-left-color: var(--fill-color);\n",
              "      border-top-color: var(--fill-color);\n",
              "      border-right-color: var(--fill-color);\n",
              "    }\n",
              "    40% {\n",
              "      border-color: transparent;\n",
              "      border-right-color: var(--fill-color);\n",
              "      border-top-color: var(--fill-color);\n",
              "    }\n",
              "    60% {\n",
              "      border-color: transparent;\n",
              "      border-right-color: var(--fill-color);\n",
              "    }\n",
              "    80% {\n",
              "      border-color: transparent;\n",
              "      border-right-color: var(--fill-color);\n",
              "      border-bottom-color: var(--fill-color);\n",
              "    }\n",
              "    90% {\n",
              "      border-color: transparent;\n",
              "      border-bottom-color: var(--fill-color);\n",
              "    }\n",
              "  }\n",
              "</style>\n",
              "\n",
              "  <script>\n",
              "    async function quickchart(key) {\n",
              "      const quickchartButtonEl =\n",
              "        document.querySelector('#' + key + ' button');\n",
              "      quickchartButtonEl.disabled = true;  // To prevent multiple clicks.\n",
              "      quickchartButtonEl.classList.add('colab-df-spinner');\n",
              "      try {\n",
              "        const charts = await google.colab.kernel.invokeFunction(\n",
              "            'suggestCharts', [key], {});\n",
              "      } catch (error) {\n",
              "        console.error('Error during call to suggestCharts:', error);\n",
              "      }\n",
              "      quickchartButtonEl.classList.remove('colab-df-spinner');\n",
              "      quickchartButtonEl.classList.add('colab-df-quickchart-complete');\n",
              "    }\n",
              "    (() => {\n",
              "      let quickchartButtonEl =\n",
              "        document.querySelector('#df-22e8fe88-3557-4cd8-8acc-965fd7fb7ddd button');\n",
              "      quickchartButtonEl.style.display =\n",
              "        google.colab.kernel.accessAllowed ? 'block' : 'none';\n",
              "    })();\n",
              "  </script>\n",
              "</div>\n",
              "    </div>\n",
              "  </div>\n"
            ]
          },
          "metadata": {},
          "execution_count": 63
        }
      ]
    },
    {
      "cell_type": "code",
      "source": [
        "# Trực quan hóa so sánh kết quả trên tập test và kết quả dự đoán\n",
        "x_ax = range(len(Y_test_origin))\n",
        "plt.figure(figsize=(25, 6))\n",
        "plt.plot(x_ax, Y_test_origin, linewidth=3, label=\"original\")\n",
        "plt.plot(x_ax, prediction_result, linewidth=3.5, label=\"predicted\")\n",
        "plt.title(\"Trực quan hóa so sánh kết quả trên tập test và kết quả dự đoán\")\n",
        "plt.xlabel('Sale')\n",
        "plt.ylabel('Market Value')\n",
        "plt.legend(loc='best',fancybox=True, shadow=True)\n",
        "plt.grid(True)\n",
        "plt.show()"
      ],
      "metadata": {
        "colab": {
          "base_uri": "https://localhost:8080/",
          "height": 566
        },
        "id": "YQANanm-DKCm",
        "outputId": "2b2fff5d-6cd9-4184-ac49-80754c0ffbcc"
      },
      "execution_count": null,
      "outputs": [
        {
          "output_type": "display_data",
          "data": {
            "text/plain": [
              "<Figure size 2500x600 with 1 Axes>"
            ],
            "image/png": "[encoded data removed]"
          },
          "metadata": {}
        }
      ]
    },
    {
      "cell_type": "markdown",
      "source": [
        "# Hướng 2 (Linear Regression)"
      ],
      "metadata": {
        "id": "7iu868rHD3Q-"
      }
    },
    {
      "cell_type": "code",
      "source": [
        "def estimate_coef(data):\n",
        "  # Số lượng phần tử trong m\n",
        "  n = data.count()\n",
        "\n",
        "  # Trung bình của mảng bao gồm các keys\n",
        "  sum_x = data.keys().reduce(lambda a, b: a + b)\n",
        "  mean_x = sum_x/n\n",
        "  # Trung bình của mảng bao gồm các values\n",
        "  sum_y = data.values().reduce(lambda a, b: a + b)\n",
        "  mean_y = sum_y/n\n",
        "  # Tính toán giá trị cross-deviation (độ lệch chéo) và deviation của x và y\n",
        "  sum_xy = data.map(lambda x: (x[0],x[0]*x[1])).values().reduce(lambda x,y: x+y)\n",
        "  SS_xy = sum_xy - n*mean_x*mean_y\n",
        "\n",
        "  sum_xx = data.map(lambda x: (x[0],x[0]*x[0])).values().reduce(lambda x,y: x+y)\n",
        "  SS_xx = sum_xx - n*mean_x*mean_x\n",
        "\n",
        "  # Tính toán hệ số hồi quy\n",
        "  b_1 = SS_xy / SS_xx\n",
        "  b_0 = mean_y - b_1*mean_x\n",
        "\n",
        "  return (b_0, b_1)"
      ],
      "metadata": {
        "id": "Hdcw1gRsD6an"
      },
      "execution_count": null,
      "outputs": []
    },
    {
      "cell_type": "code",
      "source": [
        "list_X_train_1 = rdd_X_train_1.collect()\n",
        "print(list_X_train_1)"
      ],
      "metadata": {
        "colab": {
          "base_uri": "https://localhost:8080/"
        },
        "id": "9jEPHMxxoi1y",
        "outputId": "f8cd7ff0-1abf-4d5a-c013-322192353d4b"
      },
      "execution_count": null,
      "outputs": [
        {
          "output_type": "stream",
          "name": "stdout",
          "text": [
            "[0.0, 0.2, 0.2, 0.2, 0.3, 0.3, 0.4, 0.4, 0.4, 0.5, 0.5, 0.5, 0.5, 0.5, 0.5, 0.5, 0.5, 0.5, 0.5, 0.5, 0.5, 0.5, 0.6, 0.6, 0.6, 0.6, 0.6, 0.6, 0.6, 0.6, 0.7, 0.7, 0.7, 0.7, 0.7, 0.8, 0.8, 0.8, 0.8, 0.8, 0.8, 0.8, 0.8, 0.8, 0.9, 0.9, 0.9, 0.9, 0.9, 0.9, 0.9, 0.9, 0.9, 0.9, 1.0, 1.0, 1.0, 1.0, 1.0, 1.0, 1.0, 1.0, 1.1, 1.1, 1.1, 1.1, 1.1, 1.1, 1.1, 1.1, 1.1, 1.2, 1.2, 1.2, 1.2, 1.2, 1.2, 1.2, 1.2, 1.2, 1.2, 1.2, 1.2, 1.3, 1.3, 1.3, 1.3, 1.3, 1.3, 1.3, 1.3, 1.3, 1.4, 1.4, 1.4, 1.4, 1.4, 1.4, 1.4, 1.4, 1.4, 1.4, 1.4, 1.5, 1.5, 1.5, 1.5, 1.5, 1.5, 1.5, 1.5, 1.5, 1.5, 1.5, 1.5, 1.5, 1.5, 1.5, 1.5, 1.5, 1.6, 1.6, 1.6, 1.6, 1.6, 1.6, 1.6, 1.6, 1.7, 1.8, 1.8, 1.8, 1.8, 1.8, 1.8, 1.8, 1.9, 1.9, 1.9, 1.9, 1.9, 1.9, 1.9, 1.9, 1.9, 1.9, 1.9, 2.0, 2.0, 2.0, 2.0, 2.0, 2.0, 2.0, 2.0, 2.0, 2.1, 2.1, 2.1, 2.1, 2.1, 2.1, 2.1, 2.1, 2.2, 2.2, 2.2, 2.2, 2.2, 2.2, 2.2, 2.2, 2.2, 2.2, 2.2, 2.2, 2.3, 2.3, 2.3, 2.3, 2.3, 2.3, 2.3, 2.4, 2.4, 2.4, 2.4, 2.4, 2.4, 2.4, 2.4, 2.4, 2.4, 2.4, 2.4, 2.5, 2.5, 2.5, 2.5, 2.5, 2.5, 2.5, 2.5, 2.5, 2.5, 2.6, 2.6, 2.6, 2.6, 2.6, 2.6, 2.6, 2.6, 2.6, 2.6, 2.6, 2.6, 2.6, 2.7, 2.7, 2.7, 2.7, 2.7, 2.7, 2.7, 2.7, 2.7, 2.7, 2.7, 2.7, 2.7, 2.7, 2.7, 2.8, 2.8, 2.8, 2.8, 2.8, 2.8, 2.8, 2.8, 2.9, 2.9, 2.9, 2.9, 2.9, 2.9, 2.9, 3.0, 3.0, 3.0, 3.0, 3.0, 3.0, 3.0, 3.0, 3.0, 3.0, 3.1, 3.1, 3.1, 3.1, 3.1, 3.1, 3.1, 3.1, 3.1, 3.2, 3.2, 3.2, 3.2, 3.2, 3.3, 3.3, 3.3, 3.3, 3.3, 3.3, 3.3, 3.4, 3.4, 3.5, 3.5, 3.5, 3.5, 3.5, 3.5, 3.5, 3.5, 3.6, 3.6, 3.6, 3.6, 3.6, 3.6, 3.6, 3.6, 3.6, 3.6, 3.6, 3.6, 3.7, 3.7, 3.7, 3.7, 3.7, 3.7, 3.7, 3.7, 3.8, 3.8, 3.8, 3.8, 3.8, 3.8, 3.8, 3.8, 3.8, 3.9, 3.9, 3.9, 3.9, 3.9, 4.0, 4.0, 4.0, 4.0, 4.0, 4.0, 4.0, 4.0, 4.1, 4.1, 4.1, 4.1, 4.1, 4.1, 4.2, 4.2, 4.2, 4.2, 4.2, 4.2, 4.3, 4.3, 4.3, 4.3, 4.3, 4.3, 4.3, 4.4, 4.4, 4.4, 4.4, 4.4, 4.4, 4.4, 4.4, 4.5, 4.5, 4.5, 4.5, 4.5, 4.5, 4.5, 4.5, 4.5, 4.5, 4.5, 4.5, 4.6, 4.6, 4.6, 4.6, 4.6, 4.6, 4.6, 4.6, 4.6, 4.6, 4.6, 4.6, 4.6, 4.6, 4.7, 4.7, 4.7, 4.7, 4.7, 4.7, 4.7, 4.8, 4.8, 4.8, 4.8, 4.8, 4.9, 4.9, 4.9, 4.9, 4.9, 4.9, 5.0, 5.0, 5.0, 5.0, 5.0, 5.0, 5.0, 5.1, 5.1, 5.1, 5.1, 5.1, 5.1, 5.1, 5.1, 5.1, 5.1, 5.1, 5.1, 5.1, 5.1, 5.2, 5.2, 5.2, 5.2, 5.2, 5.2, 5.2, 5.2, 5.2, 5.2, 5.2, 5.3, 5.3, 5.3, 5.3, 5.3, 5.4, 5.4, 5.4, 5.4, 5.4, 5.4, 5.4, 5.5, 5.5, 5.5, 5.5, 5.5, 5.5, 5.5, 5.5, 5.5, 5.6, 5.6, 5.6, 5.6, 5.6, 5.7, 5.7, 5.7, 5.7, 5.7, 5.7, 5.7, 5.7, 5.7, 5.8, 5.8, 5.8, 5.8, 5.8, 5.8, 5.8, 5.9, 5.9, 5.9, 5.9, 6.0, 6.0, 6.0, 6.0, 6.0, 6.0, 6.0, 6.0, 6.0, 6.1, 6.1, 6.1, 6.1, 6.1, 6.1, 6.1, 6.2, 6.2, 6.2, 6.2, 6.2, 6.2, 6.2, 6.2, 6.2, 6.2, 6.2, 6.2, 6.3, 6.3, 6.3, 6.3, 6.3, 6.3, 6.3, 6.3, 6.3, 6.4, 6.4, 6.4, 6.4, 6.4, 6.4, 6.5, 6.5, 6.5, 6.5, 6.5, 6.6, 6.6, 6.6, 6.6, 6.7, 6.7, 6.7, 6.7, 6.7, 6.8, 6.8, 6.8, 6.8, 6.8, 6.8, 6.8, 6.8, 6.9, 6.9, 7.0, 7.0, 7.0, 7.0, 7.0, 7.1, 7.1, 7.1, 7.1, 7.2, 7.2, 7.2, 7.2, 7.3, 7.3, 7.3, 7.3, 7.3, 7.3, 7.3, 7.3, 7.3, 7.4, 7.4, 7.4, 7.4, 7.4, 7.4, 7.4, 7.5, 7.5, 7.5, 7.5, 7.5, 7.6, 7.6, 7.6, 7.6, 7.6, 7.6, 7.7, 7.7, 7.7, 7.7, 7.7, 7.7, 7.7, 7.7, 7.8, 7.8, 7.8, 7.8, 7.8, 7.8, 7.9, 7.9, 7.9, 7.9, 8.0, 8.0, 8.0, 8.0, 8.0, 8.0, 8.0, 8.0, 8.0, 8.0, 8.0, 8.1, 8.1, 8.1, 8.1, 8.1, 8.1, 8.1, 8.1, 8.1, 8.1, 8.1, 8.1, 8.2, 8.2, 8.2, 8.2, 8.2, 8.2, 8.2, 8.3, 8.3, 8.3, 8.3, 8.3, 8.3, 8.3, 8.4, 8.4, 8.4, 8.5, 8.5, 8.5, 8.5, 8.5, 8.5, 8.5, 8.5, 8.6, 8.7, 8.7, 8.7, 8.7, 8.7, 8.7, 8.7, 8.8, 8.8, 8.8, 8.8, 8.8, 8.8, 8.8, 8.8, 8.9, 9.0, 9.0, 9.0, 9.0, 9.0, 9.0, 9.1, 9.1, 9.2, 9.2, 9.2, 9.2, 9.2, 9.2, 9.2, 9.3, 9.3, 9.3, 9.3, 9.3, 9.3, 9.4, 9.4, 9.4, 9.5, 9.5, 9.6, 9.6, 9.6, 9.6, 9.6, 9.6, 9.6, 9.7, 9.7, 9.8, 9.8, 9.8, 9.8, 9.9, 9.9, 9.9, 9.9, 9.9, 9.9, 10.0, 10.0, 10.0, 10.0, 10.1, 10.1, 10.1, 10.1, 10.1, 10.1, 10.1, 10.2, 10.2, 10.2, 10.2, 10.3, 10.3, 10.3, 10.3, 10.3, 10.3, 10.4, 10.4, 10.4, 10.4, 10.5, 10.5, 10.5, 10.6, 10.6, 10.7, 10.7, 10.7, 10.7, 10.7, 10.8, 10.8, 10.8, 10.8, 10.8, 10.9, 10.9, 10.9, 11.0, 11.0, 11.0, 11.0, 11.1, 11.1, 11.1, 11.1, 11.2, 11.2, 11.2, 11.2, 11.2, 11.2, 11.3, 11.3, 11.3, 11.3, 11.4, 11.4, 11.4, 11.4, 11.5, 11.5, 11.5, 11.5, 11.6, 11.6, 11.6, 11.6, 11.7, 11.7, 11.7, 11.7, 11.7, 11.8, 11.8, 11.8, 11.8, 11.8, 11.8, 11.8, 11.9, 11.9, 11.9, 11.9, 12.0, 12.0, 12.0, 12.0, 12.1, 12.1, 12.1, 12.2, 12.2, 12.2, 12.2, 12.2, 12.2, 12.2, 12.2, 12.2, 12.3, 12.3, 12.3, 12.3, 12.3, 12.3, 12.4, 12.5, 12.5, 12.5, 12.5, 12.6, 12.6, 12.6, 12.8, 12.8, 12.8, 12.8, 12.8, 12.8, 12.8, 13.0, 13.0, 13.1, 13.1, 13.1, 13.1, 13.1, 13.2, 13.2, 13.2, 13.2, 13.2, 13.2, 13.3, 13.3, 13.3, 13.3, 13.3, 13.3, 13.4, 13.4, 13.4, 13.4, 13.4, 13.4, 13.5, 13.5, 13.5, 13.5, 13.5, 13.6, 13.6, 13.6, 13.8, 13.9, 13.9, 13.9, 13.9, 14.0, 14.0, 14.0, 14.0, 14.0, 14.1, 14.1, 14.1, 14.1, 14.1, 14.1, 14.1, 14.2, 14.2, 14.3, 14.3, 14.3, 14.3, 14.4, 14.4, 14.4, 14.5, 14.5, 14.5, 14.5, 14.5, 14.6, 14.6, 14.6, 14.6, 14.6, 14.6, 14.7, 14.7, 14.7, 14.8, 14.9, 14.9, 15.0, 15.0, 15.0, 15.0, 15.0, 15.1, 15.1, 15.1, 15.2, 15.2, 15.3, 15.3, 15.4, 15.4, 15.5, 15.5, 15.6, 15.6, 15.6, 15.6, 15.6, 15.6, 15.7, 15.7, 15.7, 15.8, 15.8, 15.8, 16.0, 16.0, 16.1, 16.1, 16.2, 16.3, 16.3, 16.3, 16.3, 16.4, 16.4, 16.4, 16.4, 16.5, 16.5, 16.6, 16.6, 16.7, 16.7, 16.7, 16.8, 16.9, 16.9, 17.0, 17.0, 17.1, 17.1, 17.1, 17.2, 17.3, 17.3, 17.3, 17.3, 17.4, 17.4, 17.5, 17.6, 17.6, 17.6, 17.6, 17.6, 17.7, 17.9, 18.0, 18.0, 18.0, 18.0, 18.0, 18.0, 18.1, 18.2, 18.2, 18.2, 18.2, 18.2, 18.2, 18.3, 18.3, 18.3, 18.5, 18.5, 18.5, 19.1, 19.1, 19.2, 19.2, 19.3, 19.3, 19.3, 19.4, 19.6, 19.7, 19.8, 19.9, 20.0, 20.0, 20.0, 20.1, 20.1, 20.2, 20.2, 20.4, 20.4, 20.4, 20.5, 20.6, 20.8, 20.9, 20.9, 20.9, 21.0, 21.0, 21.1, 21.1, 21.2, 21.4, 21.6, 21.7, 21.7, 21.7, 22.2, 22.2, 22.2, 22.3, 22.4, 22.5, 22.5, 22.5, 22.5, 22.6, 22.8, 22.9, 22.9, 23.0, 23.1, 23.1, 23.2, 23.4, 23.5, 23.6, 23.7, 23.7, 23.7, 23.7, 23.8, 23.9, 24.1, 24.2, 24.3, 24.4, 24.4, 24.4, 24.5, 24.6, 24.6, 24.7, 24.7, 24.7, 24.8, 24.9, 24.9, 24.9, 25.0, 25.2, 25.2, 25.3, 25.4, 25.4, 25.4, 25.4, 25.5, 25.9, 26.1, 26.1, 26.1, 26.3, 26.4, 26.6, 26.6, 27.3, 27.4, 27.5, 27.6, 27.6, 27.6, 27.8, 27.9, 28.2, 28.3, 28.4, 28.6, 28.6, 28.8, 28.9, 29.2, 29.4, 29.6, 29.6, 29.7, 29.9, 30.2, 30.3, 30.8, 30.9, 31.5, 31.6, 32.2, 32.6, 32.7, 32.8, 33.0, 33.0, 33.0, 33.2, 33.8, 34.0, 34.1, 34.4, 34.9, 35.0, 35.0, 35.1, 35.3, 35.3, 35.4, 36.1, 36.6, 36.7, 36.7, 36.7, 36.8, 37.2, 37.3, 37.5, 37.6, 37.7, 37.8, 37.9, 38.1, 38.1, 38.3, 38.6, 38.7, 38.8, 38.8, 38.9, 39.0, 39.1, 39.2, 39.4, 39.5, 39.6, 39.7, 39.8, 39.8, 39.9, 40.1, 42.0, 42.0, 42.1, 42.2, 42.3, 43.0, 43.2, 43.3, 43.4, 43.5, 43.9, 43.9, 44.0, 44.2, 44.3, 44.9, 45.1, 45.7, 45.7, 46.3, 46.7, 47.2, 47.3, 47.3, 47.7, 48.0, 48.8, 49.2, 49.4, 49.6, 50.2, 50.4, 50.5, 50.8, 51.0, 51.1, 51.2, 51.6, 51.6, 52.1, 52.5, 53.0, 53.2, 53.3, 54.0, 54.1, 54.2, 54.4, 54.9, 55.0, 55.2, 55.7, 56.4, 56.5, 56.8, 56.9, 57.0, 57.4, 57.7, 58.4, 58.9, 60.5, 61.7, 62.6, 63.4, 64.1, 64.6, 65.1, 65.5, 65.7, 65.9, 67.2, 67.7, 68.8, 69.0, 69.0, 70.5, 70.8, 71.5, 72.2, 72.9, 73.2, 73.3, 73.7, 74.4, 74.5, 74.5, 74.8, 75.0, 76.5, 76.7, 78.3, 80.6, 82.3, 84.2, 84.8, 88.0, 88.8, 90.2, 90.7, 91.2, 93.9, 94.0, 94.8, 95.9, 96.0, 96.8, 100.6, 101.3, 102.8, 103.0, 104.8, 106.3, 108.2, 108.8, 111.9, 113.7, 115.8, 116.3, 116.7, 118.7, 123.1, 123.5, 127.4, 131.9, 132.1, 134.3, 139.2, 140.3, 147.4, 150.8, 163.7, 164.7, 166.1, 187.8, 222.6, 224.5, 240.5, 308.9, 370.9, 411.7, 420.7, 469.2]\n"
          ]
        }
      ]
    },
    {
      "cell_type": "code",
      "source": [
        "list_Y_train_1 = rdd_Y_train_1.collect()\n",
        "print(list_Y_train_1)"
      ],
      "metadata": {
        "colab": {
          "base_uri": "https://localhost:8080/"
        },
        "id": "7ap-wpJJojcB",
        "outputId": "bd6ce9e4-1e3f-4a55-ee86-467f3e9abfb2"
      },
      "execution_count": null,
      "outputs": [
        {
          "output_type": "stream",
          "name": "stdout",
          "text": [
            "[0.0, 0.1, 0.1, 0.2, 0.3, 0.3, 0.3, 0.4, 0.4, 0.4, 0.4, 0.4, 0.4, 0.5, 0.5, 0.5, 0.5, 0.5, 0.5, 0.5, 0.5, 0.5, 0.6, 0.6, 0.6, 0.7, 0.7, 0.7, 0.7, 0.7, 0.7, 0.8, 0.8, 0.8, 0.8, 0.9, 0.9, 0.9, 0.9, 0.9, 1.0, 1.0, 1.0, 1.0, 1.0, 1.0, 1.1, 1.1, 1.1, 1.1, 1.2, 1.2, 1.2, 1.2, 1.3, 1.3, 1.3, 1.3, 1.3, 1.3, 1.3, 1.3, 1.3, 1.4, 1.4, 1.4, 1.4, 1.4, 1.4, 1.4, 1.4, 1.5, 1.5, 1.5, 1.5, 1.5, 1.5, 1.5, 1.6, 1.6, 1.6, 1.6, 1.6, 1.6, 1.6, 1.7, 1.7, 1.7, 1.7, 1.7, 1.7, 1.7, 1.7, 1.7, 1.8, 1.8, 1.8, 1.8, 1.9, 1.9, 1.9, 1.9, 1.9, 1.9, 1.9, 2.0, 2.0, 2.0, 2.0, 2.0, 2.0, 2.0, 2.0, 2.1, 2.1, 2.1, 2.1, 2.2, 2.2, 2.2, 2.2, 2.2, 2.3, 2.3, 2.3, 2.3, 2.3, 2.3, 2.4, 2.4, 2.5, 2.5, 2.5, 2.5, 2.5, 2.5, 2.6, 2.6, 2.6, 2.6, 2.6, 2.6, 2.6, 2.6, 2.6, 2.6, 2.6, 2.7, 2.7, 2.8, 2.8, 2.8, 2.8, 2.8, 2.8, 2.8, 2.8, 2.8, 2.8, 2.9, 2.9, 2.9, 2.9, 2.9, 2.9, 2.9, 2.9, 2.9, 2.9, 3.0, 3.0, 3.0, 3.0, 3.0, 3.0, 3.0, 3.0, 3.0, 3.1, 3.1, 3.1, 3.1, 3.1, 3.1, 3.2, 3.2, 3.2, 3.2, 3.2, 3.2, 3.2, 3.2, 3.2, 3.2, 3.3, 3.3, 3.3, 3.3, 3.3, 3.4, 3.4, 3.4, 3.4, 3.4, 3.4, 3.5, 3.5, 3.5, 3.5, 3.5, 3.5, 3.5, 3.5, 3.5, 3.5, 3.6, 3.6, 3.6, 3.6, 3.6, 3.6, 3.6, 3.6, 3.6, 3.6, 3.7, 3.7, 3.7, 3.7, 3.8, 3.8, 3.8, 3.8, 3.8, 3.8, 3.8, 3.9, 3.9, 3.9, 3.9, 3.9, 4.0, 4.0, 4.0, 4.0, 4.0, 4.0, 4.0, 4.1, 4.1, 4.1, 4.1, 4.1, 4.1, 4.1, 4.1, 4.2, 4.2, 4.2, 4.2, 4.2, 4.2, 4.3, 4.3, 4.3, 4.3, 4.3, 4.4, 4.4, 4.4, 4.5, 4.5, 4.5, 4.5, 4.5, 4.5, 4.5, 4.6, 4.6, 4.6, 4.6, 4.7, 4.7, 4.7, 4.7, 4.7, 4.7, 4.7, 4.7, 4.7, 4.7, 4.8, 4.8, 4.8, 4.8, 4.8, 4.9, 4.9, 4.9, 4.9, 4.9, 4.9, 4.9, 4.9, 4.9, 4.9, 5.0, 5.0, 5.0, 5.0, 5.0, 5.0, 5.0, 5.0, 5.0, 5.0, 5.0, 5.0, 5.0, 5.0, 5.0, 5.1, 5.1, 5.1, 5.1, 5.1, 5.2, 5.2, 5.2, 5.2, 5.2, 5.2, 5.2, 5.3, 5.3, 5.3, 5.3, 5.3, 5.3, 5.3, 5.3, 5.4, 5.4, 5.4, 5.4, 5.4, 5.4, 5.4, 5.5, 5.5, 5.5, 5.5, 5.5, 5.5, 5.5, 5.5, 5.5, 5.5, 5.6, 5.6, 5.6, 5.6, 5.7, 5.7, 5.7, 5.7, 5.7, 5.7, 5.7, 5.7, 5.8, 5.8, 5.8, 5.8, 5.8, 5.8, 5.8, 5.8, 5.8, 5.8, 5.8, 5.9, 5.9, 5.9, 5.9, 5.9, 5.9, 5.9, 6.0, 6.0, 6.0, 6.0, 6.1, 6.1, 6.1, 6.1, 6.1, 6.1, 6.1, 6.1, 6.1, 6.1, 6.1, 6.2, 6.2, 6.2, 6.2, 6.3, 6.3, 6.3, 6.3, 6.3, 6.3, 6.3, 6.3, 6.3, 6.3, 6.4, 6.4, 6.4, 6.4, 6.4, 6.4, 6.4, 6.4, 6.4, 6.4, 6.4, 6.4, 6.4, 6.4, 6.4, 6.4, 6.4, 6.5, 6.5, 6.5, 6.5, 6.6, 6.6, 6.6, 6.6, 6.6, 6.6, 6.6, 6.6, 6.6, 6.6, 6.6, 6.7, 6.7, 6.7, 6.7, 6.7, 6.7, 6.7, 6.7, 6.8, 6.8, 6.8, 6.8, 6.8, 6.8, 6.8, 6.8, 6.8, 6.9, 6.9, 6.9, 6.9, 6.9, 6.9, 6.9, 6.9, 7.0, 7.0, 7.0, 7.0, 7.1, 7.1, 7.1, 7.1, 7.1, 7.1, 7.2, 7.2, 7.2, 7.2, 7.2, 7.2, 7.2, 7.2, 7.3, 7.3, 7.3, 7.3, 7.3, 7.4, 7.4, 7.4, 7.4, 7.4, 7.4, 7.5, 7.5, 7.5, 7.5, 7.5, 7.5, 7.5, 7.5, 7.5, 7.5, 7.5, 7.6, 7.6, 7.7, 7.7, 7.7, 7.7, 7.7, 7.7, 7.7, 7.7, 7.8, 7.8, 7.8, 7.8, 7.8, 7.8, 7.8, 7.8, 7.9, 7.9, 7.9, 7.9, 7.9, 7.9, 7.9, 7.9, 7.9, 7.9, 7.9, 7.9, 7.9, 8.0, 8.0, 8.0, 8.0, 8.0, 8.0, 8.0, 8.1, 8.1, 8.1, 8.1, 8.1, 8.1, 8.1, 8.1, 8.1, 8.2, 8.2, 8.2, 8.2, 8.2, 8.2, 8.2, 8.2, 8.2, 8.3, 8.3, 8.3, 8.3, 8.3, 8.3, 8.4, 8.4, 8.4, 8.4, 8.4, 8.4, 8.4, 8.4, 8.4, 8.4, 8.5, 8.5, 8.5, 8.5, 8.5, 8.5, 8.6, 8.6, 8.6, 8.6, 8.6, 8.6, 8.7, 8.7, 8.7, 8.7, 8.7, 8.7, 8.7, 8.7, 8.7, 8.7, 8.8, 8.8, 8.8, 8.8, 8.8, 8.8, 8.8, 8.8, 8.8, 8.9, 8.9, 8.9, 8.9, 8.9, 8.9, 9.0, 9.0, 9.0, 9.0, 9.0, 9.0, 9.0, 9.0, 9.0, 9.0, 9.0, 9.0, 9.0, 9.1, 9.1, 9.1, 9.1, 9.1, 9.2, 9.2, 9.2, 9.2, 9.2, 9.2, 9.2, 9.2, 9.2, 9.2, 9.2, 9.3, 9.3, 9.4, 9.4, 9.4, 9.4, 9.4, 9.4, 9.4, 9.5, 9.5, 9.5, 9.5, 9.5, 9.5, 9.5, 9.5, 9.6, 9.6, 9.6, 9.6, 9.6, 9.6, 9.6, 9.6, 9.7, 9.7, 9.7, 9.7, 9.7, 9.8, 9.8, 9.8, 9.8, 9.8, 9.9, 9.9, 9.9, 9.9, 9.9, 10.0, 10.0, 10.0, 10.0, 10.1, 10.1, 10.1, 10.2, 10.2, 10.2, 10.2, 10.2, 10.2, 10.2, 10.3, 10.3, 10.4, 10.4, 10.4, 10.4, 10.4, 10.4, 10.4, 10.4, 10.4, 10.4, 10.5, 10.5, 10.5, 10.5, 10.5, 10.6, 10.6, 10.6, 10.6, 10.7, 10.7, 10.7, 10.7, 10.7, 10.7, 10.8, 10.8, 10.8, 10.8, 10.8, 10.8, 10.8, 10.9, 11.0, 11.0, 11.0, 11.1, 11.1, 11.1, 11.1, 11.1, 11.2, 11.2, 11.3, 11.3, 11.3, 11.3, 11.3, 11.3, 11.4, 11.4, 11.4, 11.5, 11.5, 11.5, 11.5, 11.5, 11.5, 11.5, 11.5, 11.5, 11.5, 11.5, 11.6, 11.6, 11.6, 11.6, 11.6, 11.6, 11.6, 11.7, 11.7, 11.7, 11.8, 11.8, 11.8, 11.8, 11.8, 11.8, 11.9, 11.9, 11.9, 11.9, 12.0, 12.0, 12.0, 12.1, 12.1, 12.1, 12.2, 12.2, 12.2, 12.3, 12.3, 12.3, 12.3, 12.3, 12.4, 12.4, 12.4, 12.4, 12.4, 12.4, 12.4, 12.4, 12.5, 12.5, 12.5, 12.5, 12.5, 12.5, 12.5, 12.6, 12.6, 12.6, 12.7, 12.7, 12.7, 12.7, 12.7, 12.7, 12.8, 12.8, 12.9, 12.9, 13.0, 13.0, 13.1, 13.1, 13.1, 13.1, 13.2, 13.2, 13.2, 13.2, 13.3, 13.3, 13.3, 13.4, 13.4, 13.4, 13.4, 13.4, 13.4, 13.5, 13.5, 13.5, 13.5, 13.5, 13.5, 13.5, 13.6, 13.6, 13.6, 13.6, 13.7, 13.7, 13.7, 13.8, 13.8, 13.8, 13.9, 13.9, 13.9, 13.9, 13.9, 14.1, 14.2, 14.2, 14.2, 14.3, 14.3, 14.3, 14.4, 14.4, 14.4, 14.4, 14.5, 14.5, 14.6, 14.6, 14.6, 14.7, 14.7, 14.8, 14.8, 14.8, 14.8, 14.9, 14.9, 14.9, 14.9, 15.0, 15.0, 15.0, 15.1, 15.1, 15.1, 15.1, 15.1, 15.1, 15.2, 15.2, 15.2, 15.3, 15.3, 15.4, 15.5, 15.5, 15.6, 15.6, 15.6, 15.6, 15.7, 15.7, 15.7, 15.8, 15.9, 15.9, 16.0, 16.0, 16.1, 16.1, 16.2, 16.2, 16.3, 16.3, 16.3, 16.3, 16.5, 16.6, 16.6, 16.6, 16.7, 16.7, 16.7, 16.7, 16.8, 16.8, 16.8, 16.9, 16.9, 17.0, 17.0, 17.1, 17.1, 17.2, 17.2, 17.2, 17.2, 17.3, 17.3, 17.3, 17.4, 17.4, 17.4, 17.4, 17.4, 17.4, 17.4, 17.5, 17.5, 17.6, 17.6, 17.6, 17.8, 17.8, 17.9, 17.9, 18.0, 18.0, 18.0, 18.2, 18.2, 18.3, 18.4, 18.4, 18.4, 18.5, 18.6, 18.7, 18.7, 18.7, 18.7, 18.8, 18.8, 18.8, 18.9, 18.9, 18.9, 18.9, 19.0, 19.0, 19.0, 19.1, 19.1, 19.2, 19.3, 19.4, 19.7, 19.8, 19.8, 19.8, 19.8, 20.1, 20.1, 20.2, 20.2, 20.2, 20.3, 20.4, 20.5, 20.5, 20.5, 20.6, 20.6, 20.6, 20.6, 20.8, 20.8, 21.0, 21.1, 21.2, 21.4, 21.5, 21.6, 21.7, 21.7, 21.7, 21.8, 21.8, 21.8, 22.1, 22.2, 22.2, 22.3, 22.3, 22.7, 22.8, 22.8, 22.9, 22.9, 23.0, 23.0, 23.1, 23.1, 23.2, 23.2, 23.3, 23.3, 23.4, 23.5, 23.5, 23.5, 23.6, 23.6, 23.7, 23.7, 23.8, 23.9, 23.9, 24.1, 24.1, 24.3, 24.3, 24.3, 24.4, 24.4, 24.5, 24.5, 24.5, 24.8, 25.0, 25.0, 25.1, 25.2, 25.3, 25.3, 25.4, 25.4, 25.4, 25.6, 25.6, 25.7, 25.7, 25.8, 25.8, 25.9, 26.4, 26.4, 26.5, 26.5, 26.5, 26.7, 26.7, 26.7, 27.1, 27.4, 27.4, 27.4, 27.4, 27.5, 27.7, 27.8, 28.1, 28.1, 28.1, 28.3, 28.4, 28.5, 28.6, 28.9, 29.0, 29.0, 29.0, 29.0, 29.1, 29.4, 29.4, 29.6, 29.7, 30.1, 30.5, 30.7, 31.0, 31.1, 31.3, 31.6, 31.6, 31.6, 31.9, 32.0, 32.0, 32.0, 32.1, 32.2, 32.3, 32.4, 32.5, 32.5, 32.5, 32.5, 32.7, 32.7, 32.8, 32.9, 32.9, 33.0, 33.6, 33.6, 33.7, 33.7, 33.9, 34.3, 34.5, 34.5, 34.9, 34.9, 35.2, 35.2, 35.3, 35.3, 35.6, 35.6, 35.9, 35.9, 36.0, 36.4, 36.8, 36.9, 37.4, 37.7, 37.9, 38.2, 39.0, 39.3, 39.6, 39.9, 39.9, 40.6, 40.7, 41.0, 41.2, 41.3, 41.6, 41.8, 41.9, 42.0, 42.2, 42.7, 42.7, 43.1, 43.1, 43.2, 43.3, 43.6, 43.9, 44.0, 44.1, 44.1, 44.2, 44.2, 44.7, 45.0, 45.1, 45.3, 45.7, 46.0, 46.3, 46.6, 46.6, 46.9, 47.1, 47.2, 48.4, 48.9, 49.3, 49.4, 49.5, 50.0, 50.4, 50.5, 50.5, 51.2, 51.8, 51.9, 52.0, 52.4, 53.3, 53.5, 53.6, 53.7, 53.8, 54.7, 55.4, 57.0, 57.6, 58.0, 58.2, 58.4, 59.8, 60.0, 60.6, 60.9, 61.6, 62.5, 63.8, 63.8, 64.1, 64.4, 65.4, 66.0, 66.4, 66.5, 67.1, 67.7, 68.4, 68.7, 70.6, 70.6, 70.7, 70.8, 71.3, 72.4, 73.0, 74.5, 76.4, 78.1, 81.2, 81.5, 82.1, 83.3, 84.3, 85.5, 85.7, 86.3, 87.2, 89.9, 90.1, 91.9, 92.7, 98.5, 98.9, 99.9, 102.0, 104.8, 105.7, 106.9, 111.1, 111.6, 116.2, 116.9, 117.5, 118.9, 122.3, 130.4, 131.6, 135.7, 150.8, 153.5, 167.2, 173.1, 174.4, 200.1, 201.3, 208.5, 213.1, 213.8, 232.5, 234.8, 237.3, 239.5, 243.7, 252.8, 261.2, 268.4, 416.6]\n"
          ]
        }
      ]
    },
    {
      "cell_type": "code",
      "source": [
        "rdd_train = rdd_X_train_1.zip(rdd_Y_train_1)"
      ],
      "metadata": {
        "id": "hUArnvbxp7t-"
      },
      "execution_count": null,
      "outputs": []
    },
    {
      "cell_type": "code",
      "source": [
        "list_train_1 = rdd_train.collect()\n",
        "print(list_train_1)"
      ],
      "metadata": {
        "colab": {
          "base_uri": "https://localhost:8080/"
        },
        "id": "kpojg4U1p9Bz",
        "outputId": "fdf9881c-c057-4e8c-9d03-0c675bbc7208"
      },
      "execution_count": null,
      "outputs": [
        {
          "output_type": "stream",
          "name": "stdout",
          "text": [
            "[(0.0, 0.0), (0.2, 0.1), (0.2, 0.1), (0.2, 0.2), (0.3, 0.3), (0.3, 0.3), (0.4, 0.3), (0.4, 0.4), (0.4, 0.4), (0.5, 0.4), (0.5, 0.4), (0.5, 0.4), (0.5, 0.4), (0.5, 0.5), (0.5, 0.5), (0.5, 0.5), (0.5, 0.5), (0.5, 0.5), (0.5, 0.5), (0.5, 0.5), (0.5, 0.5), (0.5, 0.5), (0.6, 0.6), (0.6, 0.6), (0.6, 0.6), (0.6, 0.7), (0.6, 0.7), (0.6, 0.7), (0.6, 0.7), (0.6, 0.7), (0.7, 0.7), (0.7, 0.8), (0.7, 0.8), (0.7, 0.8), (0.7, 0.8), (0.8, 0.9), (0.8, 0.9), (0.8, 0.9), (0.8, 0.9), (0.8, 0.9), (0.8, 1.0), (0.8, 1.0), (0.8, 1.0), (0.8, 1.0), (0.9, 1.0), (0.9, 1.0), (0.9, 1.1), (0.9, 1.1), (0.9, 1.1), (0.9, 1.1), (0.9, 1.2), (0.9, 1.2), (0.9, 1.2), (0.9, 1.2), (1.0, 1.3), (1.0, 1.3), (1.0, 1.3), (1.0, 1.3), (1.0, 1.3), (1.0, 1.3), (1.0, 1.3), (1.0, 1.3), (1.1, 1.3), (1.1, 1.4), (1.1, 1.4), (1.1, 1.4), (1.1, 1.4), (1.1, 1.4), (1.1, 1.4), (1.1, 1.4), (1.1, 1.4), (1.2, 1.5), (1.2, 1.5), (1.2, 1.5), (1.2, 1.5), (1.2, 1.5), (1.2, 1.5), (1.2, 1.5), (1.2, 1.6), (1.2, 1.6), (1.2, 1.6), (1.2, 1.6), (1.2, 1.6), (1.3, 1.6), (1.3, 1.6), (1.3, 1.7), (1.3, 1.7), (1.3, 1.7), (1.3, 1.7), (1.3, 1.7), (1.3, 1.7), (1.3, 1.7), (1.4, 1.7), (1.4, 1.7), (1.4, 1.8), (1.4, 1.8), (1.4, 1.8), (1.4, 1.8), (1.4, 1.9), (1.4, 1.9), (1.4, 1.9), (1.4, 1.9), (1.4, 1.9), (1.5, 1.9), (1.5, 1.9), (1.5, 2.0), (1.5, 2.0), (1.5, 2.0), (1.5, 2.0), (1.5, 2.0), (1.5, 2.0), (1.5, 2.0), (1.5, 2.0), (1.5, 2.1), (1.5, 2.1), (1.5, 2.1), (1.5, 2.1), (1.5, 2.2), (1.5, 2.2), (1.5, 2.2), (1.6, 2.2), (1.6, 2.2), (1.6, 2.3), (1.6, 2.3), (1.6, 2.3), (1.6, 2.3), (1.6, 2.3), (1.6, 2.3), (1.7, 2.4), (1.8, 2.4), (1.8, 2.5), (1.8, 2.5), (1.8, 2.5), (1.8, 2.5), (1.8, 2.5), (1.8, 2.5), (1.9, 2.6), (1.9, 2.6), (1.9, 2.6), (1.9, 2.6), (1.9, 2.6), (1.9, 2.6), (1.9, 2.6), (1.9, 2.6), (1.9, 2.6), (1.9, 2.6), (1.9, 2.6), (2.0, 2.7), (2.0, 2.7), (2.0, 2.8), (2.0, 2.8), (2.0, 2.8), (2.0, 2.8), (2.0, 2.8), (2.0, 2.8), (2.0, 2.8), (2.1, 2.8), (2.1, 2.8), (2.1, 2.8), (2.1, 2.9), (2.1, 2.9), (2.1, 2.9), (2.1, 2.9), (2.1, 2.9), (2.2, 2.9), (2.2, 2.9), (2.2, 2.9), (2.2, 2.9), (2.2, 2.9), (2.2, 3.0), (2.2, 3.0), (2.2, 3.0), (2.2, 3.0), (2.2, 3.0), (2.2, 3.0), (2.2, 3.0), (2.3, 3.0), (2.3, 3.0), (2.3, 3.1), (2.3, 3.1), (2.3, 3.1), (2.3, 3.1), (2.3, 3.1), (2.4, 3.1), (2.4, 3.2), (2.4, 3.2), (2.4, 3.2), (2.4, 3.2), (2.4, 3.2), (2.4, 3.2), (2.4, 3.2), (2.4, 3.2), (2.4, 3.2), (2.4, 3.2), (2.4, 3.3), (2.5, 3.3), (2.5, 3.3), (2.5, 3.3), (2.5, 3.3), (2.5, 3.4), (2.5, 3.4), (2.5, 3.4), (2.5, 3.4), (2.5, 3.4), (2.5, 3.4), (2.6, 3.5), (2.6, 3.5), (2.6, 3.5), (2.6, 3.5), (2.6, 3.5), (2.6, 3.5), (2.6, 3.5), (2.6, 3.5), (2.6, 3.5), (2.6, 3.5), (2.6, 3.6), (2.6, 3.6), (2.6, 3.6), (2.7, 3.6), (2.7, 3.6), (2.7, 3.6), (2.7, 3.6), (2.7, 3.6), (2.7, 3.6), (2.7, 3.6), (2.7, 3.7), (2.7, 3.7), (2.7, 3.7), (2.7, 3.7), (2.7, 3.8), (2.7, 3.8), (2.7, 3.8), (2.7, 3.8), (2.8, 3.8), (2.8, 3.8), (2.8, 3.8), (2.8, 3.9), (2.8, 3.9), (2.8, 3.9), (2.8, 3.9), (2.8, 3.9), (2.9, 4.0), (2.9, 4.0), (2.9, 4.0), (2.9, 4.0), (2.9, 4.0), (2.9, 4.0), (2.9, 4.0), (3.0, 4.1), (3.0, 4.1), (3.0, 4.1), (3.0, 4.1), (3.0, 4.1), (3.0, 4.1), (3.0, 4.1), (3.0, 4.1), (3.0, 4.2), (3.0, 4.2), (3.1, 4.2), (3.1, 4.2), (3.1, 4.2), (3.1, 4.2), (3.1, 4.3), (3.1, 4.3), (3.1, 4.3), (3.1, 4.3), (3.1, 4.3), (3.2, 4.4), (3.2, 4.4), (3.2, 4.4), (3.2, 4.5), (3.2, 4.5), (3.3, 4.5), (3.3, 4.5), (3.3, 4.5), (3.3, 4.5), (3.3, 4.5), (3.3, 4.6), (3.3, 4.6), (3.4, 4.6), (3.4, 4.6), (3.5, 4.7), (3.5, 4.7), (3.5, 4.7), (3.5, 4.7), (3.5, 4.7), (3.5, 4.7), (3.5, 4.7), (3.5, 4.7), (3.6, 4.7), (3.6, 4.7), (3.6, 4.8), (3.6, 4.8), (3.6, 4.8), (3.6, 4.8), (3.6, 4.8), (3.6, 4.9), (3.6, 4.9), (3.6, 4.9), (3.6, 4.9), (3.6, 4.9), (3.7, 4.9), (3.7, 4.9), (3.7, 4.9), (3.7, 4.9), (3.7, 4.9), (3.7, 5.0), (3.7, 5.0), (3.7, 5.0), (3.8, 5.0), (3.8, 5.0), (3.8, 5.0), (3.8, 5.0), (3.8, 5.0), (3.8, 5.0), (3.8, 5.0), (3.8, 5.0), (3.8, 5.0), (3.9, 5.0), (3.9, 5.0), (3.9, 5.0), (3.9, 5.1), (3.9, 5.1), (4.0, 5.1), (4.0, 5.1), (4.0, 5.1), (4.0, 5.2), (4.0, 5.2), (4.0, 5.2), (4.0, 5.2), (4.0, 5.2), (4.1, 5.2), (4.1, 5.2), (4.1, 5.3), (4.1, 5.3), (4.1, 5.3), (4.1, 5.3), (4.2, 5.3), (4.2, 5.3), (4.2, 5.3), (4.2, 5.3), (4.2, 5.4), (4.2, 5.4), (4.3, 5.4), (4.3, 5.4), (4.3, 5.4), (4.3, 5.4), (4.3, 5.4), (4.3, 5.5), (4.3, 5.5), (4.4, 5.5), (4.4, 5.5), (4.4, 5.5), (4.4, 5.5), (4.4, 5.5), (4.4, 5.5), (4.4, 5.5), (4.4, 5.5), (4.5, 5.6), (4.5, 5.6), (4.5, 5.6), (4.5, 5.6), (4.5, 5.7), (4.5, 5.7), (4.5, 5.7), (4.5, 5.7), (4.5, 5.7), (4.5, 5.7), (4.5, 5.7), (4.5, 5.7), (4.6, 5.8), (4.6, 5.8), (4.6, 5.8), (4.6, 5.8), (4.6, 5.8), (4.6, 5.8), (4.6, 5.8), (4.6, 5.8), (4.6, 5.8), (4.6, 5.8), (4.6, 5.8), (4.6, 5.9), (4.6, 5.9), (4.6, 5.9), (4.7, 5.9), (4.7, 5.9), (4.7, 5.9), (4.7, 5.9), (4.7, 6.0), (4.7, 6.0), (4.7, 6.0), (4.8, 6.0), (4.8, 6.1), (4.8, 6.1), (4.8, 6.1), (4.8, 6.1), (4.9, 6.1), (4.9, 6.1), (4.9, 6.1), (4.9, 6.1), (4.9, 6.1), (4.9, 6.1), (5.0, 6.1), (5.0, 6.2), (5.0, 6.2), (5.0, 6.2), (5.0, 6.2), (5.0, 6.3), (5.0, 6.3), (5.1, 6.3), (5.1, 6.3), (5.1, 6.3), (5.1, 6.3), (5.1, 6.3), (5.1, 6.3), (5.1, 6.3), (5.1, 6.3), (5.1, 6.4), (5.1, 6.4), (5.1, 6.4), (5.1, 6.4), (5.1, 6.4), (5.1, 6.4), (5.2, 6.4), (5.2, 6.4), (5.2, 6.4), (5.2, 6.4), (5.2, 6.4), (5.2, 6.4), (5.2, 6.4), (5.2, 6.4), (5.2, 6.4), (5.2, 6.4), (5.2, 6.4), (5.3, 6.5), (5.3, 6.5), (5.3, 6.5), (5.3, 6.5), (5.3, 6.6), (5.4, 6.6), (5.4, 6.6), (5.4, 6.6), (5.4, 6.6), (5.4, 6.6), (5.4, 6.6), (5.4, 6.6), (5.5, 6.6), (5.5, 6.6), (5.5, 6.6), (5.5, 6.7), (5.5, 6.7), (5.5, 6.7), (5.5, 6.7), (5.5, 6.7), (5.5, 6.7), (5.6, 6.7), (5.6, 6.7), (5.6, 6.8), (5.6, 6.8), (5.6, 6.8), (5.7, 6.8), (5.7, 6.8), (5.7, 6.8), (5.7, 6.8), (5.7, 6.8), (5.7, 6.8), (5.7, 6.9), (5.7, 6.9), (5.7, 6.9), (5.8, 6.9), (5.8, 6.9), (5.8, 6.9), (5.8, 6.9), (5.8, 6.9), (5.8, 7.0), (5.8, 7.0), (5.9, 7.0), (5.9, 7.0), (5.9, 7.1), (5.9, 7.1), (6.0, 7.1), (6.0, 7.1), (6.0, 7.1), (6.0, 7.1), (6.0, 7.2), (6.0, 7.2), (6.0, 7.2), (6.0, 7.2), (6.0, 7.2), (6.1, 7.2), (6.1, 7.2), (6.1, 7.2), (6.1, 7.3), (6.1, 7.3), (6.1, 7.3), (6.1, 7.3), (6.2, 7.3), (6.2, 7.4), (6.2, 7.4), (6.2, 7.4), (6.2, 7.4), (6.2, 7.4), (6.2, 7.4), (6.2, 7.5), (6.2, 7.5), (6.2, 7.5), (6.2, 7.5), (6.2, 7.5), (6.3, 7.5), (6.3, 7.5), (6.3, 7.5), (6.3, 7.5), (6.3, 7.5), (6.3, 7.5), (6.3, 7.6), (6.3, 7.6), (6.3, 7.7), (6.4, 7.7), (6.4, 7.7), (6.4, 7.7), (6.4, 7.7), (6.4, 7.7), (6.4, 7.7), (6.5, 7.7), (6.5, 7.8), (6.5, 7.8), (6.5, 7.8), (6.5, 7.8), (6.6, 7.8), (6.6, 7.8), (6.6, 7.8), (6.6, 7.8), (6.7, 7.9), (6.7, 7.9), (6.7, 7.9), (6.7, 7.9), (6.7, 7.9), (6.8, 7.9), (6.8, 7.9), (6.8, 7.9), (6.8, 7.9), (6.8, 7.9), (6.8, 7.9), (6.8, 7.9), (6.8, 7.9), (6.9, 8.0), (6.9, 8.0), (7.0, 8.0), (7.0, 8.0), (7.0, 8.0), (7.0, 8.0), (7.0, 8.0), (7.1, 8.1), (7.1, 8.1), (7.1, 8.1), (7.1, 8.1), (7.2, 8.1), (7.2, 8.1), (7.2, 8.1), (7.2, 8.1), (7.3, 8.1), (7.3, 8.2), (7.3, 8.2), (7.3, 8.2), (7.3, 8.2), (7.3, 8.2), (7.3, 8.2), (7.3, 8.2), (7.3, 8.2), (7.4, 8.2), (7.4, 8.3), (7.4, 8.3), (7.4, 8.3), (7.4, 8.3), (7.4, 8.3), (7.4, 8.3), (7.5, 8.4), (7.5, 8.4), (7.5, 8.4), (7.5, 8.4), (7.5, 8.4), (7.6, 8.4), (7.6, 8.4), (7.6, 8.4), (7.6, 8.4), (7.6, 8.4), (7.6, 8.5), (7.7, 8.5), (7.7, 8.5), (7.7, 8.5), (7.7, 8.5), (7.7, 8.5), (7.7, 8.6), (7.7, 8.6), (7.7, 8.6), (7.8, 8.6), (7.8, 8.6), (7.8, 8.6), (7.8, 8.7), (7.8, 8.7), (7.8, 8.7), (7.9, 8.7), (7.9, 8.7), (7.9, 8.7), (7.9, 8.7), (8.0, 8.7), (8.0, 8.7), (8.0, 8.7), (8.0, 8.8), (8.0, 8.8), (8.0, 8.8), (8.0, 8.8), (8.0, 8.8), (8.0, 8.8), (8.0, 8.8), (8.0, 8.8), (8.1, 8.8), (8.1, 8.9), (8.1, 8.9), (8.1, 8.9), (8.1, 8.9), (8.1, 8.9), (8.1, 8.9), (8.1, 9.0), (8.1, 9.0), (8.1, 9.0), (8.1, 9.0), (8.1, 9.0), (8.2, 9.0), (8.2, 9.0), (8.2, 9.0), (8.2, 9.0), (8.2, 9.0), (8.2, 9.0), (8.2, 9.0), (8.3, 9.0), (8.3, 9.1), (8.3, 9.1), (8.3, 9.1), (8.3, 9.1), (8.3, 9.1), (8.3, 9.2), (8.4, 9.2), (8.4, 9.2), (8.4, 9.2), (8.5, 9.2), (8.5, 9.2), (8.5, 9.2), (8.5, 9.2), (8.5, 9.2), (8.5, 9.2), (8.5, 9.2), (8.5, 9.3), (8.6, 9.3), (8.7, 9.4), (8.7, 9.4), (8.7, 9.4), (8.7, 9.4), (8.7, 9.4), (8.7, 9.4), (8.7, 9.4), (8.8, 9.5), (8.8, 9.5), (8.8, 9.5), (8.8, 9.5), (8.8, 9.5), (8.8, 9.5), (8.8, 9.5), (8.8, 9.5), (8.9, 9.6), (9.0, 9.6), (9.0, 9.6), (9.0, 9.6), (9.0, 9.6), (9.0, 9.6), (9.0, 9.6), (9.1, 9.6), (9.1, 9.7), (9.2, 9.7), (9.2, 9.7), (9.2, 9.7), (9.2, 9.7), (9.2, 9.8), (9.2, 9.8), (9.2, 9.8), (9.3, 9.8), (9.3, 9.8), (9.3, 9.9), (9.3, 9.9), (9.3, 9.9), (9.3, 9.9), (9.4, 9.9), (9.4, 10.0), (9.4, 10.0), (9.5, 10.0), (9.5, 10.0), (9.6, 10.1), (9.6, 10.1), (9.6, 10.1), (9.6, 10.2), (9.6, 10.2), (9.6, 10.2), (9.6, 10.2), (9.7, 10.2), (9.7, 10.2), (9.8, 10.2), (9.8, 10.3), (9.8, 10.3), (9.8, 10.4), (9.9, 10.4), (9.9, 10.4), (9.9, 10.4), (9.9, 10.4), (9.9, 10.4), (9.9, 10.4), (10.0, 10.4), (10.0, 10.4), (10.0, 10.4), (10.0, 10.5), (10.1, 10.5), (10.1, 10.5), (10.1, 10.5), (10.1, 10.5), (10.1, 10.6), (10.1, 10.6), (10.1, 10.6), (10.2, 10.6), (10.2, 10.7), (10.2, 10.7), (10.2, 10.7), (10.3, 10.7), (10.3, 10.7), (10.3, 10.7), (10.3, 10.8), (10.3, 10.8), (10.3, 10.8), (10.4, 10.8), (10.4, 10.8), (10.4, 10.8), (10.4, 10.8), (10.5, 10.9), (10.5, 11.0), (10.5, 11.0), (10.6, 11.0), (10.6, 11.1), (10.7, 11.1), (10.7, 11.1), (10.7, 11.1), (10.7, 11.1), (10.7, 11.2), (10.8, 11.2), (10.8, 11.3), (10.8, 11.3), (10.8, 11.3), (10.8, 11.3), (10.9, 11.3), (10.9, 11.3), (10.9, 11.4), (11.0, 11.4), (11.0, 11.4), (11.0, 11.5), (11.0, 11.5), (11.1, 11.5), (11.1, 11.5), (11.1, 11.5), (11.1, 11.5), (11.2, 11.5), (11.2, 11.5), (11.2, 11.5), (11.2, 11.5), (11.2, 11.5), (11.2, 11.6), (11.3, 11.6), (11.3, 11.6), (11.3, 11.6), (11.3, 11.6), (11.4, 11.6), (11.4, 11.6), (11.4, 11.7), (11.4, 11.7), (11.5, 11.7), (11.5, 11.8), (11.5, 11.8), (11.5, 11.8), (11.6, 11.8), (11.6, 11.8), (11.6, 11.8), (11.6, 11.9), (11.7, 11.9), (11.7, 11.9), (11.7, 11.9), (11.7, 12.0), (11.7, 12.0), (11.8, 12.0), (11.8, 12.1), (11.8, 12.1), (11.8, 12.1), (11.8, 12.2), (11.8, 12.2), (11.8, 12.2), (11.9, 12.3), (11.9, 12.3), (11.9, 12.3), (11.9, 12.3), (12.0, 12.3), (12.0, 12.4), (12.0, 12.4), (12.0, 12.4), (12.1, 12.4), (12.1, 12.4), (12.1, 12.4), (12.2, 12.4), (12.2, 12.4), (12.2, 12.5), (12.2, 12.5), (12.2, 12.5), (12.2, 12.5), (12.2, 12.5), (12.2, 12.5), (12.2, 12.5), (12.3, 12.6), (12.3, 12.6), (12.3, 12.6), (12.3, 12.7), (12.3, 12.7), (12.3, 12.7), (12.4, 12.7), (12.5, 12.7), (12.5, 12.7), (12.5, 12.8), (12.5, 12.8), (12.6, 12.9), (12.6, 12.9), (12.6, 13.0), (12.8, 13.0), (12.8, 13.1), (12.8, 13.1), (12.8, 13.1), (12.8, 13.1), (12.8, 13.2), (12.8, 13.2), (13.0, 13.2), (13.0, 13.2), (13.1, 13.3), (13.1, 13.3), (13.1, 13.3), (13.1, 13.4), (13.1, 13.4), (13.2, 13.4), (13.2, 13.4), (13.2, 13.4), (13.2, 13.4), (13.2, 13.5), (13.2, 13.5), (13.3, 13.5), (13.3, 13.5), (13.3, 13.5), (13.3, 13.5), (13.3, 13.5), (13.3, 13.6), (13.4, 13.6), (13.4, 13.6), (13.4, 13.6), (13.4, 13.7), (13.4, 13.7), (13.4, 13.7), (13.5, 13.8), (13.5, 13.8), (13.5, 13.8), (13.5, 13.9), (13.5, 13.9), (13.6, 13.9), (13.6, 13.9), (13.6, 13.9), (13.8, 14.1), (13.9, 14.2), (13.9, 14.2), (13.9, 14.2), (13.9, 14.3), (14.0, 14.3), (14.0, 14.3), (14.0, 14.4), (14.0, 14.4), (14.0, 14.4), (14.1, 14.4), (14.1, 14.5), (14.1, 14.5), (14.1, 14.6), (14.1, 14.6), (14.1, 14.6), (14.1, 14.7), (14.2, 14.7), (14.2, 14.8), (14.3, 14.8), (14.3, 14.8), (14.3, 14.8), (14.3, 14.9), (14.4, 14.9), (14.4, 14.9), (14.4, 14.9), (14.5, 15.0), (14.5, 15.0), (14.5, 15.0), (14.5, 15.1), (14.5, 15.1), (14.6, 15.1), (14.6, 15.1), (14.6, 15.1), (14.6, 15.1), (14.6, 15.2), (14.6, 15.2), (14.7, 15.2), (14.7, 15.3), (14.7, 15.3), (14.8, 15.4), (14.9, 15.5), (14.9, 15.5), (15.0, 15.6), (15.0, 15.6), (15.0, 15.6), (15.0, 15.6), (15.0, 15.7), (15.1, 15.7), (15.1, 15.7), (15.1, 15.8), (15.2, 15.9), (15.2, 15.9), (15.3, 16.0), (15.3, 16.0), (15.4, 16.1), (15.4, 16.1), (15.5, 16.2), (15.5, 16.2), (15.6, 16.3), (15.6, 16.3), (15.6, 16.3), (15.6, 16.3), (15.6, 16.5), (15.6, 16.6), (15.7, 16.6), (15.7, 16.6), (15.7, 16.7), (15.8, 16.7), (15.8, 16.7), (15.8, 16.7), (16.0, 16.8), (16.0, 16.8), (16.1, 16.8), (16.1, 16.9), (16.2, 16.9), (16.3, 17.0), (16.3, 17.0), (16.3, 17.1), (16.3, 17.1), (16.4, 17.2), (16.4, 17.2), (16.4, 17.2), (16.4, 17.2), (16.5, 17.3), (16.5, 17.3), (16.6, 17.3), (16.6, 17.4), (16.7, 17.4), (16.7, 17.4), (16.7, 17.4), (16.8, 17.4), (16.9, 17.4), (16.9, 17.4), (17.0, 17.5), (17.0, 17.5), (17.1, 17.6), (17.1, 17.6), (17.1, 17.6), (17.2, 17.8), (17.3, 17.8), (17.3, 17.9), (17.3, 17.9), (17.3, 18.0), (17.4, 18.0), (17.4, 18.0), (17.5, 18.2), (17.6, 18.2), (17.6, 18.3), (17.6, 18.4), (17.6, 18.4), (17.6, 18.4), (17.7, 18.5), (17.9, 18.6), (18.0, 18.7), (18.0, 18.7), (18.0, 18.7), (18.0, 18.7), (18.0, 18.8), (18.0, 18.8), (18.1, 18.8), (18.2, 18.9), (18.2, 18.9), (18.2, 18.9), (18.2, 18.9), (18.2, 19.0), (18.2, 19.0), (18.3, 19.0), (18.3, 19.1), (18.3, 19.1), (18.5, 19.2), (18.5, 19.3), (18.5, 19.4), (19.1, 19.7), (19.1, 19.8), (19.2, 19.8), (19.2, 19.8), (19.3, 19.8), (19.3, 20.1), (19.3, 20.1), (19.4, 20.2), (19.6, 20.2), (19.7, 20.2), (19.8, 20.3), (19.9, 20.4), (20.0, 20.5), (20.0, 20.5), (20.0, 20.5), (20.1, 20.6), (20.1, 20.6), (20.2, 20.6), (20.2, 20.6), (20.4, 20.8), (20.4, 20.8), (20.4, 21.0), (20.5, 21.1), (20.6, 21.2), (20.8, 21.4), (20.9, 21.5), (20.9, 21.6), (20.9, 21.7), (21.0, 21.7), (21.0, 21.7), (21.1, 21.8), (21.1, 21.8), (21.2, 21.8), (21.4, 22.1), (21.6, 22.2), (21.7, 22.2), (21.7, 22.3), (21.7, 22.3), (22.2, 22.7), (22.2, 22.8), (22.2, 22.8), (22.3, 22.9), (22.4, 22.9), (22.5, 23.0), (22.5, 23.0), (22.5, 23.1), (22.5, 23.1), (22.6, 23.2), (22.8, 23.2), (22.9, 23.3), (22.9, 23.3), (23.0, 23.4), (23.1, 23.5), (23.1, 23.5), (23.2, 23.5), (23.4, 23.6), (23.5, 23.6), (23.6, 23.7), (23.7, 23.7), (23.7, 23.8), (23.7, 23.9), (23.7, 23.9), (23.8, 24.1), (23.9, 24.1), (24.1, 24.3), (24.2, 24.3), (24.3, 24.3), (24.4, 24.4), (24.4, 24.4), (24.4, 24.5), (24.5, 24.5), (24.6, 24.5), (24.6, 24.8), (24.7, 25.0), (24.7, 25.0), (24.7, 25.1), (24.8, 25.2), (24.9, 25.3), (24.9, 25.3), (24.9, 25.4), (25.0, 25.4), (25.2, 25.4), (25.2, 25.6), (25.3, 25.6), (25.4, 25.7), (25.4, 25.7), (25.4, 25.8), (25.4, 25.8), (25.5, 25.9), (25.9, 26.4), (26.1, 26.4), (26.1, 26.5), (26.1, 26.5), (26.3, 26.5), (26.4, 26.7), (26.6, 26.7), (26.6, 26.7), (27.3, 27.1), (27.4, 27.4), (27.5, 27.4), (27.6, 27.4), (27.6, 27.4), (27.6, 27.5), (27.8, 27.7), (27.9, 27.8), (28.2, 28.1), (28.3, 28.1), (28.4, 28.1), (28.6, 28.3), (28.6, 28.4), (28.8, 28.5), (28.9, 28.6), (29.2, 28.9), (29.4, 29.0), (29.6, 29.0), (29.6, 29.0), (29.7, 29.0), (29.9, 29.1), (30.2, 29.4), (30.3, 29.4), (30.8, 29.6), (30.9, 29.7), (31.5, 30.1), (31.6, 30.5), (32.2, 30.7), (32.6, 31.0), (32.7, 31.1), (32.8, 31.3), (33.0, 31.6), (33.0, 31.6), (33.0, 31.6), (33.2, 31.9), (33.8, 32.0), (34.0, 32.0), (34.1, 32.0), (34.4, 32.1), (34.9, 32.2), (35.0, 32.3), (35.0, 32.4), (35.1, 32.5), (35.3, 32.5), (35.3, 32.5), (35.4, 32.5), (36.1, 32.7), (36.6, 32.7), (36.7, 32.8), (36.7, 32.9), (36.7, 32.9), (36.8, 33.0), (37.2, 33.6), (37.3, 33.6), (37.5, 33.7), (37.6, 33.7), (37.7, 33.9), (37.8, 34.3), (37.9, 34.5), (38.1, 34.5), (38.1, 34.9), (38.3, 34.9), (38.6, 35.2), (38.7, 35.2), (38.8, 35.3), (38.8, 35.3), (38.9, 35.6), (39.0, 35.6), (39.1, 35.9), (39.2, 35.9), (39.4, 36.0), (39.5, 36.4), (39.6, 36.8), (39.7, 36.9), (39.8, 37.4), (39.8, 37.7), (39.9, 37.9), (40.1, 38.2), (42.0, 39.0), (42.0, 39.3), (42.1, 39.6), (42.2, 39.9), (42.3, 39.9), (43.0, 40.6), (43.2, 40.7), (43.3, 41.0), (43.4, 41.2), (43.5, 41.3), (43.9, 41.6), (43.9, 41.8), (44.0, 41.9), (44.2, 42.0), (44.3, 42.2), (44.9, 42.7), (45.1, 42.7), (45.7, 43.1), (45.7, 43.1), (46.3, 43.2), (46.7, 43.3), (47.2, 43.6), (47.3, 43.9), (47.3, 44.0), (47.7, 44.1), (48.0, 44.1), (48.8, 44.2), (49.2, 44.2), (49.4, 44.7), (49.6, 45.0), (50.2, 45.1), (50.4, 45.3), (50.5, 45.7), (50.8, 46.0), (51.0, 46.3), (51.1, 46.6), (51.2, 46.6), (51.6, 46.9), (51.6, 47.1), (52.1, 47.2), (52.5, 48.4), (53.0, 48.9), (53.2, 49.3), (53.3, 49.4), (54.0, 49.5), (54.1, 50.0), (54.2, 50.4), (54.4, 50.5), (54.9, 50.5), (55.0, 51.2), (55.2, 51.8), (55.7, 51.9), (56.4, 52.0), (56.5, 52.4), (56.8, 53.3), (56.9, 53.5), (57.0, 53.6), (57.4, 53.7), (57.7, 53.8), (58.4, 54.7), (58.9, 55.4), (60.5, 57.0), (61.7, 57.6), (62.6, 58.0), (63.4, 58.2), (64.1, 58.4), (64.6, 59.8), (65.1, 60.0), (65.5, 60.6), (65.7, 60.9), (65.9, 61.6), (67.2, 62.5), (67.7, 63.8), (68.8, 63.8), (69.0, 64.1), (69.0, 64.4), (70.5, 65.4), (70.8, 66.0), (71.5, 66.4), (72.2, 66.5), (72.9, 67.1), (73.2, 67.7), (73.3, 68.4), (73.7, 68.7), (74.4, 70.6), (74.5, 70.6), (74.5, 70.7), (74.8, 70.8), (75.0, 71.3), (76.5, 72.4), (76.7, 73.0), (78.3, 74.5), (80.6, 76.4), (82.3, 78.1), (84.2, 81.2), (84.8, 81.5), (88.0, 82.1), (88.8, 83.3), (90.2, 84.3), (90.7, 85.5), (91.2, 85.7), (93.9, 86.3), (94.0, 87.2), (94.8, 89.9), (95.9, 90.1), (96.0, 91.9), (96.8, 92.7), (100.6, 98.5), (101.3, 98.9), (102.8, 99.9), (103.0, 102.0), (104.8, 104.8), (106.3, 105.7), (108.2, 106.9), (108.8, 111.1), (111.9, 111.6), (113.7, 116.2), (115.8, 116.9), (116.3, 117.5), (116.7, 118.9), (118.7, 122.3), (123.1, 130.4), (123.5, 131.6), (127.4, 135.7), (131.9, 150.8), (132.1, 153.5), (134.3, 167.2), (139.2, 173.1), (140.3, 174.4), (147.4, 200.1), (150.8, 201.3), (163.7, 208.5), (164.7, 213.1), (166.1, 213.8), (187.8, 232.5), (222.6, 234.8), (224.5, 237.3), (240.5, 239.5), (308.9, 243.7), (370.9, 252.8), (411.7, 261.2), (420.7, 268.4), (469.2, 416.6)]\n"
          ]
        }
      ]
    },
    {
      "cell_type": "code",
      "source": [
        "rdd_test = rdd_X_test_1.zip(rdd_Y_test_1)"
      ],
      "metadata": {
        "id": "BaPAcVTnqFRX"
      },
      "execution_count": null,
      "outputs": []
    },
    {
      "cell_type": "code",
      "source": [
        "# Hệ số ước lượng (estimating coefficients)\n",
        "b = estimate_coef(rdd_train)\n",
        "print(\"Hệ số ước lượng:\\nb_0 = {} \\nb_1 = {}\".format(b[0], b[1]))"
      ],
      "metadata": {
        "colab": {
          "base_uri": "https://localhost:8080/"
        },
        "id": "vpY2EARlqO5k",
        "outputId": "82e04753-6fa7-43f7-ad67-696accb99e32"
      },
      "execution_count": null,
      "outputs": [
        {
          "output_type": "stream",
          "name": "stdout",
          "text": [
            "Hệ số ước lượng:\n",
            "b_0 = 2.1053582923410943 \n",
            "b_1 = 0.8938020501607846\n"
          ]
        }
      ]
    },
    {
      "cell_type": "code",
      "source": [
        "# Hàm dự đoán - trả về các giá trị y\n",
        "def linear_regression_2(train, test):\n",
        "    b_0, b_1 = estimate_coef(train)\n",
        "    predictions = test.keys().map(lambda x: x*b_1 + b_0)\n",
        "    return predictions"
      ],
      "metadata": {
        "id": "AsJKJVuRqSzm"
      },
      "execution_count": null,
      "outputs": []
    },
    {
      "cell_type": "code",
      "source": [
        "start = time.time()\n",
        "prediction = linear_regression_2(rdd_train, rdd_test)\n",
        "end = time.time()\n",
        "run_time_HL2 = end - start\n",
        "print(\">>>> Run time:\" + str(run_time_HL2) + \"(s)\")"
      ],
      "metadata": {
        "colab": {
          "base_uri": "https://localhost:8080/"
        },
        "id": "gO_f1MMZqWkj",
        "outputId": "7296675b-24c7-4d35-8b99-e56966d65064"
      },
      "execution_count": null,
      "outputs": [
        {
          "output_type": "stream",
          "name": "stdout",
          "text": [
            ">>>> Run time:3.4489991664886475(s)\n"
          ]
        }
      ]
    },
    {
      "cell_type": "code",
      "source": [
        "# create RMSE\n",
        "def rmse_metric(actual, predict):\n",
        "    rdd_zip = actual.zip(predict)\n",
        "\n",
        "    predict_error = rdd_zip.map(lambda a: a[0] - a[1])\n",
        "    predict_error_square = predict_error.map(lambda a: a**2)\n",
        "\n",
        "    sum_error = predict_error_square.reduce(lambda a,b: a+b)\n",
        "    mean_error = sum_error/float(actual.count())\n",
        "    rmse = math.sqrt(mean_error)\n",
        "    return rmse"
      ],
      "metadata": {
        "id": "nZVsGJepqcAf"
      },
      "execution_count": null,
      "outputs": []
    },
    {
      "cell_type": "code",
      "source": [
        "# Hàm đánh giá thuật toán hồi quy trên tập dữ liệu huấn luyện\n",
        "def evaluate_algorithm(train, test):\n",
        "    y_test = test.values()\n",
        "    y_predict = linear_regression_2(train, test)\n",
        "    rmse = rmse_metric(y_test, y_predict)\n",
        "    return rmse"
      ],
      "metadata": {
        "id": "YasbUmDVrSbN"
      },
      "execution_count": null,
      "outputs": []
    },
    {
      "cell_type": "code",
      "source": [
        "# Đánh giá thuật toán hồi quy trên tập dữ liệu huấn luyện\n",
        "import math\n",
        "evaluate_model_2 = evaluate_algorithm(rdd_train, rdd_test)\n",
        "print(\"Chỉ số RMSE: {} \".format(evaluate_model_2))"
      ],
      "metadata": {
        "colab": {
          "base_uri": "https://localhost:8080/"
        },
        "id": "wZf2oVCJrU2U",
        "outputId": "de50fd98-7f20-4f7c-8e80-c9a3fb4952bd"
      },
      "execution_count": null,
      "outputs": [
        {
          "output_type": "stream",
          "name": "stdout",
          "text": [
            "Chỉ số RMSE: 7.039201229422472 \n"
          ]
        }
      ]
    },
    {
      "cell_type": "code",
      "source": [
        "Y_test = rdd_test.values().collect()"
      ],
      "metadata": {
        "id": "nB_hSbUHrhvJ"
      },
      "execution_count": null,
      "outputs": []
    },
    {
      "cell_type": "code",
      "source": [
        "Y_predict = linear_regression_2(rdd_train, rdd_test).collect()"
      ],
      "metadata": {
        "id": "Kl7-ur1NrlbS"
      },
      "execution_count": null,
      "outputs": []
    },
    {
      "cell_type": "code",
      "source": [
        "compare = DataFrame({'Origin': Y_test, 'Predict': Y_predict})\n",
        "compare.head(5)"
      ],
      "metadata": {
        "colab": {
          "base_uri": "https://localhost:8080/",
          "height": 206
        },
        "id": "rnZtWUg6rrAn",
        "outputId": "51f6d0e4-8e07-4a72-b491-379facb6d096"
      },
      "execution_count": null,
      "outputs": [
        {
          "output_type": "execute_result",
          "data": {
            "text/plain": [
              "   Origin   Predict\n",
              "0     0.2  2.373499\n",
              "1     0.4  2.462879\n",
              "2     0.4  2.552259\n",
              "3     0.4  2.552259\n",
              "4     0.5  2.552259"
            ],
            "text/html": [
              "\n",
              "  <div id=\"df-0fdb8e4e-34b6-41ef-9c81-1298e2b89cbd\" class=\"colab-df-container\">\n",
              "    <div>\n",
              "<style scoped>\n",
              "    .dataframe tbody tr th:only-of-type {\n",
              "        vertical-align: middle;\n",
              "    }\n",
              "\n",
              "    .dataframe tbody tr th {\n",
              "        vertical-align: top;\n",
              "    }\n",
              "\n",
              "    .dataframe thead th {\n",
              "        text-align: right;\n",
              "    }\n",
              "</style>\n",
              "<table border=\"1\" class=\"dataframe\">\n",
              "  <thead>\n",
              "    <tr style=\"text-align: right;\">\n",
              "      <th></th>\n",
              "      <th>Origin</th>\n",
              "      <th>Predict</th>\n",
              "    </tr>\n",
              "  </thead>\n",
              "  <tbody>\n",
              "    <tr>\n",
              "      <th>0</th>\n",
              "      <td>0.2</td>\n",
              "      <td>2.373499</td>\n",
              "    </tr>\n",
              "    <tr>\n",
              "      <th>1</th>\n",
              "      <td>0.4</td>\n",
              "      <td>2.462879</td>\n",
              "    </tr>\n",
              "    <tr>\n",
              "      <th>2</th>\n",
              "      <td>0.4</td>\n",
              "      <td>2.552259</td>\n",
              "    </tr>\n",
              "    <tr>\n",
              "      <th>3</th>\n",
              "      <td>0.4</td>\n",
              "      <td>2.552259</td>\n",
              "    </tr>\n",
              "    <tr>\n",
              "      <th>4</th>\n",
              "      <td>0.5</td>\n",
              "      <td>2.552259</td>\n",
              "    </tr>\n",
              "  </tbody>\n",
              "</table>\n",
              "</div>\n",
              "    <div class=\"colab-df-buttons\">\n",
              "\n",
              "  <div class=\"colab-df-container\">\n",
              "    <button class=\"colab-df-convert\" onclick=\"convertToInteractive('df-0fdb8e4e-34b6-41ef-9c81-1298e2b89cbd')\"\n",
              "            title=\"Convert this dataframe to an interactive table.\"\n",
              "            style=\"display:none;\">\n",
              "\n",
              "  <svg xmlns=\"http://www.w3.org/2000/svg\" height=\"24px\" viewBox=\"0 -960 960 960\">\n",
              "    <path d=\"M120-120v-720h720v720H120Zm60-500h600v-160H180v160Zm220 220h160v-160H400v160Zm0 220h160v-160H400v160ZM180-400h160v-160H180v160Zm440 0h160v-160H620v160ZM180-180h160v-160H180v160Zm440 0h160v-160H620v160Z\"/>\n",
              "  </svg>\n",
              "    </button>\n",
              "\n",
              "  <style>\n",
              "    .colab-df-container {\n",
              "      display:flex;\n",
              "      gap: 12px;\n",
              "    }\n",
              "\n",
              "    .colab-df-convert {\n",
              "      background-color: #E8F0FE;\n",
              "      border: none;\n",
              "      border-radius: 50%;\n",
              "      cursor: pointer;\n",
              "      display: none;\n",
              "      fill: #1967D2;\n",
              "      height: 32px;\n",
              "      padding: 0 0 0 0;\n",
              "      width: 32px;\n",
              "    }\n",
              "\n",
              "    .colab-df-convert:hover {\n",
              "      background-color: #E2EBFA;\n",
              "      box-shadow: 0px 1px 2px rgba(60, 64, 67, 0.3), 0px 1px 3px 1px rgba(60, 64, 67, 0.15);\n",
              "      fill: #174EA6;\n",
              "    }\n",
              "\n",
              "    .colab-df-buttons div {\n",
              "      margin-bottom: 4px;\n",
              "    }\n",
              "\n",
              "    [theme=dark] .colab-df-convert {\n",
              "      background-color: #3B4455;\n",
              "      fill: #D2E3FC;\n",
              "    }\n",
              "\n",
              "    [theme=dark] .colab-df-convert:hover {\n",
              "      background-color: #434B5C;\n",
              "      box-shadow: 0px 1px 3px 1px rgba(0, 0, 0, 0.15);\n",
              "      filter: drop-shadow(0px 1px 2px rgba(0, 0, 0, 0.3));\n",
              "      fill: #FFFFFF;\n",
              "    }\n",
              "  </style>\n",
              "\n",
              "    <script>\n",
              "      const buttonEl =\n",
              "        document.querySelector('#df-0fdb8e4e-34b6-41ef-9c81-1298e2b89cbd button.colab-df-convert');\n",
              "      buttonEl.style.display =\n",
              "        google.colab.kernel.accessAllowed ? 'block' : 'none';\n",
              "\n",
              "      async function convertToInteractive(key) {\n",
              "        const element = document.querySelector('#df-0fdb8e4e-34b6-41ef-9c81-1298e2b89cbd');\n",
              "        const dataTable =\n",
              "          await google.colab.kernel.invokeFunction('convertToInteractive',\n",
              "                                                    [key], {});\n",
              "        if (!dataTable) return;\n",
              "\n",
              "        const docLinkHtml = 'Like what you see? Visit the ' +\n",
              "          '<a target=\"_blank\" href=https://colab.research.google.com/notebooks/data_table.ipynb>data table notebook</a>'\n",
              "          + ' to learn more about interactive tables.';\n",
              "        element.innerHTML = '';\n",
              "        dataTable['output_type'] = 'display_data';\n",
              "        await google.colab.output.renderOutput(dataTable, element);\n",
              "        const docLink = document.createElement('div');\n",
              "        docLink.innerHTML = docLinkHtml;\n",
              "        element.appendChild(docLink);\n",
              "      }\n",
              "    </script>\n",
              "  </div>\n",
              "\n",
              "\n",
              "<div id=\"df-6584e43f-2f16-4c1c-aa88-2e783a25ecc2\">\n",
              "  <button class=\"colab-df-quickchart\" onclick=\"quickchart('df-6584e43f-2f16-4c1c-aa88-2e783a25ecc2')\"\n",
              "            title=\"Suggest charts\"\n",
              "            style=\"display:none;\">\n",
              "\n",
              "<svg xmlns=\"http://www.w3.org/2000/svg\" height=\"24px\"viewBox=\"0 0 24 24\"\n",
              "     width=\"24px\">\n",
              "    <g>\n",
              "        <path d=\"M19 3H5c-1.1 0-2 .9-2 2v14c0 1.1.9 2 2 2h14c1.1 0 2-.9 2-2V5c0-1.1-.9-2-2-2zM9 17H7v-7h2v7zm4 0h-2V7h2v10zm4 0h-2v-4h2v4z\"/>\n",
              "    </g>\n",
              "</svg>\n",
              "  </button>\n",
              "\n",
              "<style>\n",
              "  .colab-df-quickchart {\n",
              "      --bg-color: #E8F0FE;\n",
              "      --fill-color: #1967D2;\n",
              "      --hover-bg-color: #E2EBFA;\n",
              "      --hover-fill-color: #174EA6;\n",
              "      --disabled-fill-color: #AAA;\n",
              "      --disabled-bg-color: #DDD;\n",
              "  }\n",
              "\n",
              "  [theme=dark] .colab-df-quickchart {\n",
              "      --bg-color: #3B4455;\n",
              "      --fill-color: #D2E3FC;\n",
              "      --hover-bg-color: #434B5C;\n",
              "      --hover-fill-color: #FFFFFF;\n",
              "      --disabled-bg-color: #3B4455;\n",
              "      --disabled-fill-color: #666;\n",
              "  }\n",
              "\n",
              "  .colab-df-quickchart {\n",
              "    background-color: var(--bg-color);\n",
              "    border: none;\n",
              "    border-radius: 50%;\n",
              "    cursor: pointer;\n",
              "    display: none;\n",
              "    fill: var(--fill-color);\n",
              "    height: 32px;\n",
              "    padding: 0;\n",
              "    width: 32px;\n",
              "  }\n",
              "\n",
              "  .colab-df-quickchart:hover {\n",
              "    background-color: var(--hover-bg-color);\n",
              "    box-shadow: 0 1px 2px rgba(60, 64, 67, 0.3), 0 1px 3px 1px rgba(60, 64, 67, 0.15);\n",
              "    fill: var(--button-hover-fill-color);\n",
              "  }\n",
              "\n",
              "  .colab-df-quickchart-complete:disabled,\n",
              "  .colab-df-quickchart-complete:disabled:hover {\n",
              "    background-color: var(--disabled-bg-color);\n",
              "    fill: var(--disabled-fill-color);\n",
              "    box-shadow: none;\n",
              "  }\n",
              "\n",
              "  .colab-df-spinner {\n",
              "    border: 2px solid var(--fill-color);\n",
              "    border-color: transparent;\n",
              "    border-bottom-color: var(--fill-color);\n",
              "    animation:\n",
              "      spin 1s steps(1) infinite;\n",
              "  }\n",
              "\n",
              "  @keyframes spin {\n",
              "    0% {\n",
              "      border-color: transparent;\n",
              "      border-bottom-color: var(--fill-color);\n",
              "      border-left-color: var(--fill-color);\n",
              "    }\n",
              "    20% {\n",
              "      border-color: transparent;\n",
              "      border-left-color: var(--fill-color);\n",
              "      border-top-color: var(--fill-color);\n",
              "    }\n",
              "    30% {\n",
              "      border-color: transparent;\n",
              "      border-left-color: var(--fill-color);\n",
              "      border-top-color: var(--fill-color);\n",
              "      border-right-color: var(--fill-color);\n",
              "    }\n",
              "    40% {\n",
              "      border-color: transparent;\n",
              "      border-right-color: var(--fill-color);\n",
              "      border-top-color: var(--fill-color);\n",
              "    }\n",
              "    60% {\n",
              "      border-color: transparent;\n",
              "      border-right-color: var(--fill-color);\n",
              "    }\n",
              "    80% {\n",
              "      border-color: transparent;\n",
              "      border-right-color: var(--fill-color);\n",
              "      border-bottom-color: var(--fill-color);\n",
              "    }\n",
              "    90% {\n",
              "      border-color: transparent;\n",
              "      border-bottom-color: var(--fill-color);\n",
              "    }\n",
              "  }\n",
              "</style>\n",
              "\n",
              "  <script>\n",
              "    async function quickchart(key) {\n",
              "      const quickchartButtonEl =\n",
              "        document.querySelector('#' + key + ' button');\n",
              "      quickchartButtonEl.disabled = true;  // To prevent multiple clicks.\n",
              "      quickchartButtonEl.classList.add('colab-df-spinner');\n",
              "      try {\n",
              "        const charts = await google.colab.kernel.invokeFunction(\n",
              "            'suggestCharts', [key], {});\n",
              "      } catch (error) {\n",
              "        console.error('Error during call to suggestCharts:', error);\n",
              "      }\n",
              "      quickchartButtonEl.classList.remove('colab-df-spinner');\n",
              "      quickchartButtonEl.classList.add('colab-df-quickchart-complete');\n",
              "    }\n",
              "    (() => {\n",
              "      let quickchartButtonEl =\n",
              "        document.querySelector('#df-6584e43f-2f16-4c1c-aa88-2e783a25ecc2 button');\n",
              "      quickchartButtonEl.style.display =\n",
              "        google.colab.kernel.accessAllowed ? 'block' : 'none';\n",
              "    })();\n",
              "  </script>\n",
              "</div>\n",
              "    </div>\n",
              "  </div>\n"
            ]
          },
          "metadata": {},
          "execution_count": 79
        }
      ]
    },
    {
      "cell_type": "code",
      "source": [
        "# Trực quan hóa so sánh kết quả trên tập test và kết quả dự đoán\n",
        "x_ax = range(len(Y_test))\n",
        "plt.figure(figsize=(25, 6))\n",
        "plt.plot(x_ax, Y_test, linewidth=3, label=\"original\")\n",
        "plt.plot(x_ax, Y_predict, linewidth=3.5, label=\"predicted\")\n",
        "plt.title(\"Trực quan hóa so sánh kết quả trên tập test và kết quả dự đoán\")\n",
        "plt.xlabel('Sale')\n",
        "plt.ylabel('Market Value')\n",
        "plt.legend(loc='best',fancybox=True, shadow=True)\n",
        "plt.grid(True)\n",
        "plt.show()"
      ],
      "metadata": {
        "colab": {
          "base_uri": "https://localhost:8080/",
          "height": 566
        },
        "id": "8BVY9_t2rzXg",
        "outputId": "8bf99c98-e572-4ec2-a305-3ec1f1aaa7b4"
      },
      "execution_count": null,
      "outputs": [
        {
          "output_type": "display_data",
          "data": {
            "text/plain": [
              "<Figure size 2500x600 with 1 Axes>"
            ],
            "image/png": "[encoded data removed]"
          },
          "metadata": {}
        }
      ]
    },
    {
      "cell_type": "markdown",
      "source": [
        "# Hướng 3 (Ridge Regression)"
      ],
      "metadata": {
        "id": "GxMEqWo3sCzF"
      }
    },
    {
      "cell_type": "code",
      "source": [
        "print(X_train)"
      ],
      "metadata": {
        "colab": {
          "base_uri": "https://localhost:8080/"
        },
        "id": "jYWV4BVOOFX7",
        "outputId": "26f17e48-dc2d-4d8f-ca0c-4f53ee2939d3"
      },
      "execution_count": null,
      "outputs": [
        {
          "output_type": "stream",
          "name": "stdout",
          "text": [
            "DataFrame[Sale: double]\n"
          ]
        }
      ]
    },
    {
      "cell_type": "code",
      "source": [
        "X_train_values = np.array(X_train.rdd.map(lambda x: x[0]).collect())\n",
        "Y_train_values = np.array(Y_train.rdd.map(lambda x: x[0]).collect())\n",
        "X_test_values = np.array(X_test.rdd.map(lambda x: x[0]).collect())"
      ],
      "metadata": {
        "id": "t5PIHLE_srDn"
      },
      "execution_count": null,
      "outputs": []
    },
    {
      "cell_type": "code",
      "source": [
        "print(Y_test)"
      ],
      "metadata": {
        "colab": {
          "base_uri": "https://localhost:8080/"
        },
        "id": "finlShAfOYaR",
        "outputId": "be660d39-797c-4a20-8ed8-534a49eb8bbe"
      },
      "execution_count": null,
      "outputs": [
        {
          "output_type": "stream",
          "name": "stdout",
          "text": [
            "DataFrame[MarketValue: double]\n"
          ]
        }
      ]
    },
    {
      "cell_type": "code",
      "source": [
        "Y_test_values = np.array(Y_test.rdd.map(lambda x: x[0]).collect())"
      ],
      "metadata": {
        "id": "9CYi2URwNd4h"
      },
      "execution_count": null,
      "outputs": []
    },
    {
      "cell_type": "code",
      "source": [
        "# Tính mean\n",
        "def mean(data):\n",
        "    return np.mean(data)"
      ],
      "metadata": {
        "id": "wNs7bylcHl3d"
      },
      "execution_count": null,
      "outputs": []
    },
    {
      "cell_type": "code",
      "source": [
        "def deno_slope(data, mean):\n",
        "    return np.sum((data - mean) ** 2)\n"
      ],
      "metadata": {
        "id": "neH5w6-MH-1v"
      },
      "execution_count": null,
      "outputs": []
    },
    {
      "cell_type": "code",
      "source": [
        "# Hàm tính tử số\n",
        "def nume_slope(X, mean_X, y, mean_y):\n",
        "    common_array = np.column_stack((X, y))\n",
        "    return np.sum((common_array[:, 0] - mean_X) * (common_array[:, 1] - mean_y))\n"
      ],
      "metadata": {
        "id": "vKhaO5MhIP_x"
      },
      "execution_count": null,
      "outputs": []
    },
    {
      "cell_type": "code",
      "source": [
        "# Hàm tính hệ số B0, B1 của Ridge Regression\n",
        "def coefficients(X, y, lambda_param):\n",
        "    X_mean, y_mean = mean(X), mean(y)\n",
        "    b1_nume = nume_slope(X, X_mean, y, y_mean)\n",
        "    b1_deno = deno_slope(X, X_mean) + lambda_param\n",
        "    b1 = b1_nume / b1_deno\n",
        "    b0 = y_mean - b1 * X_mean\n",
        "    return b0, b1"
      ],
      "metadata": {
        "id": "2CxCrACHIRdy"
      },
      "execution_count": null,
      "outputs": []
    },
    {
      "cell_type": "code",
      "source": [
        "# Hàm dự đoán\n",
        "def predict(X, b0, b1):\n",
        "    return X * b1 + b0"
      ],
      "metadata": {
        "id": "_q9YG-sSITXK"
      },
      "execution_count": null,
      "outputs": []
    },
    {
      "cell_type": "code",
      "source": [
        "# Hàm tính hàm loss\n",
        "def ridge_loss(X, y, b0, b1, lambda_param):\n",
        "    y_pred = predict(X, b0, b1)\n",
        "    loss = np.mean((y_pred - y) ** 2) + lambda_param * b1 ** 2\n",
        "    return loss"
      ],
      "metadata": {
        "id": "Flk29loOIXKx"
      },
      "execution_count": null,
      "outputs": []
    },
    {
      "cell_type": "code",
      "source": [
        "lambda_param = 0.1\n",
        "\n",
        "# Tính hệ số B0, B1 của Ridge Regression\n",
        "b0, b1 = coefficients(X_train_values, Y_train_values, lambda_param)"
      ],
      "metadata": {
        "id": "jTtuojePIsPg"
      },
      "execution_count": null,
      "outputs": []
    },
    {
      "cell_type": "code",
      "source": [
        "# Tính hàm loss trên tập train\n",
        "loss_train = ridge_loss(X_train_values, Y_train_values, b0, b1, lambda_param)"
      ],
      "metadata": {
        "id": "94Z4VMZxIwpF"
      },
      "execution_count": null,
      "outputs": []
    },
    {
      "cell_type": "code",
      "source": [
        "# Tính hàm loss trên tập test\n",
        "loss_test = ridge_loss(X_test_values,Y_test_values, b0, b1, lambda_param)"
      ],
      "metadata": {
        "id": "jmR7OpjBI0S8"
      },
      "execution_count": null,
      "outputs": []
    },
    {
      "cell_type": "code",
      "source": [
        "print(f\"Intercept (B0): {b0}\")\n",
        "print(f\"Slope (B1): {b1}\")\n",
        "print(f\"Loss on training set: {loss_train}\")\n",
        "print(f\"Loss on testing set: {loss_test}\")"
      ],
      "metadata": {
        "colab": {
          "base_uri": "https://localhost:8080/"
        },
        "id": "7f2FKgVNI76Y",
        "outputId": "76ad52c3-da20-4f82-86ca-b9540e5e6a90"
      },
      "execution_count": null,
      "outputs": [
        {
          "output_type": "stream",
          "name": "stdout",
          "text": [
            "Intercept (B0): 2.10535934090683\n",
            "Slope (B1): 0.8938019943566647\n",
            "Loss on training set: 53.31384670733413\n",
            "Loss on testing set: 49.63025683471783\n"
          ]
        }
      ]
    },
    {
      "cell_type": "code",
      "source": [
        "# Hàm tính RMSE\n",
        "def rmse_metric(actual, predicted):\n",
        "    return np.sqrt(np.mean((actual - predicted) ** 2))"
      ],
      "metadata": {
        "id": "FAD6zx_ZJAtT"
      },
      "execution_count": null,
      "outputs": []
    },
    {
      "cell_type": "code",
      "source": [
        "# Hàm đánh giá mô hình dự đoán\n",
        "def evaluate_model(X, y, b0, b1):\n",
        "    y_pred = predict(X, b0, b1)\n",
        "    rmse = rmse_metric(y, y_pred)\n",
        "    return rmse\n"
      ],
      "metadata": {
        "id": "WAh2jF2lJEaK"
      },
      "execution_count": null,
      "outputs": []
    },
    {
      "cell_type": "code",
      "source": [
        "# Đánh giá mô hình trên tập train\n",
        "rmse_train = evaluate_model(X_train_values, Y_train_values, b0, b1)\n"
      ],
      "metadata": {
        "id": "kSI1IiWMJHpN"
      },
      "execution_count": null,
      "outputs": []
    },
    {
      "cell_type": "code",
      "source": [
        "# Đánh giá mô hình trên tập test\n",
        "rmse_test = evaluate_model(X_test_values,Y_test_values, b0, b1)\n",
        "# Đánh giá mô hình trên tập train\n",
        "rmse_train = evaluate_model(X_train_values, Y_train_values, b0, b1)\n",
        "print(f\"RMSE on training set: {rmse_train}\")\n",
        "print(f\"RMSE on testing set: {rmse_test}\")"
      ],
      "metadata": {
        "colab": {
          "base_uri": "https://localhost:8080/"
        },
        "id": "nYOcpsNUJJir",
        "outputId": "929428f9-84fe-4115-d878-a7e35f82ad3e"
      },
      "execution_count": null,
      "outputs": [
        {
          "output_type": "stream",
          "name": "stdout",
          "text": [
            "RMSE on training set: 7.296160531870344\n",
            "RMSE on testing set: 7.039202272573664\n"
          ]
        }
      ]
    },
    {
      "cell_type": "code",
      "source": [
        "start = time.time()\n",
        "prediction = predict(X_test_values, b0, b1)\n",
        "end = time.time()\n",
        "run_time_HL3 = end - start\n",
        "print(\">>>> Run time:\" + str(run_time_HL3) + \"(s)\")"
      ],
      "metadata": {
        "colab": {
          "base_uri": "https://localhost:8080/"
        },
        "id": "Z84fXicCJh_B",
        "outputId": "9ffdf3d4-fb2b-440b-f459-d4b5ff89f40f"
      },
      "execution_count": null,
      "outputs": [
        {
          "output_type": "stream",
          "name": "stdout",
          "text": [
            ">>>> Run time:0.00018906593322753906(s)\n"
          ]
        }
      ]
    },
    {
      "cell_type": "code",
      "source": [
        "# Trực quan hóa so sánh kết quả trên tập test và kết quả dự đoán\n",
        "x_ax = range(len(X_test_values))\n",
        "\n",
        "y_pred_values = predict(X_test_values, b0, b1)\n",
        "\n",
        "plt.figure(figsize=(25, 6))\n",
        "plt.plot(x_ax, Y_test_values, linewidth=3, label=\"original\")\n",
        "plt.plot(x_ax, y_pred_values, linewidth=3.5, label=\"predicted\")\n",
        "plt.title(\"Trực quan hóa so sánh kết quả trên tập test và kết quả dự đoán\")\n",
        "plt.xlabel('Sale')\n",
        "plt.ylabel('Market Values')\n",
        "plt.legend(loc='best',fancybox=True, shadow=True)\n",
        "plt.grid(True)\n",
        "plt.show()"
      ],
      "metadata": {
        "colab": {
          "base_uri": "https://localhost:8080/",
          "height": 566
        },
        "id": "WoaoL_WuJU1H",
        "outputId": "8f6c4b5d-e59d-4deb-8375-36e196c2235b"
      },
      "execution_count": null,
      "outputs": [
        {
          "output_type": "display_data",
          "data": {
            "text/plain": [
              "<Figure size 2500x600 with 1 Axes>"
            ],
            "image/png": "[encoded data removed]"
          },
          "metadata": {}
        }
      ]
    },
    {
      "cell_type": "markdown",
      "source": [
        "# So sánh thuật toán"
      ],
      "metadata": {
        "id": "aUOBQD3QOJyM"
      }
    },
    {
      "cell_type": "code",
      "source": [
        "run_time_reg1, run_time_HL2, run_time_HL3"
      ],
      "metadata": {
        "colab": {
          "base_uri": "https://localhost:8080/"
        },
        "id": "L6yNT-XAOJPO",
        "outputId": "e4826dcc-bd30-48e9-f2be-a89922afebe0"
      },
      "execution_count": null,
      "outputs": [
        {
          "output_type": "execute_result",
          "data": {
            "text/plain": [
              "(2.2086126804351807, 3.4489991664886475, 0.00018906593322753906)"
            ]
          },
          "metadata": {},
          "execution_count": 106
        }
      ]
    },
    {
      "cell_type": "code",
      "source": [
        "\n",
        "run_time = [run_time_reg1, run_time_HL2, run_time_HL3]\n",
        "bars = ('Hướng làm 1', 'Hướng làm 2', 'Hướng làm 3')\n",
        "x_pos = np.arange(len(bars))\n",
        "\n",
        "# Create bars with different colors\n",
        "plt.figure(figsize=(10,6))\n",
        "plt.bar(x_pos, run_time, color=['royalblue', 'cornflowerblue', 'lightsteelblue'])\n",
        "\n",
        "# Create names on the x-axis\n",
        "plt.title('Thời gian thực thi mô hình dự đoán', fontsize= 16)\n",
        "plt.ylabel(\"Thời gian (s)\",fontsize=13)\n",
        "plt.xticks(x_pos, bars, fontsize=12, rotation = 40)\n",
        "plt.yticks(fontsize=12)\n",
        "plt.grid(alpha=0.2)\n",
        "plt.show()\n",
        "\n",
        "# Show graph\n",
        "plt.show()"
      ],
      "metadata": {
        "colab": {
          "base_uri": "https://localhost:8080/",
          "height": 617
        },
        "id": "-MDqFw3GOUy-",
        "outputId": "037319e3-66bb-4281-f4d8-fb938666026f"
      },
      "execution_count": null,
      "outputs": [
        {
          "output_type": "display_data",
          "data": {
            "text/plain": [
              "<Figure size 1000x600 with 1 Axes>"
            ],
            "image/png": "[encoded data removed]"
          },
          "metadata": {}
        }
      ]
    },
    {
      "cell_type": "code",
      "source": [
        "evaluate_model_HL1, evaluate_model_2, rmse_test"
      ],
      "metadata": {
        "colab": {
          "base_uri": "https://localhost:8080/"
        },
        "id": "xSFU68MOOiUb",
        "outputId": "bc9cf515-1a60-405e-9700-6427bb5dbc10"
      },
      "execution_count": null,
      "outputs": [
        {
          "output_type": "execute_result",
          "data": {
            "text/plain": [
              "(7.039201229422485, 7.039201229422472, 7.039202272573664)"
            ]
          },
          "metadata": {},
          "execution_count": 108
        }
      ]
    },
    {
      "cell_type": "code",
      "source": [
        "# create a dataset\n",
        "run_time = [evaluate_model_HL1, evaluate_model_2, rmse_test]\n",
        "bars = ('Hướng làm 1', 'Hướng làm 2', 'Hướng làm 3')\n",
        "x_pos = np.arange(len(bars))\n",
        "\n",
        "# Create bars with different colors\n",
        "plt.figure(figsize=(10,6))\n",
        "plt.bar(x_pos, run_time, color=['royalblue', 'cornflowerblue', 'lightsteelblue'])\n",
        "\n",
        "# Create names on the x-axis\n",
        "plt.title('Độ chính xác thông qua chỉ số RMSE', fontsize= 16)\n",
        "plt.ylabel(\"Điểm đánh giá\",fontsize=13)\n",
        "plt.xticks(x_pos, bars, fontsize=12, rotation = 40)\n",
        "plt.yticks(fontsize=12)\n",
        "plt.grid(alpha=0.2)\n",
        "plt.show();\n",
        "\n",
        "# Show graph\n",
        "plt.show()"
      ],
      "metadata": {
        "colab": {
          "base_uri": "https://localhost:8080/",
          "height": 618
        },
        "id": "WPG1NME_S_h-",
        "outputId": "3ba95cc1-95d8-401f-9470-1d6d869a5cb5"
      },
      "execution_count": null,
      "outputs": [
        {
          "output_type": "display_data",
          "data": {
            "text/plain": [
              "<Figure size 1000x600 with 1 Axes>"
            ],
            "image/png": "[encoded data removed]"
          },
          "metadata": {}
        }
      ]
    }
  ],
  "metadata": {
    "colab": {
      "provenance": [],
      "toc_visible": true
    },
    "kernelspec": {
      "display_name": "Python 3",
      "name": "python3"
    },
    "language_info": {
      "name": "python"
    }
  },
  "nbformat": 4,
  "nbformat_minor": 0
}