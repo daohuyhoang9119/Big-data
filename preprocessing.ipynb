{
  "cells": [
    {
      "cell_type": "code",
      "execution_count": 1,
      "metadata": {
        "colab": {
          "base_uri": "https://localhost:8080/"
        },
        "id": "j340go2y8Qgf",
        "outputId": "efa7c959-c68a-45f1-d1a3-42d5ea5ecb19"
      },
      "outputs": [
        {
          "name": "stdout",
          "output_type": "stream",
          "text": [
            "Collecting pyspark\n",
            "  Downloading pyspark-3.5.0.tar.gz (316.9 MB)\n",
            "\u001b[2K     \u001b[90m━━━━━━━━━━━━━━━━━━━━━━━━━━━━━━━━━━━━━━━━\u001b[0m \u001b[32m316.9/316.9 MB\u001b[0m \u001b[31m1.5 MB/s\u001b[0m eta \u001b[36m0:00:00\u001b[0m\n",
            "\u001b[?25h  Preparing metadata (setup.py) ... \u001b[?25l\u001b[?25hdone\n",
            "Requirement already satisfied: py4j==0.10.9.7 in /usr/local/lib/python3.10/dist-packages (from pyspark) (0.10.9.7)\n",
            "Building wheels for collected packages: pyspark\n",
            "  Building wheel for pyspark (setup.py) ... \u001b[?25l\u001b[?25hdone\n",
            "  Created wheel for pyspark: filename=pyspark-3.5.0-py2.py3-none-any.whl size=317425345 sha256=d84ea9b9a7c854d7919bec9a86a524663fba292d268dee9e3956a9d3e0895f06\n",
            "  Stored in directory: /root/.cache/pip/wheels/41/4e/10/c2cf2467f71c678cfc8a6b9ac9241e5e44a01940da8fbb17fc\n",
            "Successfully built pyspark\n",
            "Installing collected packages: pyspark\n",
            "Successfully installed pyspark-3.5.0\n"
          ]
        }
      ],
      "source": [
        "import matplotlib.pyplot as plt\n",
        "import seaborn as sns\n",
        "import pandas as pd\n",
        "from pandas import *\n",
        "import numpy as np\n",
        "import plotly.express as ex\n",
        "import plotly.graph_objs as go\n",
        "import plotly.figure_factory as ff\n",
        "from plotly.subplots import make_subplots\n",
        "import plotly.offline as pyo\n",
        "import time\n",
        "!pip install pyspark\n",
        "from pyspark.sql import SparkSession\n",
        "from pyspark.sql.functions import count, when, isnan, col, regexp_replace, length\n",
        "from pyspark.sql.types import *"
      ]
    },
    {
      "cell_type": "code",
      "execution_count": 2,
      "metadata": {
        "colab": {
          "base_uri": "https://localhost:8080/"
        },
        "id": "_GFyoPoj703f",
        "outputId": "fab9ab7a-d6ea-4c5f-f9f4-1611863f6170"
      },
      "outputs": [
        {
          "name": "stdout",
          "output_type": "stream",
          "text": [
            "Mounted at /content/gdrive\n"
          ]
        },
        {
          "data": {
            "text/plain": [
              "1924"
            ]
          },
          "execution_count": 2,
          "metadata": {},
          "output_type": "execute_result"
        }
      ],
      "source": [
        "from google.colab import drive\n",
        "drive.mount('/content/gdrive')\n",
        "spark = SparkSession.builder.appName(\"example\").getOrCreate()\n",
        "\n",
        "\n",
        "file_path = 'gdrive/My Drive/BigData/Final/Top2000CompaniesGlobally.csv'\n",
        "data = spark.read.format(\"csv\")\\\n",
        "        .option(\"header\",\"true\")\\\n",
        "        .option(\"inferSchema\",\"true\")\\\n",
        "        .load(file_path)\n",
        "data.count()"
      ]
    },
    {
      "cell_type": "code",
      "execution_count": 3,
      "metadata": {
        "colab": {
          "base_uri": "https://localhost:8080/"
        },
        "id": "Bt1AGRHn3ktM",
        "outputId": "9ba8fdc1-132c-4532-c6ec-a02744eadb24"
      },
      "outputs": [
        {
          "name": "stdout",
          "output_type": "stream",
          "text": [
            "+-----------+--------------------+----------------+------------------+-----------------+-----------------------+---------------+-------------+----------+----------+\n",
            "|Global Rank|             Company|Sales ($billion)|Profits ($billion)|Assets ($billion)|Market Value ($billion)|        Country|    Continent|  Latitude| Longitude|\n",
            "+-----------+--------------------+----------------+------------------+-----------------+-----------------------+---------------+-------------+----------+----------+\n",
            "|          1|                ICBC|           134.8|              37.8|           2813.5|                  237.3|          China|         Asia|  35.86166|104.195397|\n",
            "|          2|China Constructio...|           113.1|              30.6|           2241.0|                  202.0|          China|         Asia|  35.86166|104.195397|\n",
            "|          3|      JPMorgan Chase|           108.2|              21.3|           2359.1|                  191.4|            USA|North America|  37.09024|-95.712891|\n",
            "|          4|    General Electric|           147.4|              13.6|            685.3|                  243.7|            USA|North America|  37.09024|-95.712891|\n",
            "|          5|         Exxon Mobil|           420.7|              44.9|            333.8|                  400.4|            USA|North America|  37.09024|-95.712891|\n",
            "|          6|       HSBC Holdings|           104.9|              14.3|           2684.1|                  201.3|             UK|       Europe| 55.378051| -3.435973|\n",
            "|          7|   Royal Dutch Shell|           467.2|              26.6|            360.3|                  213.1|The Netherlands|       Europe| 52.132633|  5.291266|\n",
            "|          8|Agricultural Bank...|           103.0|              23.0|           2124.2|                  150.8|          China|         Asia|  35.86166|104.195397|\n",
            "|          9|          PetroChina|           308.9|              18.3|            347.8|                  261.2|          China|         Asia|  35.86166|104.195397|\n",
            "|          9|  Berkshire Hathaway|           162.5|              14.8|            427.5|                  252.8|            USA|North America|  37.09024|-95.712891|\n",
            "|         11|       Bank of China|            98.1|              22.1|           2033.8|                  131.7|          China|         Asia|  35.86166|104.195397|\n",
            "|         12|         Wells Fargo|            91.2|              18.9|           1423.0|                  201.3|            USA|North America|  37.09024|-95.712891|\n",
            "|         13|             Chevron|           222.6|              26.2|            233.0|                  232.5|            USA|North America|  37.09024|-95.712891|\n",
            "|         14|    Volkswagen Group|           254.0|              28.6|            408.2|                   94.4|        Germany|       Europe| 51.165691| 10.451526|\n",
            "|         15|     Wal-Mart Stores|           469.2|              17.0|            203.1|                  242.5|            USA|North America|  37.09024|-95.712891|\n",
            "|         15|               Apple|           164.7|              41.7|            196.1|                  416.6|            USA|North America|  37.09024|-95.712891|\n",
            "|         17|             Gazprom|           144.0|              40.6|            339.3|                  111.4|         Russia|       Europe|  61.52401|105.318756|\n",
            "|         18|                  BP|           370.9|              11.6|            301.0|                  130.4|             UK|       Europe| 55.378051| -3.435973|\n",
            "|         19|           Citigroup|            90.7|               7.5|           1864.7|                  143.6|            USA|North America|  37.09024|-95.712891|\n",
            "|         20|           Petrobras|           144.1|              11.0|            331.6|                  120.7|         Brazil|South America|-14.235004| -51.92528|\n",
            "+-----------+--------------------+----------------+------------------+-----------------+-----------------------+---------------+-------------+----------+----------+\n",
            "only showing top 20 rows\n",
            "\n"
          ]
        }
      ],
      "source": [
        "data.show()"
      ]
    },
    {
      "cell_type": "code",
      "execution_count": 4,
      "metadata": {
        "colab": {
          "base_uri": "https://localhost:8080/"
        },
        "id": "oH2F7rRD4Azz",
        "outputId": "be5cf909-b4b0-45b9-f97e-bf412646147d"
      },
      "outputs": [
        {
          "name": "stdout",
          "output_type": "stream",
          "text": [
            "root\n",
            " |-- Global Rank: integer (nullable = true)\n",
            " |-- Company: string (nullable = true)\n",
            " |-- Sales ($billion): double (nullable = true)\n",
            " |-- Profits ($billion): double (nullable = true)\n",
            " |-- Assets ($billion): double (nullable = true)\n",
            " |-- Market Value ($billion): double (nullable = true)\n",
            " |-- Country: string (nullable = true)\n",
            " |-- Continent: string (nullable = true)\n",
            " |-- Latitude: double (nullable = true)\n",
            " |-- Longitude: double (nullable = true)\n",
            "\n"
          ]
        }
      ],
      "source": [
        "data.printSchema()"
      ]
    },
    {
      "cell_type": "code",
      "execution_count": 5,
      "metadata": {
        "colab": {
          "base_uri": "https://localhost:8080/"
        },
        "id": "PwRYbcXg4GyO",
        "outputId": "665463c3-bb2c-4283-ebe0-1666a0aff7fb"
      },
      "outputs": [
        {
          "name": "stdout",
          "output_type": "stream",
          "text": [
            "+-------+-----------------+--------------------+------------------+------------------+-----------------+-----------------------+---------+-------------+------------------+------------------+\n",
            "|summary|      Global Rank|             Company|  Sales ($billion)|Profits ($billion)|Assets ($billion)|Market Value ($billion)|  Country|    Continent|          Latitude|         Longitude|\n",
            "+-------+-----------------+--------------------+------------------+------------------+-----------------+-----------------------+---------+-------------+------------------+------------------+\n",
            "|  count|             1924|                1924|              1924|              1924|             1924|                   1924|     1924|         1924|              1924|              1924|\n",
            "|   mean|997.2328482328483|                NULL|19.265904365904273|1.2260395010395047|79.50779625779606|     19.558160083160104|     NULL|         NULL|34.618746549376155|15.455664304573906|\n",
            "| stddev|575.5027807871161|                NULL| 34.68391064277543|3.4138308377185993| 261.098774585391|      32.95702335461456|     NULL|         NULL| 18.25949871288175| 92.63965491779362|\n",
            "|    min|                1|                  3M|               0.0|             -24.5|              1.0|                    0.0|Australia|       Africa|        -40.900557|       -106.346771|\n",
            "|    max|             1999|Zoomlion Heavy In...|             469.2|              44.9|           3226.2|                  416.6|  Vietnam|South America|          61.92411|        174.885971|\n",
            "+-------+-----------------+--------------------+------------------+------------------+-----------------+-----------------------+---------+-------------+------------------+------------------+\n",
            "\n"
          ]
        }
      ],
      "source": [
        "data.describe().show()"
      ]
    },
    {
      "cell_type": "code",
      "execution_count": null,
      "metadata": {
        "colab": {
          "base_uri": "https://localhost:8080/"
        },
        "id": "skndQkmO4MRa",
        "outputId": "a9011bfc-e6fe-4f48-bf89-82a7902eba02"
      },
      "outputs": [
        {
          "name": "stdout",
          "output_type": "stream",
          "text": [
            "+-----------+-------+----------------+------------------+-----------------+-----------------------+-------+---------+--------+---------+\n",
            "|Global Rank|Company|Sales ($billion)|Profits ($billion)|Assets ($billion)|Market Value ($billion)|Country|Continent|Latitude|Longitude|\n",
            "+-----------+-------+----------------+------------------+-----------------+-----------------------+-------+---------+--------+---------+\n",
            "|          0|      0|               0|                 0|                0|                      0|      0|        0|       0|        0|\n",
            "+-----------+-------+----------------+------------------+-----------------+-----------------------+-------+---------+--------+---------+\n",
            "\n"
          ]
        }
      ],
      "source": [
        "data.select([count(when(isnan(c) | col(c).isNull(), c)).alias(c) for c in data.columns]).show()"
      ]
    },
    {
      "cell_type": "code",
      "execution_count": 7,
      "metadata": {
        "id": "2jDx0zjG5Et4"
      },
      "outputs": [],
      "source": [
        "data.createOrReplaceTempView(\"data\")"
      ]
    },
    {
      "cell_type": "code",
      "execution_count": 8,
      "metadata": {
        "colab": {
          "base_uri": "https://localhost:8080/"
        },
        "id": "PAWMYUmi5JDe",
        "outputId": "8e6d3945-dc3a-487e-87f3-cfa841974399"
      },
      "outputs": [
        {
          "name": "stdout",
          "output_type": "stream",
          "text": [
            "+-----+-----------+\n",
            "| Sale|MarketValue|\n",
            "+-----+-----------+\n",
            "|134.8|      237.3|\n",
            "|113.1|      202.0|\n",
            "|108.2|      191.4|\n",
            "|147.4|      243.7|\n",
            "|420.7|      400.4|\n",
            "+-----+-----------+\n",
            "only showing top 5 rows\n",
            "\n"
          ]
        }
      ],
      "source": [
        "df = spark.sql(\"SELECT `Sales ($billion)` as Sale,`Market Value ($billion)` as MarketValue FROM data\")\n",
        "df.show(5)"
      ]
    },
    {
      "cell_type": "code",
      "execution_count": 10,
      "metadata": {
        "colab": {
          "base_uri": "https://localhost:8080/"
        },
        "id": "JslhyDUMOQEB",
        "outputId": "e9e13e82-0a2c-49be-83af-a79eafde1974"
      },
      "outputs": [
        {
          "name": "stdout",
          "output_type": "stream",
          "text": [
            "+----+\n",
            "|Sale|\n",
            "+----+\n",
            "|0.0 |\n",
            "|0.2 |\n",
            "|0.3 |\n",
            "|0.4 |\n",
            "|0.5 |\n",
            "|0.6 |\n",
            "|0.7 |\n",
            "|0.8 |\n",
            "|0.9 |\n",
            "|1.0 |\n",
            "+----+\n",
            "only showing top 10 rows\n",
            "\n"
          ]
        }
      ],
      "source": [
        "df.select('Sale').distinct().orderBy('Sales ($billion)').show(10, False)"
      ]
    },
    {
      "cell_type": "code",
      "execution_count": 11,
      "metadata": {
        "colab": {
          "base_uri": "https://localhost:8080/"
        },
        "id": "wyHUyYlHOPxk",
        "outputId": "7264c646-b174-4f20-a19f-dd6a503ea755"
      },
      "outputs": [
        {
          "name": "stdout",
          "output_type": "stream",
          "text": [
            "+-----------+\n",
            "|MarketValue|\n",
            "+-----------+\n",
            "|0.0        |\n",
            "|0.1        |\n",
            "|0.2        |\n",
            "|0.3        |\n",
            "|0.4        |\n",
            "|0.5        |\n",
            "|0.6        |\n",
            "|0.7        |\n",
            "|0.8        |\n",
            "|0.9        |\n",
            "+-----------+\n",
            "only showing top 10 rows\n",
            "\n"
          ]
        }
      ],
      "source": [
        "df.select('MarketValue').distinct().orderBy('Market Value ($billion)').show(10, False)"
      ]
    },
    {
      "cell_type": "code",
      "execution_count": 13,
      "metadata": {
        "id": "t_7Xxsc2OPVN"
      },
      "outputs": [],
      "source": [
        "sales = df.rdd.map(lambda p: (p.Sale)).collect()"
      ]
    },
    {
      "cell_type": "code",
      "execution_count": 14,
      "metadata": {
        "id": "G0rEmRXilblE"
      },
      "outputs": [],
      "source": [
        "sale_df = DataFrame({'Sale':sales})"
      ]
    },
    {
      "cell_type": "code",
      "execution_count": 22,
      "metadata": {
        "colab": {
          "base_uri": "https://localhost:8080/"
        },
        "id": "KmYDkvRZrGJ6",
        "outputId": "b553004e-186f-450e-e3d6-b3265ef4165b"
      },
      "outputs": [
        {
          "name": "stdout",
          "output_type": "stream",
          "text": [
            "203\n"
          ]
        }
      ],
      "source": [
        "data_min = 0.0\n",
        "data_max = 469.2\n",
        "data_count = 1924\n",
        "data_mean = 19.26\n",
        "data_stddev = 34.68\n",
        "\n",
        "# Calculate interquartile range (IQR)\n",
        "q75, q25 = np.percentile(sale_df['Sale'], [75 ,25])\n",
        "iqr = q75 - q25\n",
        "\n",
        "# Calculate bin width using Freedman-Diaconis rule\n",
        "bin_width = 2 * iqr / (data_count ** (1/3))\n",
        "\n",
        "# Calculate the number of bins using the data range and bin width\n",
        "num_bins = int((data_max - data_min) / bin_width)\n",
        "print(num_bins)"
      ]
    },
    {
      "cell_type": "code",
      "execution_count": 23,
      "metadata": {
        "colab": {
          "base_uri": "https://localhost:8080/",
          "height": 445
        },
        "id": "D2tqUFY4llRw",
        "outputId": "a6781e72-86b8-4e15-be52-9762d04f60c5"
      },
      "outputs": [
        {
          "data": {
            "image/png": "[encoded data removed]",
            "text/plain": [
              "<Figure size 1500x500 with 2 Axes>"
            ]
          },
          "metadata": {},
          "output_type": "display_data"
        }
      ],
      "source": [
        "fig, axes = plt.subplots(nrows=1, ncols=2, figsize=(15,5))\n",
        "sale_df['Sale'].hist(bins=203,ax=axes[0], alpha=0.7)\n",
        "sale_df['Sale'].to_frame().boxplot(ax=axes[1], vert=True);"
      ]
    },
    {
      "cell_type": "code",
      "execution_count": 24,
      "metadata": {
        "colab": {
          "base_uri": "https://localhost:8080/",
          "height": 487
        },
        "id": "lTMKhOwdr2hB",
        "outputId": "d2a88083-3169-4a91-d042-14a01c72f78e"
      },
      "outputs": [
        {
          "data": {
            "image/png": "[encoded data removed]",
            "text/plain": [
              "<Figure size 1500x500 with 2 Axes>"
            ]
          },
          "metadata": {},
          "output_type": "display_data"
        }
      ],
      "source": [
        "# Create a subplot with 1 row and 2 columns, setting the figure size to (15, 5)\n",
        "fig, axes = plt.subplots(nrows=1, ncols=2, figsize=(15, 5))\n",
        "\n",
        "# Plot the histogram of the 'Sale' column in the first subplot (axes[0])\n",
        "sale_df['Sale'].hist(bins=203, ax=axes[0], alpha=0.7)\n",
        "\n",
        "# Plot the boxplot of the 'Sale' column in the second subplot (axes[1])\n",
        "sale_df[['Sale']].boxplot(ax=axes[1], vert=True)\n",
        "\n",
        "# Set labels for the subplots\n",
        "axes[0].set_title('Histogram of Sale')\n",
        "axes[0].set_xlabel('Sale')\n",
        "axes[0].set_ylabel('Frequency')\n",
        "\n",
        "axes[1].set_title('Boxplot of Sale')\n",
        "axes[1].set_ylabel('Sale')\n",
        "\n",
        "# Display the plot\n",
        "plt.show()"
      ]
    },
    {
      "cell_type": "code",
      "execution_count": 25,
      "metadata": {
        "id": "AWaMVfPm68wR"
      },
      "outputs": [],
      "source": [
        "market_value = df.rdd.map(lambda p: (p.MarketValue)).collect()"
      ]
    },
    {
      "cell_type": "code",
      "execution_count": 26,
      "metadata": {
        "id": "Q86ysmh77bz_"
      },
      "outputs": [],
      "source": [
        "market_value_df = DataFrame({'Market_value': market_value})"
      ]
    },
    {
      "cell_type": "code",
      "execution_count": 29,
      "metadata": {
        "colab": {
          "base_uri": "https://localhost:8080/"
        },
        "id": "4PYyF-cVsGzr",
        "outputId": "8495083e-a563-4eb2-dd86-e806a70514a6"
      },
      "outputs": [
        {
          "name": "stdout",
          "output_type": "stream",
          "text": [
            "186\n"
          ]
        }
      ],
      "source": [
        "data_min = 0.0\n",
        "data_max = 416.6\n",
        "data_count = 1924\n",
        "data_mean = 19.558\n",
        "data_stddev = 32.957\n",
        "\n",
        "# Calculate interquartile range (IQR)\n",
        "q75, q25 = np.percentile(market_value_df['Market_value'], [75 ,25])\n",
        "iqr = q75 - q25\n",
        "\n",
        "# Calculate bin width using Freedman-Diaconis rule\n",
        "bin_width = 2 * iqr / (data_count ** (1/3))\n",
        "\n",
        "# Calculate the number of bins using the data range and bin width\n",
        "num_bins = int((data_max - data_min) / bin_width)\n",
        "print(num_bins)"
      ]
    },
    {
      "cell_type": "code",
      "execution_count": 30,
      "metadata": {
        "colab": {
          "base_uri": "https://localhost:8080/",
          "height": 487
        },
        "id": "r2hnnMj8sYZP",
        "outputId": "e08b2bc5-90ef-4b8d-c4a3-ab6aa40f1a62"
      },
      "outputs": [
        {
          "data": {
            "image/png": "[encoded data removed]",
            "text/plain": [
              "<Figure size 1500x500 with 2 Axes>"
            ]
          },
          "metadata": {},
          "output_type": "display_data"
        }
      ],
      "source": [
        "# Create a subplot with 1 row and 2 columns, setting the figure size to (15, 5)\n",
        "fig, axes = plt.subplots(nrows=1, ncols=2, figsize=(15, 5))\n",
        "\n",
        "# Plot the histogram of the 'Sale' column in the first subplot (axes[0])\n",
        "market_value_df['Market_value'].hist(bins=186, ax=axes[0], alpha=0.7)\n",
        "\n",
        "# Plot the boxplot of the 'Sale' column in the second subplot (axes[1])\n",
        "market_value_df[['Market_value']].boxplot(ax=axes[1], vert=True)\n",
        "\n",
        "# Set labels for the subplots\n",
        "axes[0].set_title('Histogram of Sale')\n",
        "axes[0].set_xlabel('Market Value')\n",
        "axes[0].set_ylabel('Frequency')\n",
        "\n",
        "axes[1].set_title('Boxplot of Sale')\n",
        "axes[1].set_ylabel('Market Value')\n",
        "\n",
        "# Display the plot\n",
        "plt.show()"
      ]
    },
    {
      "cell_type": "markdown",
      "metadata": {
        "id": "7Cn4eEkGtWWt"
      },
      "source": [
        "### Phân tích dữ liệu"
      ]
    },
    {
      "cell_type": "code",
      "execution_count": 31,
      "metadata": {
        "id": "7ScV3QOHtYwN"
      },
      "outputs": [],
      "source": [
        "x = df.rdd.map(lambda p: (p.Sale)).collect()\n",
        "y = df.rdd.map(lambda p: (p.MarketValue)).collect()"
      ]
    },
    {
      "cell_type": "code",
      "execution_count": 32,
      "metadata": {
        "id": "pGdQssE8tv4V"
      },
      "outputs": [],
      "source": [
        "data_df = DataFrame({'Sale':x, 'MarketValue':y})"
      ]
    },
    {
      "cell_type": "markdown",
      "metadata": {
        "id": "LeeZ6lSOwCdt"
      },
      "source": [
        "### Chuẩn bị dữ liệu"
      ]
    },
    {
      "cell_type": "code",
      "execution_count": 33,
      "metadata": {
        "colab": {
          "base_uri": "https://localhost:8080/"
        },
        "id": "zo2r8vINvaxP",
        "outputId": "0199334a-2cb2-4b95-bdd1-40cd0d78ba4c"
      },
      "outputs": [
        {
          "name": "stdout",
          "output_type": "stream",
          "text": [
            "+-----+-----------+\n",
            "| Sale|MarketValue|\n",
            "+-----+-----------+\n",
            "|134.8|      237.3|\n",
            "|113.1|      202.0|\n",
            "|108.2|      191.4|\n",
            "|147.4|      243.7|\n",
            "|420.7|      400.4|\n",
            "|104.9|      201.3|\n",
            "|467.2|      213.1|\n",
            "|103.0|      150.8|\n",
            "|308.9|      261.2|\n",
            "|162.5|      252.8|\n",
            "| 98.1|      131.7|\n",
            "| 91.2|      201.3|\n",
            "|222.6|      232.5|\n",
            "|254.0|       94.4|\n",
            "|469.2|      242.5|\n",
            "|164.7|      416.6|\n",
            "|144.0|      111.4|\n",
            "|370.9|      130.4|\n",
            "| 90.7|      143.6|\n",
            "|144.1|      120.7|\n",
            "+-----+-----------+\n",
            "only showing top 20 rows\n",
            "\n"
          ]
        }
      ],
      "source": [
        "df.show()"
      ]
    },
    {
      "cell_type": "code",
      "execution_count": 34,
      "metadata": {
        "id": "vq1QoY7wvbhH"
      },
      "outputs": [],
      "source": [
        "df.createOrReplaceTempView(\"split_data\")\n",
        "X = spark.sql(\"SELECT DOUBLE(Sale) FROM split_data\")\n",
        "Y = spark.sql(\"SELECT DOUBLE(MarketValue) FROM split_data\")"
      ]
    },
    {
      "cell_type": "code",
      "execution_count": 35,
      "metadata": {
        "colab": {
          "base_uri": "https://localhost:8080/"
        },
        "id": "PFga0hoUxJQT",
        "outputId": "1a85c213-046c-4c75-a2e2-d561a49f798f"
      },
      "outputs": [
        {
          "name": "stdout",
          "output_type": "stream",
          "text": [
            "+-----+\n",
            "| Sale|\n",
            "+-----+\n",
            "|134.8|\n",
            "|113.1|\n",
            "|108.2|\n",
            "|147.4|\n",
            "|420.7|\n",
            "|104.9|\n",
            "|467.2|\n",
            "|103.0|\n",
            "|308.9|\n",
            "|162.5|\n",
            "| 98.1|\n",
            "| 91.2|\n",
            "|222.6|\n",
            "|254.0|\n",
            "|469.2|\n",
            "|164.7|\n",
            "|144.0|\n",
            "|370.9|\n",
            "| 90.7|\n",
            "|144.1|\n",
            "+-----+\n",
            "only showing top 20 rows\n",
            "\n"
          ]
        }
      ],
      "source": [
        "X.show(20)"
      ]
    },
    {
      "cell_type": "code",
      "execution_count": 36,
      "metadata": {
        "colab": {
          "base_uri": "https://localhost:8080/"
        },
        "id": "7CGGexaRxOml",
        "outputId": "aaf1fc60-54a9-487f-d06c-84129090c7e2"
      },
      "outputs": [
        {
          "name": "stdout",
          "output_type": "stream",
          "text": [
            "+-----------+\n",
            "|MarketValue|\n",
            "+-----------+\n",
            "|      237.3|\n",
            "|      202.0|\n",
            "|      191.4|\n",
            "|      243.7|\n",
            "|      400.4|\n",
            "|      201.3|\n",
            "|      213.1|\n",
            "|      150.8|\n",
            "|      261.2|\n",
            "|      252.8|\n",
            "|      131.7|\n",
            "|      201.3|\n",
            "|      232.5|\n",
            "|       94.4|\n",
            "|      242.5|\n",
            "|      416.6|\n",
            "|      111.4|\n",
            "|      130.4|\n",
            "|      143.6|\n",
            "|      120.7|\n",
            "+-----------+\n",
            "only showing top 20 rows\n",
            "\n"
          ]
        }
      ],
      "source": [
        "Y.show(20)"
      ]
    },
    {
      "cell_type": "code",
      "execution_count": 37,
      "metadata": {
        "id": "52ZRFTmZwcGb"
      },
      "outputs": [],
      "source": [
        "# Chia dữ liệu theo tỉ lệ train:test 7:3\n",
        "X_train, X_test = X.randomSplit([0.7, 0.3], seed = 2)\n",
        "Y_train, Y_test = Y.randomSplit([0.7, 0.3], seed = 2)"
      ]
    },
    {
      "cell_type": "code",
      "execution_count": 38,
      "metadata": {
        "colab": {
          "base_uri": "https://localhost:8080/"
        },
        "id": "_OXmGus4xUln",
        "outputId": "c33cde77-999a-485e-e2b3-406f1d75d73e"
      },
      "outputs": [
        {
          "name": "stdout",
          "output_type": "stream",
          "text": [
            "+-------+------------------+\n",
            "|summary|              Sale|\n",
            "+-------+------------------+\n",
            "|  count|              1325|\n",
            "|   mean|18.790113207547183|\n",
            "| stddev|34.781117916289176|\n",
            "|    min|               0.0|\n",
            "|    max|             469.2|\n",
            "+-------+------------------+\n",
            "\n"
          ]
        }
      ],
      "source": [
        "X_train.describe().show()"
      ]
    },
    {
      "cell_type": "code",
      "execution_count": 39,
      "metadata": {
        "colab": {
          "base_uri": "https://localhost:8080/"
        },
        "id": "QSuR_w-zxWQP",
        "outputId": "2e88dd48-2c58-46ca-fc56-004582d7f696"
      },
      "outputs": [
        {
          "name": "stdout",
          "output_type": "stream",
          "text": [
            "+-------+-----------------+\n",
            "|summary|             Sale|\n",
            "+-------+-----------------+\n",
            "|  count|              599|\n",
            "|   mean|20.31836393989984|\n",
            "| stddev|34.47352379441042|\n",
            "|    min|              0.3|\n",
            "|    max|            467.2|\n",
            "+-------+-----------------+\n",
            "\n"
          ]
        }
      ],
      "source": [
        "X_test.describe().show()"
      ]
    },
    {
      "cell_type": "code",
      "execution_count": 40,
      "metadata": {
        "colab": {
          "base_uri": "https://localhost:8080/"
        },
        "id": "JjxunSJyxgm6",
        "outputId": "2588bfbd-b252-4531-e812-b55f657cc4c7"
      },
      "outputs": [
        {
          "name": "stdout",
          "output_type": "stream",
          "text": [
            "+-------+------------------+\n",
            "|summary|       MarketValue|\n",
            "+-------+------------------+\n",
            "|  count|              1325|\n",
            "|   mean|18.900000000000002|\n",
            "| stddev|  31.9327848651619|\n",
            "|    min|               0.0|\n",
            "|    max|             416.6|\n",
            "+-------+------------------+\n",
            "\n"
          ]
        }
      ],
      "source": [
        "Y_train.describe().show()"
      ]
    },
    {
      "cell_type": "code",
      "execution_count": 41,
      "metadata": {
        "colab": {
          "base_uri": "https://localhost:8080/"
        },
        "id": "tCZRkgp8xkA2",
        "outputId": "2c26f330-fa94-401b-8d8b-f51299f47ed9"
      },
      "outputs": [
        {
          "name": "stdout",
          "output_type": "stream",
          "text": [
            "+-------+-----------------+\n",
            "|summary|      MarketValue|\n",
            "+-------+-----------------+\n",
            "|  count|              599|\n",
            "|   mean|21.01402337228713|\n",
            "| stddev|35.10057318333682|\n",
            "|    min|              0.2|\n",
            "|    max|            400.4|\n",
            "+-------+-----------------+\n",
            "\n"
          ]
        }
      ],
      "source": [
        "Y_test.describe().show()"
      ]
    },
    {
      "cell_type": "code",
      "execution_count": null,
      "metadata": {
        "id": "ijAXCsQ0xmap"
      },
      "outputs": [],
      "source": []
    }
  ],
  "metadata": {
    "colab": {
      "provenance": []
    },
    "kernelspec": {
      "display_name": "Python 3",
      "name": "python3"
    },
    "language_info": {
      "name": "python"
    }
  },
  "nbformat": 4,
  "nbformat_minor": 0
}
